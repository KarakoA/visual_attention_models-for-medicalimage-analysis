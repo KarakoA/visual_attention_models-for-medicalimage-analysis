{
 "cells": [
  {
   "cell_type": "markdown",
   "metadata": {},
   "source": [
    "# 0. Depdencies & Imports"
   ]
  },
  {
   "cell_type": "code",
   "execution_count": 1,
   "metadata": {},
   "outputs": [
    {
     "name": "stdout",
     "output_type": "stream",
     "text": [
      "Requirement already satisfied: torch in /usr/local/anaconda3/envs/dv3c/lib/python3.8/site-packages (1.5.0)\n",
      "Requirement already satisfied: torchvision in /usr/local/anaconda3/envs/dv3c/lib/python3.8/site-packages (0.6.0)\n",
      "Requirement already satisfied: torchviz in /usr/local/anaconda3/envs/dv3c/lib/python3.8/site-packages (0.0.1)\n",
      "Requirement already satisfied: matplotlib in /usr/local/anaconda3/envs/dv3c/lib/python3.8/site-packages (3.2.1)\n",
      "Requirement already satisfied: numpy in /usr/local/anaconda3/envs/dv3c/lib/python3.8/site-packages (1.18.4)\n",
      "Requirement already satisfied: tqdm in /usr/local/anaconda3/envs/dv3c/lib/python3.8/site-packages (4.46.0)\n",
      "Requirement already satisfied: scikit-image in /usr/local/anaconda3/envs/dv3c/lib/python3.8/site-packages (0.17.2)\n",
      "Requirement already satisfied: tensorboard_logger in /usr/local/anaconda3/envs/dv3c/lib/python3.8/site-packages (0.1.0)\n",
      "Requirement already satisfied: future in /usr/local/anaconda3/envs/dv3c/lib/python3.8/site-packages (from torch) (0.18.2)\n",
      "Requirement already satisfied: pillow>=4.1.1 in /usr/local/anaconda3/envs/dv3c/lib/python3.8/site-packages (from torchvision) (7.1.2)\n",
      "Requirement already satisfied: graphviz in /usr/local/anaconda3/envs/dv3c/lib/python3.8/site-packages (from torchviz) (0.14)\n",
      "Requirement already satisfied: kiwisolver>=1.0.1 in /usr/local/anaconda3/envs/dv3c/lib/python3.8/site-packages (from matplotlib) (1.2.0)\n",
      "Requirement already satisfied: python-dateutil>=2.1 in /usr/local/anaconda3/envs/dv3c/lib/python3.8/site-packages (from matplotlib) (2.8.1)\n",
      "Requirement already satisfied: cycler>=0.10 in /usr/local/anaconda3/envs/dv3c/lib/python3.8/site-packages (from matplotlib) (0.10.0)\n",
      "Requirement already satisfied: pyparsing!=2.0.4,!=2.1.2,!=2.1.6,>=2.0.1 in /usr/local/anaconda3/envs/dv3c/lib/python3.8/site-packages (from matplotlib) (2.4.7)\n",
      "Requirement already satisfied: networkx>=2.0 in /usr/local/anaconda3/envs/dv3c/lib/python3.8/site-packages (from scikit-image) (2.3)\n",
      "Requirement already satisfied: scipy>=1.0.1 in /usr/local/anaconda3/envs/dv3c/lib/python3.8/site-packages (from scikit-image) (1.4.1)\n",
      "Requirement already satisfied: tifffile>=2019.7.26 in /usr/local/anaconda3/envs/dv3c/lib/python3.8/site-packages (from scikit-image) (2020.6.3)\n",
      "Requirement already satisfied: PyWavelets>=1.1.1 in /usr/local/anaconda3/envs/dv3c/lib/python3.8/site-packages (from scikit-image) (1.1.1)\n",
      "Requirement already satisfied: imageio>=2.3.0 in /usr/local/anaconda3/envs/dv3c/lib/python3.8/site-packages (from scikit-image) (2.8.0)\n",
      "Requirement already satisfied: six in /usr/local/anaconda3/envs/dv3c/lib/python3.8/site-packages (from tensorboard_logger) (1.14.0)\n",
      "Requirement already satisfied: protobuf in /usr/local/anaconda3/envs/dv3c/lib/python3.8/site-packages (from tensorboard_logger) (3.12.2)\n",
      "Requirement already satisfied: decorator>=4.3.0 in /usr/local/anaconda3/envs/dv3c/lib/python3.8/site-packages (from networkx>=2.0->scikit-image) (4.4.2)\n",
      "Requirement already satisfied: setuptools in /usr/local/anaconda3/envs/dv3c/lib/python3.8/site-packages (from protobuf->tensorboard_logger) (46.1.3.post20200330)\n"
     ]
    }
   ],
   "source": [
    "!pip install torch torchvision torchviz matplotlib numpy tqdm scikit-image tensorboard_logger"
   ]
  },
  {
   "cell_type": "code",
   "execution_count": 2,
   "metadata": {},
   "outputs": [],
   "source": [
    "import torch\n",
    "import torchvision\n",
    "import torchvision.transforms as transforms\n",
    "import torch.nn.functional as F\n",
    "import torch.nn as nn\n",
    "from torch.distributions import Normal\n",
    "from torch.utils.data import Dataset\n",
    "from torchviz import make_dot\n",
    "\n",
    "import skimage.measure\n",
    "\n",
    "import matplotlib.pyplot as plt\n",
    "from matplotlib import patches\n",
    "import numpy as np\n",
    "\n",
    "\n",
    "import unittest\n",
    "import time\n",
    "import shutil\n",
    "import os\n",
    "import math\n",
    "\n",
    "import pickle\n",
    "\n",
    "from tqdm.notebook import tqdm\n",
    "\n",
    "from enum import Enum"
   ]
  },
  {
   "cell_type": "markdown",
   "metadata": {},
   "source": [
    "# 1. Configuration"
   ]
  },
  {
   "cell_type": "code",
   "execution_count": 3,
   "metadata": {},
   "outputs": [],
   "source": [
    "class DatasetName(Enum):\n",
    "    MNIST = 1\n",
    "    AUGMENTED = 2\n",
    "    TRANSFORMED = 3\n",
    "    AUGMENTED_MEDICAL = 4\n",
    "    CONSTRUCTED = 5\n",
    "    AUGMENTED_MEDICAL_2 = 6"
   ]
  },
  {
   "cell_type": "code",
   "execution_count": 4,
   "metadata": {},
   "outputs": [],
   "source": [
    "class Config():\n",
    "    def __init__(self):\n",
    "        # glimpse network params\n",
    "        self.patch_size      = 8         # size of extracted patch at highest res\n",
    "        self.glimpse_scale   = 8         # scale of successive patches\n",
    "        self.num_patches     = 2         # Num of downscaled patches per glimpse\n",
    "        self.loc_hidden      = 128       # hidden size of loc fc layer\n",
    "        self.glimpse_hidden  = 128       # hidden size of glimpse fc\n",
    "\n",
    "        # core network params\n",
    "        self.num_glimpses    = 10         # Num of glimpses, i.e. BPTT iterations\n",
    "        self.hidden_size     = 256       # hidden size of rnn\n",
    "\n",
    "        # reinforce params\n",
    "        self.std             = 0.05      # gaussian policy standard deviation\n",
    "        self.M               = 1         # Monte Carlo sampling for valid and test sets\n",
    "\n",
    "        # ETC params\n",
    "        self.valid_size      = 0.1       # Proportion of training set used for validation\n",
    "        self.batch_size      = 128       # Num of images in each batch of data\n",
    "        self.num_workers     = 4         # Num of subprocesses to use for data loading\n",
    "        self.shuffle         = True      # Whether to shuffle the train and valid indices\n",
    "        self.show_sample     = False     # Whether to visualize a sample grid of the data\n",
    "\n",
    "        # training params\n",
    "        self.is_train        = True      # Whether to train(true) or test the model\n",
    "        self.weight_decay    = 1e-5      # Weight decay for regularization\n",
    "        self.momentum        = 0.5       # Nesterov momentum value\n",
    "        self.epochs          = 500       # Num of epochs to train for\n",
    "        self.init_lr         = 3e-4      # Initial learning rate value\n",
    "        self.lr_patience     = 20        # Number of epochs to wait before reducing lr\n",
    "        self.train_patience  = 150       # Number of epochs to wait before stopping train\n",
    "\n",
    "        # other params\n",
    "        self.resume          = False     # Whether to resume training from checkpoint\n",
    "        self.use_gpu         = True      # Whether to run on the GPU\n",
    "        self.best            = True      # Load best model or most recent for testing\n",
    "        self.random_seed     = 1         # Seed to ensure reproducibility\n",
    "        self.data_dir        = \"./data\"  # Directory in which data is stored\n",
    "        self.ckpt_dir        = \"./ckpt\"  # Directory in which to save model checkpoints\n",
    "        self.logs_dir        = \"./logs/\" # Directory in which Tensorboard logs wil be stored\n",
    "        self.use_tensorboard = False     # Whether to use tensorboard for visualization\n",
    "        self.print_freq      = 100       # How frequently to print training details\n",
    "        self.plot_freq       = 1         # How frequently to plot glimpses\n",
    "        self.dataset         = DatasetName.CONSTRUCTED\n",
    "        self.model_name      = \"ram_{}_{}x{}_{}\".format(\n",
    "            self.num_glimpses,\n",
    "            self.patch_size,\n",
    "            self.patch_size,\n",
    "            self.glimpse_scale,\n",
    "        )"
   ]
  },
  {
   "cell_type": "code",
   "execution_count": 5,
   "metadata": {},
   "outputs": [],
   "source": [
    "global_config = Config()"
   ]
  },
  {
   "cell_type": "code",
   "execution_count": 6,
   "metadata": {},
   "outputs": [],
   "source": [
    "#set seed for reproducibility\n",
    "torch.manual_seed(global_config.random_seed)\n",
    "np.random.seed(global_config.random_seed)"
   ]
  },
  {
   "cell_type": "markdown",
   "metadata": {},
   "source": [
    "# 2. Datasets"
   ]
  },
  {
   "cell_type": "code",
   "execution_count": 7,
   "metadata": {},
   "outputs": [],
   "source": [
    "class ConstructedDataset(Dataset):\n",
    "    \"\"\"Binary: number of not closed squares\"\"\"\n",
    "\n",
    "    def __init__(self,\n",
    "                 train,\n",
    "                 size = 64,\n",
    "                 object_width = 3,\n",
    "                 n_missing = 2,\n",
    "                 n_classes = 4,\n",
    "                 n_circles = 6,\n",
    "                 total_train = 4000,\n",
    "                 total_test = 400):\n",
    "        if train:\n",
    "            np.random.seed(1)\n",
    "        else:\n",
    "            np.random.seed(2)\n",
    "        self.n = total_train if train else total_test\n",
    "        self.__create_data(n_classes, n_circles, size, object_width, n_missing)\n",
    "    \n",
    "    def __create_data(self, n_classes, n_circles, size, object_width, n_missing):\n",
    "        self.labels = []\n",
    "        self.data   = []\n",
    "        \n",
    "        for class_i in range(n_classes):\n",
    "            for _ in range(int(self.n/n_classes)):\n",
    "                image = self.__generate_image(class_i, n_circles, size,object_width,n_missing)\n",
    "                self.data.append(torch.tensor(image))\n",
    "                self.labels.append(class_i)\n",
    "\n",
    "    def __generate_image(self,n_open, n_all, size, object_width, n_missing ):\n",
    "        image = np.zeros((size,size))\n",
    "        # top left x,y positions within bounds\n",
    "        top_lefts = (np.random.rand(n_all, 2) * (size - (object_width+2))).astype(int)\n",
    "        # ensure no overlapping\n",
    "        for top_left in top_lefts:\n",
    "            x_0, y_0 = top_left[0],top_left[1]\n",
    "            # 1 bigger so no overlaps\n",
    "            image[x_0: x_0 + object_width + 2 , y_0:y_0 + object_width + 2 ] += 1\n",
    "        # make sure no overlapping\n",
    "        is_valid = np.all(image <= 1)\n",
    "        if is_valid:\n",
    "            image = np.zeros((size,size)).astype(np.float32)\n",
    "            for i,top_left in enumerate(top_lefts):\n",
    "                x_0, y_0 = top_left[0] +1 ,top_left[1] +1\n",
    "                image[x_0: x_0 + object_width , y_0:y_0 + object_width] = 1\n",
    "                # open it\n",
    "                if  i < n_open:\n",
    "                    pos = (np.random.rand(n_missing, 2) * object_width).astype(int)\n",
    "                    for p in pos:\n",
    "                        image[x_0+p[0],y_0+p[1]] = 0\n",
    "            return image.reshape(1,size,size)\n",
    "        else:\n",
    "            return self.__generate_image(n_open, n_all, size, object_width, n_missing)                \n",
    "    \n",
    "    def __len__(self):\n",
    "        return len(self.labels)\n",
    "\n",
    "    def __getitem__(self, uid):\n",
    "        if torch.is_tensor(uid):\n",
    "            uid = uid.tolist()\n",
    "        label = self.labels[uid]\n",
    "        sample = self.data[uid]\n",
    "        \n",
    "        return (sample,label)\n"
   ]
  },
  {
   "cell_type": "code",
   "execution_count": 8,
   "metadata": {},
   "outputs": [],
   "source": [
    "class AugmentedMedicalMNISTDataset(Dataset):\n",
    "    \"\"\"\n",
    "    Augmented mnist meant to mimic whole-slide-images of tumor cells.\n",
    "    9's represent cancer cells. There are 4 different labels, based on the number of 9's:\n",
    "    \n",
    "    zero 9's          - no cancer\n",
    "    one 9             - isolated tumor cell\n",
    "    two 9's           - micro-metastasis \n",
    "    three or more 9's - macro-metastasis\n",
    "    \n",
    "    Each image contains between 3 and 10 cells at random, which may be overlapping.\n",
    "    It consists of 5000 items of each category(total 20.000) for training and 500(2.000) of each for testing\n",
    "    of size 256 x 256. \n",
    "    \"\"\"\n",
    "\n",
    "    def __init__(self, \n",
    "                 root_dir,\n",
    "                 train,\n",
    "                 data_dir = \"MEDNIST\",\n",
    "                 mnist_transform = None,\n",
    "                 transform = None, \n",
    "                 total_train = 20000,\n",
    "                 total_test = 2000,\n",
    "                 n_partitions_test = 1,\n",
    "                 n_partitions_train = 5):\n",
    "        \n",
    "        self.mnist_transform = mnist_transform\n",
    "        self.root_dir = root_dir\n",
    "        self.train = train\n",
    "        self.total = total_train if self.train else total_test\n",
    "        self.n_partitions_test  = n_partitions_test\n",
    "        self.n_partitions_train = n_partitions_train\n",
    "        self.dir = os.path.join(root_dir,data_dir, \"train\" if train else \"test\")\n",
    "        self.transform = transform\n",
    "        \n",
    "        self.__create_dataset_if_needed()\n",
    "                \n",
    "        self.__load_data()\n",
    "        \n",
    "    def __dataset_exists(self):\n",
    "        # mkdir if not exists\n",
    "        os.makedirs(self.dir, exist_ok = True)\n",
    "        len_files = len(os.listdir(self.dir)) \n",
    "        if len_files > 0:\n",
    "            print(\"Data existing, skipping creation.\")\n",
    "            return True\n",
    "        else:\n",
    "            print(\"Dataset missing. Creating...\")\n",
    "        return False\n",
    "            \n",
    "    \n",
    "    def __combine_images(self,images, output_dim):\n",
    "        \"\"\"\n",
    "        Combines the given images into a single image of output_dim size. Combinations are done randomly and \n",
    "        overlapping is possible. Images will always be within bounds completely.\n",
    "        \"\"\"\n",
    "        np_images = np.array(images)\n",
    "        input_dim = np_images.shape[-1]\n",
    "        new_image = np.zeros(shape=(output_dim,output_dim), dtype = np.float32)\n",
    "        for image in np_images:\n",
    "            i, j = np.random.randint(0, output_dim  - input_dim, size = 2)\n",
    "            new_image[i:i+input_dim, j:j+input_dim] = image\n",
    "        return new_image\n",
    "    \n",
    "    def __get_cell_counts(self, items_per_class_count, class_index):\n",
    "        # exclusive\n",
    "        max_items = 11\n",
    "        min_number_of_cells = 3\n",
    "        # 0,1,2,3+ for no tumor cells, isolated tumor cells, \n",
    "        # micro-metastasis and macro-metastasis respectively\n",
    "        num_tumor_cells = class_index if class_index != 3 else np.random.randint(3, max_items) \n",
    "\n",
    "        num_healthy_cells = max_items - num_tumor_cells\n",
    "        if num_healthy_cells + num_tumor_cells < min_number_of_cells:\n",
    "            num_healthy_cells = min_number_of_cells - num_tumor_cells\n",
    "\n",
    "        return (num_tumor_cells, num_healthy_cells)\n",
    "            \n",
    "    def __generate_for_class(self,\n",
    "                                   items,\n",
    "                                   items_per_class_count,\n",
    "                                   class_index,\n",
    "                                   uid,\n",
    "                                   all_tumor_cell_images,\n",
    "                                   all_healthy_cell_images):\n",
    "        for _ in range(items_per_class_count):\n",
    "            num_tumors, num_healthy = self.__get_cell_counts(items_per_class_count, class_index)\n",
    "\n",
    "            healthy_idxs  = np.random.randint(0,len(all_healthy_cell_images), num_healthy)\n",
    "            tumor_idxs    = np.random.randint(0,len(all_tumor_cell_images), num_tumors)\n",
    "\n",
    "            healthy_cells = all_healthy_cell_images[healthy_idxs]\n",
    "            tumor_cells   = all_tumor_cell_images[tumor_idxs]\n",
    "            cells = np.vstack((healthy_cells,tumor_cells))\n",
    "            image = self.__combine_images(cells, 256)\n",
    "            image = np.expand_dims(image, axis = 0)\n",
    "            self.data.append(image)\n",
    "            self.source_images.append(tumor_cells.numpy())\n",
    "            self.labels.append(class_index)\n",
    "            uid += 1\n",
    "        return uid\n",
    "            \n",
    "    def __create_dataset_if_needed(self):\n",
    "        if self.__dataset_exists():\n",
    "            return \n",
    "        \n",
    "        self.data = []\n",
    "        self.labels = []\n",
    "        self.source_images = []\n",
    "        \n",
    "        # in how many partitions to split dataset creation\n",
    "        partitions_count = 10\n",
    "        \n",
    "        # number of classes in output (fixed)\n",
    "        num_classes = 4\n",
    "        \n",
    "        mnist = torchvision.datasets.MNIST(root ='./data',\n",
    "                                           train = True,\n",
    "                                           download = True,\n",
    "                                           transform = self.mnist_transform)\n",
    "        \n",
    "        mnist_loader = iter(torch.utils.data.DataLoader(mnist, \n",
    "                                                        batch_size = int(self.total/partitions_count), \n",
    "                                                        shuffle = False, \n",
    "                                                        num_workers = 0))\n",
    "        uid = 0\n",
    "        batch, mnist_labels = mnist_loader.next()\n",
    "        # 9's represent tumors\n",
    "        all_tumor_cell_images = batch[mnist_labels == 9]\n",
    "        # everything else except 6's healthy cells\n",
    "        all_healthy_cell_images = batch[(mnist_labels != 9) & (mnist_labels != 6)]\n",
    "        \n",
    "        for _ in range(partitions_count):\n",
    "            items_per_class_count = int(self.total/(num_classes * partitions_count))\n",
    "            \n",
    "            for class_index in range(num_classes):\n",
    "                    uid = self.__generate_for_class(class_index, \n",
    "                                                  items_per_class_count,\n",
    "                                                  class_index,\n",
    "                                                  uid,\n",
    "                                                  all_tumor_cell_images,\n",
    "                                                  all_healthy_cell_images)\n",
    "        self.__store()\n",
    "        print(\"Done.\")\n",
    "    \n",
    "    def __len__(self):\n",
    "        return len(self.labels)\n",
    "\n",
    "    def __getitem__(self, uid):\n",
    "        if torch.is_tensor(uid):\n",
    "            uid = uid.tolist()\n",
    "        label = self.labels[uid]\n",
    "        sample = self.data[uid]\n",
    "        if self.transform:\n",
    "            sample = self.transform(sample)\n",
    "\n",
    "        return (sample,label)\n",
    "\n",
    "    def __store(self):\n",
    "        n_partitions = self.n_partitions_train if self.train else self.n_partitions_test\n",
    "        \n",
    "        assert(len(self.data) == len(self.labels))\n",
    "        max_index = len(self.data)\n",
    "        partition_size = max_index/n_partitions\n",
    "        for i in range(n_partitions):\n",
    "            start,end =(int(partition_size * i), int(partition_size * (i+1)))\n",
    "            partition = np.array(self.data[start:end])\n",
    "            np.save(os.path.join(self.dir, \"part_\" + str(i)), partition)\n",
    "        \n",
    "        np.save(os.path.join(self.dir, \"labels\"), np.array(self.labels))\n",
    "        \n",
    "        if not self.train:\n",
    "            np.save(os.path.join(self.dir, \"sources\"), np.array(self.source_images))\n",
    "        \n",
    "    \n",
    "    def __load_data(self):\n",
    "        n_partitions = self.n_partitions_train if self.train else self.n_partitions_test\n",
    "        data = []\n",
    "        for i in range(n_partitions):\n",
    "            data.append(np.load(os.path.join(self.dir, \"part_\" + str(i)+\".npy\")))\n",
    "        self.data = np.vstack(data)\n",
    "        self.labels = np.load(os.path.join(self.dir, \"labels.npy\"))\n",
    "        if not self.train:\n",
    "            self.source_images = np.load(os.path.join(self.dir, \"sources.npy\"),allow_pickle=True)"
   ]
  },
  {
   "cell_type": "code",
   "execution_count": 9,
   "metadata": {},
   "outputs": [],
   "source": [
    "class DatasetType(Enum):\n",
    "    TRAIN = 1\n",
    "    VALID = 2\n",
    "    TEST  = 3\n",
    "    \n",
    "class DatasetLocator():\n",
    "    def __init__(self, conf: Config):\n",
    "        \n",
    "        self.dataset = conf.dataset\n",
    "        self.gpu_run = conf.use_gpu\n",
    "        self.batch_size = conf.batch_size\n",
    "        train, valid, test = self.__load_data()\n",
    "        \n",
    "        self.dataset_dict = {\n",
    "            DatasetType.TRAIN: train,\n",
    "            DatasetType.VALID: valid,\n",
    "            DatasetType.TEST: test\n",
    "        }\n",
    "        \n",
    "    def __f(self,imapge):\n",
    "        np_image = np.array(image)\n",
    "        input_dim = np_image.shape[-1]\n",
    "        new_image = np.zeros(shape=(60,60), dtype = np.float32)\n",
    "        i, j = np.random.randint(0, 60  - input_dim, size = 2)\n",
    "        new_image[i:i+input_dim, j:j+input_dim] = np_image\n",
    "        return new_image\n",
    "    \n",
    "    def __transformed_mnist_transformation(self):\n",
    "        return transforms.Compose(\n",
    "            [torchvision.transforms.Lambda(self.__f),\n",
    "            torchvision.transforms.ToTensor(),\n",
    "            transforms.Normalize((0.1307,), (0.3081,))])\n",
    "\n",
    "    def __augmented_mnist_transformation(self):\n",
    "        return transforms.Compose([\n",
    "            torchvision.transforms.RandomAffine(degrees = (-180,180),scale = (0.5,1.0),),\n",
    "            torchvision.transforms.ToTensor()])\n",
    "    \n",
    "    def __augmented_mnist_simple_transformation(self):\n",
    "        return transforms.Compose([\n",
    "            torchvision.transforms.RandomAffine(degrees = (0,90),scale = (0.9,1.0),),\n",
    "            torchvision.transforms.ToTensor()])\n",
    "\n",
    "    def __load_data(self):\n",
    "        train_total = self.__load_dataset(True)\n",
    "        test = self.__load_dataset(False)\n",
    "        \n",
    "        train_length = int(len(train_total) * 0.9)\n",
    "        valid_length = len(train_total) - train_length\n",
    "        (train, valid) = torch.utils.data.random_split(train_total,(train_length, valid_length))\n",
    "        return (train, valid, test)\n",
    "    \n",
    "    def __load_dataset(self, is_train):\n",
    "        if self.dataset == DatasetName.MNIST:\n",
    "            transform = torchvision.transforms.ToTensor()\n",
    "        elif self.dataset == DatasetName.AUGMENTED:\n",
    "            transform = self.__augmented_mnist_transformation()\n",
    "        elif self.dataset == DatasetName.TRANSFORMED:\n",
    "            transform = self.__transformed_mnist_transformation()\n",
    "        elif self.dataset == DatasetName.AUGMENTED_MEDICAL:\n",
    "            return AugmentedMedicalMNISTDataset(root_dir='.', data_dir = \"MEDNIST\",train = is_train, mnist_transform = self.__augmented_mnist_transformation())\n",
    "        elif self.dataset == DatasetName.AUGMENTED_MEDICAL_2:\n",
    "            return AugmentedMedicalMNISTDataset(root_dir='.',data_dir = \"MEDNIST_2\", train = is_train, mnist_transform = transforms.ToTensor())\n",
    "        elif self.dataset == DatasetName.CONSTRUCTED:\n",
    "            return ConstructedDataset(train = is_train)  \n",
    "        return torchvision.datasets.MNIST(root='./data', train = is_train , download = True, transform = transform)\n",
    "        \n",
    "    def data_loader(self, dataset:DatasetType):\n",
    "        should_shuffle = dataset == DatasetType.TRAIN\n",
    "        data = self.dataset_dict[dataset] \n",
    "        return torch.utils.data.DataLoader(data,\n",
    "                                           batch_size = self.batch_size,\n",
    "                                           pin_memory = self.gpu_run,\n",
    "                                           shuffle = should_shuffle,\n",
    "                                           num_workers = 0)\n",
    "    "
   ]
  },
  {
   "cell_type": "code",
   "execution_count": 10,
   "metadata": {},
   "outputs": [],
   "source": [
    "global_config = Config()"
   ]
  },
  {
   "cell_type": "code",
   "execution_count": 11,
   "metadata": {},
   "outputs": [],
   "source": [
    "locator = DatasetLocator(global_config)"
   ]
  },
  {
   "cell_type": "code",
   "execution_count": 12,
   "metadata": {},
   "outputs": [],
   "source": [
    "images,labels = iter(locator.data_loader(DatasetType.TRAIN)).next()\n",
    "images = images[0:4]\n",
    "labels = labels[0:4]"
   ]
  },
  {
   "cell_type": "code",
   "execution_count": 13,
   "metadata": {},
   "outputs": [
    {
     "data": {
      "image/png": "[encoded data removed]",
      "text/plain": [
       "<Figure size 1800x1800 with 4 Axes>"
      ]
     },
     "metadata": {
      "needs_background": "light"
     },
     "output_type": "display_data"
    }
   ],
   "source": [
    "def show(images,labels = None):\n",
    "    if labels == None:\n",
    "        labels = [\" \"] * len(images)\n",
    "    elif isinstance(labels,torch.Tensor): \n",
    "        labels = [label.item() for label in labels]\n",
    "    fig, axes = plt.subplots(1, len(images), figsize=(25,25))\n",
    "    for (a,image,label) in zip(axes.ravel(),images,labels):\n",
    "        a.imshow(image[0].numpy(), cmap = plt.cm.gray)\n",
    "        a.set_title(label, fontsize=20)\n",
    "\n",
    "    fig.tight_layout()\n",
    "show(images,labels)"
   ]
  },
  {
   "cell_type": "markdown",
   "metadata": {},
   "source": [
    "# Utils"
   ]
  },
  {
   "cell_type": "code",
   "execution_count": 14,
   "metadata": {},
   "outputs": [],
   "source": [
    "import os\n",
    "import json\n",
    "import numpy as np\n",
    "import matplotlib.pyplot as plt\n",
    "import matplotlib.patches as patches\n",
    "\n",
    "from PIL import Image\n",
    "\n",
    "\n",
    "def denormalize(T, coords):\n",
    "    return 0.5 * ((coords + 1.0) * T)\n",
    "\n",
    "\n",
    "def bounding_box(x, y, size, color=\"w\"):\n",
    "    x = int(x - (size / 2))\n",
    "    y = int(y - (size / 2))\n",
    "    rect = patches.Rectangle(\n",
    "        (x, y), size, size, linewidth=1, edgecolor=color, fill=False\n",
    "    )\n",
    "    return rect\n",
    "\n",
    "\n",
    "# https://github.com/pytorch/examples/blob/master/imagenet/main.py\n",
    "class AverageMeter:\n",
    "    def __init__(self):\n",
    "        self.reset()\n",
    "\n",
    "    def reset(self):\n",
    "        self.val = 0\n",
    "        self.avg = 0\n",
    "        self.sum = 0\n",
    "        self.count = 0\n",
    "\n",
    "    def update(self, val, n=1):\n",
    "        self.val = val\n",
    "        self.sum += val * n\n",
    "        self.count += n\n",
    "        self.avg = self.sum / self.count\n",
    "\n",
    "\n",
    "def resize_array(x, size):\n",
    "    # 3D and 4D tensors allowed only\n",
    "    assert x.ndim in [3, 4], \"Only 3D and 4D Tensors allowed!\"\n",
    "\n",
    "    # 4D Tensor\n",
    "    if x.ndim == 4:\n",
    "        res = []\n",
    "        for i in range(x.shape[0]):\n",
    "            img = array2img(x[i])\n",
    "            img = img.resize((size, size))\n",
    "            img = np.asarray(img, dtype=\"float32\")\n",
    "            img = np.expand_dims(img, axis=0)\n",
    "            img /= 255.0\n",
    "            res.append(img)\n",
    "        res = np.concatenate(res)\n",
    "        res = np.expand_dims(res, axis=1)\n",
    "        return res\n",
    "\n",
    "    # 3D Tensor\n",
    "    img = array2img(x)\n",
    "    img = img.resize((size, size))\n",
    "    res = np.asarray(img, dtype=\"float32\")\n",
    "    res = np.expand_dims(res, axis=0)\n",
    "    res /= 255.0\n",
    "    return res\n",
    "\n",
    "\n",
    "def img2array(data_path, desired_size=None, expand=False, view=False):\n",
    "    \"\"\"\n",
    "    Util function for loading RGB image into a numpy array.\n",
    "\n",
    "    Returns array of shape (1, H, W, C).\n",
    "    \"\"\"\n",
    "    img = Image.open(data_path)\n",
    "    img = img.convert(\"RGB\")\n",
    "    if desired_size:\n",
    "        img = img.resize((desired_size[1], desired_size[0]))\n",
    "    if view:\n",
    "        img.show()\n",
    "    x = np.asarray(img, dtype=\"float32\")\n",
    "    if expand:\n",
    "        x = np.expand_dims(x, axis=0)\n",
    "    x /= 255.0\n",
    "    return x\n",
    "\n",
    "\n",
    "def array2img(x):\n",
    "    \"\"\"\n",
    "    Util function for converting anumpy array to a PIL img.\n",
    "\n",
    "    Returns PIL RGB img.\n",
    "    \"\"\"\n",
    "    x = np.asarray(x)\n",
    "    x = x + max(-np.min(x), 0)\n",
    "    x_max = np.max(x)\n",
    "    if x_max != 0:\n",
    "        x /= x_max\n",
    "    x *= 255\n",
    "    return Image.fromarray(x.astype(\"uint8\"), \"RGB\")\n",
    "\n",
    "\n",
    "def plot_images(images, gd_truth):\n",
    "\n",
    "    images = images.squeeze()\n",
    "    assert len(images) == len(gd_truth) == 9\n",
    "\n",
    "    # Create figure with sub-plots.\n",
    "    fig, axes = plt.subplots(3, 3)\n",
    "\n",
    "    for i, ax in enumerate(axes.flat):\n",
    "        # plot the image\n",
    "        ax.imshow(images[i], cmap=\"Greys_r\")\n",
    "\n",
    "        xlabel = \"{}\".format(gd_truth[i])\n",
    "        ax.set_xlabel(xlabel)\n",
    "        ax.set_xticks([])\n",
    "        ax.set_yticks([])\n",
    "\n",
    "    plt.show()\n",
    "\n",
    "\n",
    "def prepare_dirs(config):\n",
    "    for path in [config.data_dir, config.ckpt_dir, config.logs_dir]:\n",
    "        if not os.path.exists(path):\n",
    "            os.makedirs(path)\n",
    "\n",
    "\n",
    "def save_config(config):\n",
    "    model_name = \"ram_{}_{}x{}_{}\".format(\n",
    "        config.num_glimpses, config.patch_size, config.patch_size, config.glimpse_scale\n",
    "    )\n",
    "    filename = model_name + \"_params.json\"\n",
    "    param_path = os.path.join(config.ckpt_dir, filename)\n",
    "\n",
    "    print(\"[*] Model Checkpoint Dir: {}\".format(config.ckpt_dir))\n",
    "    print(\"[*] Param Path: {}\".format(param_path))\n",
    "\n",
    "    with open(param_path, \"w\") as fp:\n",
    "        json.dump(config.__dict__, fp, indent=4, sort_keys=True)"
   ]
  },
  {
   "cell_type": "markdown",
   "metadata": {},
   "source": [
    "# 3. Network"
   ]
  },
  {
   "cell_type": "code",
   "execution_count": 15,
   "metadata": {},
   "outputs": [],
   "source": [
    "import torch\n",
    "import torch.nn as nn\n",
    "import torch.nn.functional as F\n",
    "\n",
    "from torch.distributions import Normal\n",
    "\n",
    "\n",
    "class Retina:\n",
    "    \"\"\"A visual retina.\n",
    "\n",
    "    Extracts a foveated glimpse `phi` around location `l`\n",
    "    from an image `x`.\n",
    "\n",
    "    Concretely, encodes the region around `l` at a\n",
    "    high-resolution but uses a progressively lower\n",
    "    resolution for pixels further from `l`, resulting\n",
    "    in a compressed representation of the original\n",
    "    image `x`.\n",
    "\n",
    "    Args:\n",
    "        x: a 4D Tensor of shape (B, H, W, C). The minibatch\n",
    "            of images.\n",
    "        l: a 2D Tensor of shape (B, 2). Contains normalized\n",
    "            coordinates in the range [-1, 1].\n",
    "        g: size of the first square patch.\n",
    "        k: number of patches to extract in the glimpse.\n",
    "        s: scaling factor that controls the size of\n",
    "            successive patches.\n",
    "\n",
    "    Returns:\n",
    "        phi: a 5D tensor of shape (B, k, g, g, C). The\n",
    "            foveated glimpse of the image.\n",
    "    \"\"\"\n",
    "\n",
    "    def __init__(self, g, k, s):\n",
    "        self.g = g\n",
    "        self.k = k\n",
    "        self.s = s\n",
    "\n",
    "    def foveate(self, x, l):\n",
    "        \"\"\"Extract `k` square patches of size `g`, centered\n",
    "        at location `l`. The initial patch is a square of\n",
    "        size `g`, and each subsequent patch is a square\n",
    "        whose side is `s` times the size of the previous\n",
    "        patch.\n",
    "\n",
    "        The `k` patches are finally resized to (g, g) and\n",
    "        concatenated into a tensor of shape (B, k, g, g, C).\n",
    "        \"\"\"\n",
    "        phi = []\n",
    "        size = self.g\n",
    "\n",
    "        # extract k patches of increasing size\n",
    "        for i in range(self.k):\n",
    "            phi.append(self.extract_patch(x, l, size))\n",
    "            size = int(self.s * size)\n",
    "\n",
    "        # resize the patches to squares of size g\n",
    "        for i in range(1, len(phi)):\n",
    "            k = phi[i].shape[-1] // self.g\n",
    "            phi[i] = F.avg_pool2d(phi[i], k)\n",
    "\n",
    "        # concatenate into a single tensor and flatten\n",
    "        \n",
    "        phi = torch.cat(phi, 1)\n",
    "        #phi = phi.view(phi.shape[0], -1)\n",
    "\n",
    "        return phi\n",
    "\n",
    "    def extract_patch(self, x, l, size):\n",
    "        \"\"\"Extract a single patch for each image in `x`.\n",
    "\n",
    "        Args:\n",
    "        x: a 4D Tensor of shape (B, H, W, C). The minibatch\n",
    "            of images.\n",
    "        l: a 2D Tensor of shape (B, 2).\n",
    "        size: a scalar defining the size of the extracted patch.\n",
    "\n",
    "        Returns:\n",
    "            patch: a 4D Tensor of shape (B, size, size, C)\n",
    "        \"\"\"\n",
    "        B, C, H, W = x.shape\n",
    "\n",
    "        start = self.denormalize(H, l)\n",
    "        end = start + size\n",
    "\n",
    "        # pad with zeros\n",
    "        x = F.pad(x, (size // 2, size // 2, size // 2, size // 2))\n",
    "\n",
    "        # loop through mini-batch and extract patches\n",
    "        patch = []\n",
    "        for i in range(B):\n",
    "            patch.append(x[i, :, start[i, 1] : end[i, 1], start[i, 0] : end[i, 0]])\n",
    "        return torch.stack(patch)\n",
    "\n",
    "    def denormalize(self, T, coords):\n",
    "        \"\"\"Convert coordinates in the range [-1, 1] to\n",
    "        coordinates in the range [0, T] where `T` is\n",
    "        the size of the image.\n",
    "        \"\"\"\n",
    "        return (0.5 * ((coords + 1.0) * T)).long()\n",
    "\n",
    "    def exceeds(self, from_x, to_x, from_y, to_y, T):\n",
    "        \"\"\"Check whether the extracted patch will exceed\n",
    "        the boundaries of the image of size `T`.\n",
    "        \"\"\"\n",
    "        if (from_x < 0) or (from_y < 0) or (to_x > T) or (to_y > T):\n",
    "            return True\n",
    "        return False\n",
    "\n",
    "class ActionNetwork(nn.Module):\n",
    "    \"\"\"The action network.\n",
    "\n",
    "    Uses the internal state `h_t` of the core network to\n",
    "    produce the final output classification.\n",
    "\n",
    "    Concretely, feeds the hidden state `h_t` through a fc\n",
    "    layer followed by a softmax to create a vector of\n",
    "    output probabilities over the possible classes.\n",
    "\n",
    "    Hence, the environment action `a_t` is drawn from a\n",
    "    distribution conditioned on an affine transformation\n",
    "    of the hidden state vector `h_t`, or in other words,\n",
    "    the action network is simply a linear softmax classifier.\n",
    "\n",
    "    Args:\n",
    "        input_size: input size of the fc layer.\n",
    "        output_size: output size of the fc layer.\n",
    "        h_t: the hidden state vector of the core network\n",
    "            for the current time step `t`.\n",
    "\n",
    "    Returns:\n",
    "        a_t: output probability vector over the classes.\n",
    "    \"\"\"\n",
    "\n",
    "    def __init__(self, input_size, output_size):\n",
    "        super().__init__()\n",
    "\n",
    "        self.fc = nn.Linear(input_size, output_size)\n",
    "\n",
    "    def forward(self, h_t):\n",
    "        a_t = F.log_softmax(self.fc(h_t), dim=1)\n",
    "        return a_t\n",
    "\n",
    "\n",
    "class LocationNetwork(nn.Module):\n",
    "    \"\"\"The location network.\n",
    "\n",
    "    Uses the internal state `h_t` of the core network to\n",
    "    produce the location coordinates `l_t` for the next\n",
    "    time step.\n",
    "\n",
    "    Concretely, feeds the hidden state `h_t` through a fc\n",
    "    layer followed by a tanh to clamp the output beween\n",
    "    [-1, 1]. This produces a 2D vector of means used to\n",
    "    parametrize a two-component Gaussian with a fixed\n",
    "    variance from which the location coordinates `l_t`\n",
    "    for the next time step are sampled.\n",
    "\n",
    "    Hence, the location `l_t` is chosen stochastically\n",
    "    from a distribution conditioned on an affine\n",
    "    transformation of the hidden state vector `h_t`.\n",
    "\n",
    "    Args:\n",
    "        input_size: input size of the fc layer.\n",
    "        output_size: output size of the fc layer.\n",
    "        std: standard deviation of the normal distribution.\n",
    "        h_t: the hidden state vector of the core network for\n",
    "            the current time step `t`.\n",
    "\n",
    "    Returns:\n",
    "        mu: a 2D vector of shape (B, 2).\n",
    "        l_t: a 2D vector of shape (B, 2).\n",
    "    \"\"\"\n",
    "\n",
    "    def __init__(self, input_size, output_size, std):\n",
    "        super().__init__()\n",
    "\n",
    "        self.std = std\n",
    "\n",
    "        hid_size = input_size // 2\n",
    "        self.fc = nn.Linear(input_size, hid_size)\n",
    "        self.fc_lt = nn.Linear(hid_size, output_size)\n",
    "\n",
    "    def forward(self, h_t):\n",
    "        # compute mean\n",
    "        feat = F.relu(self.fc(h_t.detach()))\n",
    "        mu = torch.tanh(self.fc_lt(feat))\n",
    "\n",
    "        # reparametrization trick\n",
    "        l_t = torch.distributions.Normal(mu, self.std).rsample()\n",
    "        l_t = l_t.detach()\n",
    "        log_pi = Normal(mu, self.std).log_prob(l_t)\n",
    "\n",
    "        # we assume both dimensions are independent\n",
    "        # 1. pdf of the joint is the product of the pdfs\n",
    "        # 2. log of the product is the sum of the logs\n",
    "        log_pi = torch.sum(log_pi, dim=1)\n",
    "\n",
    "        # bound between [-1, 1]\n",
    "        l_t = torch.clamp(l_t, -1, 1)\n",
    "\n",
    "        return log_pi, l_t\n",
    "\n",
    "\n",
    "class BaselineNetwork(nn.Module):\n",
    "    \"\"\"The baseline network.\n",
    "\n",
    "    This network regresses the baseline in the\n",
    "    reward function to reduce the variance of\n",
    "    the gradient update.\n",
    "\n",
    "    Args:\n",
    "        input_size: input size of the fc layer.\n",
    "        output_size: output size of the fc layer.\n",
    "        h_t: the hidden state vector of the core network\n",
    "            for the current time step `t`.\n",
    "\n",
    "    Returns:\n",
    "        b_t: a 2D vector of shape (B, 1). The baseline\n",
    "            for the current time step `t`.\n",
    "    \"\"\"\n",
    "\n",
    "    def __init__(self, input_size, output_size):\n",
    "        super().__init__()\n",
    "\n",
    "        self.fc = nn.Linear(input_size, output_size)\n",
    "\n",
    "    def forward(self, h_t):\n",
    "        b_t = self.fc(h_t.detach())\n",
    "        return b_t\n"
   ]
  },
  {
   "cell_type": "code",
   "execution_count": 16,
   "metadata": {},
   "outputs": [],
   "source": [
    "class CoreNetwork(nn.Module):\n",
    "    \"\"\"The core network.\n",
    "    TODO\n",
    "    \"\"\"\n",
    "\n",
    "    def __init__(self, input_size, hidden_size):\n",
    "        super().__init__()\n",
    "\n",
    "        self.num_layers  = 2\n",
    "        self.input_size  = input_size\n",
    "        self.hidden_size = hidden_size\n",
    "        \n",
    "        self.hidden_state = None\n",
    "        self.cell_state   = None\n",
    "        \n",
    "        # batch_first = true -> (B x SEQ (in this case 1) x Features)\n",
    "        # and SEQ only 1 element\n",
    "        self.stacked_lstm = nn.LSTM(input_size = input_size,\n",
    "                                    hidden_size = hidden_size,\n",
    "                                    num_layers = self.num_layers,\n",
    "                                    batch_first = True)\n",
    "        \n",
    "    def reset(self, batch_size, device):\n",
    "        self.hidden_state = torch.zeros(\n",
    "            (self.num_layers, batch_size, self.hidden_size),\n",
    "            dtype = torch.float,\n",
    "            device = device,\n",
    "            requires_grad = True)\n",
    "        \n",
    "        self.cell_state = torch.zeros(\n",
    "            (self.num_layers, batch_size, self.hidden_size),\n",
    "            dtype = torch.float,\n",
    "            device = device,\n",
    "            requires_grad = True)\n",
    "        \n",
    "        \n",
    "    def forward(self, g_t):\n",
    "        # need to add seq dimension\n",
    "        g_t = g_t.unsqueeze(1)\n",
    "        # output == top layer of h_t. So for 2 layers `o == h_t[1]` yield all true\n",
    "        (output,(self.cell_state, self.hidden_state)) = self.stacked_lstm.forward(g_t,(self.cell_state, self.hidden_state))\n",
    "        # remove seq dimension\n",
    "        return output.squeeze()"
   ]
  },
  {
   "cell_type": "code",
   "execution_count": 17,
   "metadata": {},
   "outputs": [],
   "source": [
    "class GlimpseNetwork(nn.Module):\n",
    "    \"\"\"The glimpse network.\n",
    "\n",
    "    TODO\n",
    "\n",
    "    Args:\n",
    "        h_g: hidden layer size of the fc layer for `phi`.\n",
    "        h_l: hidden layer size of the fc layer for `l`.\n",
    "        g: size of the square patches in the glimpses extracted\n",
    "        by the retina.\n",
    "        k: number of patches to extract per glimpse.\n",
    "        s: scaling factor that controls the size of successive patches.\n",
    "        c: number of channels in each image.\n",
    "        x: a 4D Tensor of shape (B, H, W, C). The minibatch\n",
    "            of images.\n",
    "        l_t_prev: a 2D tensor of shape (B, 2). Contains the glimpse\n",
    "            coordinates [x, y] for the previous timestep `t-1`.\n",
    "\n",
    "    Returns:\n",
    "        g_t: a 2D tensor of shape (B, hidden_size).\n",
    "            The glimpse representation returned by\n",
    "            the glimpse network for the current\n",
    "            timestep `t`.\n",
    "    \"\"\"\n",
    "\n",
    "    def __init__(self, h_g, h_l, g, k, s, c):\n",
    "        super().__init__()\n",
    "\n",
    "        self.retina = Retina(g, k, s)\n",
    "        \n",
    "        D_out = h_g + h_l\n",
    "                \n",
    "        # what \n",
    "        \n",
    "        # padding of 1, to ensure same dimensions\n",
    "        self.conv1 = nn.Conv2d(in_channels = k, out_channels = 16, kernel_size = 3, padding = 1)\n",
    "        \n",
    "        self.conv2 = nn.Conv2d(in_channels = self.conv1.out_channels, out_channels = 16, kernel_size = 3, padding = 1)\n",
    "        self.bn1 = nn.BatchNorm2d(num_features = self.conv2.out_channels, track_running_stats = True)\n",
    "         \n",
    "        self.max_pool1 = nn.MaxPool2d(kernel_size = 3, stride = 3, padding = 1)\n",
    "        \n",
    "        self.conv3 = nn.Conv2d(in_channels = self.conv2.out_channels, out_channels = 32, kernel_size = 3, padding = 1)\n",
    "\n",
    "        self.max_pool2 = nn.MaxPool2d(kernel_size = 3, stride = 3, padding = 1)\n",
    "        \n",
    "        # W * H of previous layer * depth\n",
    "        # W* H altered by max pooling\n",
    "        reduced_dim = math.floor((1 + math.floor((1 + 12 + 1)/3) + 1) / 3)\n",
    "        D_in = self.conv3.out_channels * reduced_dim * reduced_dim\n",
    "        #TODO revert to D_in\n",
    "        self.fc1 = nn.Linear(in_features = 32, out_features = h_g)\n",
    "        self.fc2 = nn.Linear(in_features = h_g, out_features = D_out)\n",
    "        self.bn2 = nn.BatchNorm1d(num_features = D_out, track_running_stats = True)\n",
    "        \n",
    "        # where\n",
    "        # in_features = 2, loc is a tuple of (x,y)\n",
    "        self.loc_fc1 = nn.Linear(in_features = 2, out_features = h_l)\n",
    "        self.loc_fc2 = nn.Linear(in_features = h_l, out_features = D_out)\n",
    "        \n",
    "    def forward(self, x, l_t_prev):\n",
    "        # generate glimpse phi from image x\n",
    "        phi = self.retina.foveate(x, l_t_prev)\n",
    "        # flatten location vector\n",
    "        l_t_prev = l_t_prev.view(l_t_prev.size(0), -1)\n",
    "        # what\n",
    "        # 3 conv layers\n",
    "        h = self.conv1(phi)\n",
    "        h = F.relu(h)\n",
    "        h = self.conv2(h)\n",
    "        h = self.bn1(h)\n",
    "        h = F.relu(h)\n",
    "        h = self.max_pool1(h)\n",
    "        h = F.relu(self.conv3(h))\n",
    "        h = self.max_pool2(h) \n",
    "      \n",
    "        # flatten\n",
    "        # keep batch dimension and determine other one automatically\n",
    "        h = h.view(x.shape[0],-1)\n",
    "\n",
    "        # fully connected layers\n",
    "        h = self.fc1(h)\n",
    "        h = self.fc2(h)\n",
    "        h = self.bn2(h)\n",
    "        h = F.relu(h)\n",
    "    \n",
    "\n",
    "        # where\n",
    "        l = self.loc_fc1(l_t_prev)\n",
    "        \n",
    "        l = F.relu(l)\n",
    "        l = self.loc_fc2(l)\n",
    "        \n",
    "        # combine what and where\n",
    "        g = F.relu(h * l)\n",
    "        return g"
   ]
  },
  {
   "cell_type": "code",
   "execution_count": 18,
   "metadata": {},
   "outputs": [
    {
     "data": {
      "image/png": "[encoded data removed]",
      "text/plain": [
       "<Figure size 1800x1800 with 12 Axes>"
      ]
     },
     "metadata": {
      "needs_background": "light"
     },
     "output_type": "display_data"
    }
   ],
   "source": [
    "def show_patches():\n",
    "    locs              = torch.zeros((images.shape[0],2))\n",
    "    extracted_patches = Retina(global_config.patch_size,global_config.num_patches,global_config.glimpse_scale).foveate(images,locs)\n",
    "    extracted_patches = extracted_patches.reshape((len(images), global_config.num_patches,global_config.patch_size,global_config.patch_size ))\n",
    "    fig, axes = plt.subplots(len(images), global_config.num_patches + 1, figsize=(25,25))\n",
    "\n",
    "    for patches, image, axis in zip(extracted_patches,images,axes):\n",
    "        for i in range(global_config.num_patches + 1):\n",
    "            im = image[0] if i == 0  else patches[i-1]\n",
    "            scale = global_config.glimpse_scale ** (i-1)\n",
    "            label = \"number: \" + str(labels[i].item()) if i == 0 else \"size: \" +  str(global_config.patch_size) + \" x \" + str(global_config.patch_size) + \" scale: \"+ str(scale)\n",
    "            axis[i].imshow(im.numpy(), cmap = plt.cm.gray)\n",
    "            axis[i].set_title(label, fontsize=20)\n",
    "# extracted at center\n",
    "show_patches()"
   ]
  },
  {
   "cell_type": "markdown",
   "metadata": {},
   "source": [
    "# DRAM"
   ]
  },
  {
   "cell_type": "code",
   "execution_count": 19,
   "metadata": {},
   "outputs": [],
   "source": [
    "import torch.nn as nn\n",
    "\n",
    "class RecurrentAttention(nn.Module):\n",
    "    \"\"\"A Recurrent Model of Visual Attention (RAM) [1].\n",
    "\n",
    "    RAM is a recurrent neural network that processes\n",
    "    inputs sequentially, attending to different locations\n",
    "    within the image one at a time, and incrementally\n",
    "    combining information from these fixations to build\n",
    "    up a dynamic internal representation of the image.\n",
    "\n",
    "    References:\n",
    "      [1]: Minh et. al., https://arxiv.org/abs/1406.6247\n",
    "    \"\"\"\n",
    "\n",
    "    def __init__(\n",
    "        self, g, k, s, c, h_g, h_l, std, hidden_size, num_classes,\n",
    "    ):\n",
    "        \"\"\"Constructor.\n",
    "\n",
    "        Args:\n",
    "          g: size of the square patches in the glimpses extracted by the retina.\n",
    "          k: number of patches to extract per glimpse.\n",
    "          s: scaling factor that controls the size of successive patches.\n",
    "          c: number of channels in each image.\n",
    "          h_g: hidden layer size of the fc layer for `phi`.\n",
    "          h_l: hidden layer size of the fc layer for `l`.\n",
    "          std: standard deviation of the Gaussian policy.\n",
    "          hidden_size: hidden size of the rnn.\n",
    "          num_classes: number of classes in the dataset.\n",
    "          num_glimpses: number of glimpses to take per image,\n",
    "            i.e. number of BPTT steps.\n",
    "        \"\"\"\n",
    "        super().__init__()\n",
    "\n",
    "        self.std = std\n",
    "\n",
    "        self.sensor = GlimpseNetwork(h_g, h_l, g, k, s, c)\n",
    "        self.rnn = CoreNetwork(hidden_size, hidden_size)\n",
    "        self.locator = LocationNetwork(hidden_size, 2, std)\n",
    "        self.classifier = ActionNetwork(hidden_size, num_classes)\n",
    "        self.baseliner = BaselineNetwork(hidden_size, 1)\n",
    "\n",
    "    def forward(self, x, l_t_prev, last=False):\n",
    "        \"\"\"Run RAM for one timestep on a minibatch of images.\n",
    "\n",
    "        Args:\n",
    "            x: a 4D Tensor of shape (B, H, W, C). The minibatch\n",
    "                of images.\n",
    "            l_t_prev: a 2D tensor of shape (B, 2). The location vector\n",
    "                containing the glimpse coordinates [x, y] for the previous\n",
    "                timestep `t-1`.\n",
    "            h_t_prev: a 2D tensor of shape (B, hidden_size). The hidden\n",
    "                state vector for the previous timestep `t-1`.\n",
    "            last: a bool indicating whether this is the last timestep.\n",
    "                If True, the action network returns an output probability\n",
    "                vector over the classes and the baseline `b_t` for the\n",
    "                current timestep `t`. Else, the core network returns the\n",
    "                hidden state vector for the next timestep `t+1` and the\n",
    "                location vector for the next timestep `t+1`.\n",
    "\n",
    "        Returns:\n",
    "            h_t: a 2D tensor of shape (B, hidden_size). The hidden\n",
    "                state vector for the current timestep `t`.\n",
    "            mu: a 2D tensor of shape (B, 2). The mean that parametrizes\n",
    "                the Gaussian policy.\n",
    "            l_t: a 2D tensor of shape (B, 2). The location vector\n",
    "                containing the glimpse coordinates [x, y] for the\n",
    "                current timestep `t`.\n",
    "            b_t: a vector of length (B,). The baseline for the\n",
    "                current time step `t`.\n",
    "            log_probas: a 2D tensor of shape (B, num_classes). The\n",
    "                output log probability vector over the classes.\n",
    "            log_pi: a vector of length (B,).\n",
    "        \"\"\"\n",
    "        g_t = self.sensor(x, l_t_prev)\n",
    "        h_t = self.rnn(g_t)\n",
    "        log_pi, l_t = self.locator(h_t)\n",
    "        b_t = self.baseliner(h_t).squeeze()\n",
    "\n",
    "        if last:\n",
    "            log_probas = self.classifier(h_t)\n",
    "            return h_t, l_t, b_t, log_probas, log_pi\n",
    "\n",
    "        return h_t, l_t, b_t, log_pi\n",
    "    \n",
    "    def reset(self, batch_size, device):\n",
    "        #h_t maintained by rnn itself\n",
    "        self.rnn.reset(batch_size = batch_size, device = device)\n",
    "\n",
    "        l_t = torch.FloatTensor(batch_size, 2).uniform_(-1, 1).to(device)\n",
    "        l_t.requires_grad = True\n",
    "\n",
    "        return l_t\n"
   ]
  },
  {
   "cell_type": "markdown",
   "metadata": {},
   "source": [
    "# 4. Train"
   ]
  },
  {
   "cell_type": "code",
   "execution_count": 20,
   "metadata": {},
   "outputs": [],
   "source": [
    "import os\n",
    "import time\n",
    "import shutil\n",
    "import pickle\n",
    "\n",
    "import torch\n",
    "import torch.nn.functional as F\n",
    "\n",
    "from tqdm import tqdm\n",
    "from torch.optim.lr_scheduler import ReduceLROnPlateau\n",
    "from tensorboard_logger import configure, log_value\n",
    "\n",
    "class Trainer:\n",
    "    \"\"\"A Recurrent Attention Model trainer.\n",
    "\n",
    "    All hyperparameters are provided by the user in the\n",
    "    config file.\n",
    "    \"\"\"\n",
    "\n",
    "    def __init__(self, config, data_loader):\n",
    "        \"\"\"\n",
    "        Construct a new Trainer instance.\n",
    "\n",
    "        Args:\n",
    "            config: object containing command line arguments.\n",
    "            data_loader: A data iterator.\n",
    "        \"\"\"\n",
    "        self.config = config\n",
    "\n",
    "        if config.use_gpu and torch.cuda.is_available():\n",
    "            self.device = torch.device(\"cuda\")\n",
    "        else:\n",
    "            self.device = torch.device(\"cpu\")\n",
    "\n",
    "        # glimpse network params\n",
    "        self.patch_size = config.patch_size\n",
    "        self.glimpse_scale = config.glimpse_scale\n",
    "        self.num_patches = config.num_patches\n",
    "        self.loc_hidden = config.loc_hidden\n",
    "        self.glimpse_hidden = config.glimpse_hidden\n",
    "\n",
    "        # core network params\n",
    "        self.num_glimpses = config.num_glimpses\n",
    "        self.hidden_size = config.hidden_size\n",
    "\n",
    "        # reinforce params\n",
    "        self.std = config.std\n",
    "        self.M = config.M\n",
    "\n",
    "        # data params\n",
    "        if config.is_train:\n",
    "            self.train_loader = data_loader[0]\n",
    "            self.valid_loader = data_loader[1]\n",
    "            self.num_train = len(self.train_loader.dataset)\n",
    "            self.num_valid = len(self.valid_loader.dataset)\n",
    "        else:\n",
    "            self.test_loader = data_loader\n",
    "            self.num_test = len(self.test_loader.dataset)\n",
    "        self.num_classes = 10\n",
    "        self.num_channels = 1\n",
    "\n",
    "        # training params\n",
    "        self.epochs = config.epochs\n",
    "        self.start_epoch = 0\n",
    "        self.momentum = config.momentum\n",
    "        self.lr = config.init_lr\n",
    "\n",
    "        # misc params\n",
    "        self.best = config.best\n",
    "        self.ckpt_dir = config.ckpt_dir\n",
    "        self.logs_dir = config.logs_dir\n",
    "        self.best_valid_acc = 0.0\n",
    "        self.counter = 0\n",
    "        self.lr_patience = config.lr_patience\n",
    "        self.train_patience = config.train_patience\n",
    "        self.use_tensorboard = config.use_tensorboard\n",
    "        self.resume = config.resume\n",
    "        self.print_freq = config.print_freq\n",
    "        self.plot_freq = config.plot_freq\n",
    "        self.model_name = config.model_name\n",
    "\n",
    "\n",
    "        self.plot_dir = \"./plots/\" + self.model_name + \"/\"\n",
    "        if not os.path.exists(self.plot_dir):\n",
    "            os.makedirs(self.plot_dir)\n",
    "\n",
    "        # configure tensorboard logging\n",
    "        if self.use_tensorboard:\n",
    "            tensorboard_dir = self.logs_dir + self.model_name\n",
    "            print(\"[*] Saving tensorboard logs to {}\".format(tensorboard_dir))\n",
    "            if not os.path.exists(tensorboard_dir):\n",
    "                os.makedirs(tensorboard_dir)\n",
    "            configure(tensorboard_dir)\n",
    "\n",
    "        # build RAM model\n",
    "        self.model = RecurrentAttention(\n",
    "            self.patch_size,\n",
    "            self.num_patches,\n",
    "            self.glimpse_scale,\n",
    "            self.num_channels,\n",
    "            self.loc_hidden,\n",
    "            self.glimpse_hidden,\n",
    "            self.std,\n",
    "            self.hidden_size,\n",
    "            self.num_classes,\n",
    "        )\n",
    "        self.model.to(self.device)\n",
    "\n",
    "        # initialize optimizer and scheduler\n",
    "        self.optimizer = torch.optim.Adam(\n",
    "            self.model.parameters(),\n",
    "            lr=self.config.init_lr,\n",
    "            weight_decay = self.config.weight_decay\n",
    "        )\n",
    "        self.scheduler = ReduceLROnPlateau(\n",
    "            self.optimizer, \"min\", patience=self.lr_patience\n",
    "        )\n",
    "\n",
    "    def train(self):\n",
    "        \"\"\"Train the model on the training set.\n",
    "\n",
    "        A checkpoint of the model is saved after each epoch\n",
    "        and if the validation accuracy is improved upon,\n",
    "        a separate ckpt is created for use on the test set.\n",
    "        \"\"\"\n",
    "        # load the most recent checkpoint\n",
    "        if self.resume:\n",
    "            self.load_checkpoint(best=False)\n",
    "\n",
    "        print(\n",
    "            \"\\n[*] Train on {} samples, validate on {} samples\".format(\n",
    "                self.num_train, self.num_valid\n",
    "            )\n",
    "        )\n",
    "\n",
    "        for epoch in range(self.start_epoch, self.epochs):\n",
    "\n",
    "            print(\n",
    "                \"\\nEpoch: {}/{} - LR: {:.6f}\".format(\n",
    "                    epoch + 1, self.epochs, self.optimizer.param_groups[0][\"lr\"]\n",
    "                )\n",
    "            )\n",
    "\n",
    "            # train for 1 epoch\n",
    "            train_loss, train_acc = self.train_one_epoch(epoch)\n",
    "\n",
    "            # evaluate on validation set\n",
    "            valid_loss, valid_acc = self.validate(epoch)\n",
    "\n",
    "            # # reduce lr if validation loss plateaus\n",
    "            self.scheduler.step(-valid_acc)\n",
    "\n",
    "            is_best = valid_acc > self.best_valid_acc\n",
    "            msg1 = \"train loss: {:.3f} - train acc: {:.3f} \"\n",
    "            msg2 = \"- val loss: {:.3f} - val acc: {:.3f} - val err: {:.3f}\"\n",
    "            if is_best:\n",
    "                self.counter = 0\n",
    "                msg2 += \" [*]\"\n",
    "            msg = msg1 + msg2\n",
    "            print(\n",
    "                msg.format(\n",
    "                    train_loss, train_acc, valid_loss, valid_acc, 100 - valid_acc\n",
    "                )\n",
    "            )\n",
    "\n",
    "            # check for improvement\n",
    "            if not is_best:\n",
    "                self.counter += 1\n",
    "            if self.counter > self.train_patience:\n",
    "                print(\"[!] No improvement in a while, stopping training.\")\n",
    "                return\n",
    "            self.best_valid_acc = max(valid_acc, self.best_valid_acc)\n",
    "            self.save_checkpoint(\n",
    "                {\n",
    "                    \"epoch\": epoch + 1,\n",
    "                    \"model_state\": self.model.state_dict(),\n",
    "                    \"optim_state\": self.optimizer.state_dict(),\n",
    "                    \"best_valid_acc\": self.best_valid_acc,\n",
    "                },\n",
    "                is_best,\n",
    "            )\n",
    "\n",
    "    def train_one_epoch(self, epoch):\n",
    "        \"\"\"\n",
    "        Train the model for 1 epoch of the training set.\n",
    "\n",
    "        An epoch corresponds to one full pass through the entire\n",
    "        training set in successive mini-batches.\n",
    "\n",
    "        This is used by train() and should not be called manually.\n",
    "        \"\"\"\n",
    "        self.model.train()\n",
    "        batch_time = AverageMeter()\n",
    "        losses = AverageMeter()\n",
    "        accs = AverageMeter()\n",
    "\n",
    "        tic = time.time()\n",
    "        with tqdm(total=self.num_train) as pbar:\n",
    "            for i, (x, y) in enumerate(self.train_loader):\n",
    "                self.optimizer.zero_grad()\n",
    "\n",
    "                x, y = x.to(self.device), y.to(self.device)\n",
    "\n",
    "                plot = False\n",
    "                if (epoch % self.plot_freq == 0) and (i == 0):\n",
    "                    plot = True\n",
    "\n",
    "                # initialize location vector and hidden state\n",
    "                self.batch_size = x.shape[0]\n",
    "                l_t = self.model.reset(self.batch_size, self.device)\n",
    "\n",
    "                # save images\n",
    "                imgs = []\n",
    "                imgs.append(x[0:9])\n",
    "\n",
    "                # extract the glimpses\n",
    "                locs = []\n",
    "                log_pi = []\n",
    "                baselines = []\n",
    "                for t in range(self.num_glimpses - 1):\n",
    "                    # forward pass through model\n",
    "                    h_t, l_t, b_t, p = self.model(x, l_t)\n",
    "\n",
    "                    # store\n",
    "                    locs.append(l_t[0:9])\n",
    "                    baselines.append(b_t)\n",
    "                    log_pi.append(p)\n",
    "\n",
    "                # last iteration\n",
    "                h_t, l_t, b_t, log_probas, p = self.model(x, l_t, last=True)\n",
    "                log_pi.append(p)\n",
    "                baselines.append(b_t)\n",
    "                locs.append(l_t[0:9])\n",
    "\n",
    "                # convert list to tensors and reshape\n",
    "                baselines = torch.stack(baselines).transpose(1, 0)\n",
    "                log_pi = torch.stack(log_pi).transpose(1, 0)\n",
    "\n",
    "                # calculate reward\n",
    "                predicted = torch.max(log_probas, 1)[1]\n",
    "                R = (predicted.detach() == y).float()\n",
    "                R = R.unsqueeze(1).repeat(1, self.num_glimpses)\n",
    "\n",
    "                # compute losses for differentiable modules\n",
    "                loss_action = F.nll_loss(log_probas, y)\n",
    "                loss_baseline = F.mse_loss(baselines, R)\n",
    "\n",
    "                # compute reinforce loss\n",
    "                # summed over timesteps and averaged across batch\n",
    "                adjusted_reward = R - baselines.detach()\n",
    "                loss_reinforce = torch.sum(-log_pi * adjusted_reward, dim=1)\n",
    "                loss_reinforce = torch.mean(loss_reinforce, dim=0)\n",
    "\n",
    "                # sum up into a hybrid loss\n",
    "                loss = loss_action + loss_baseline + loss_reinforce * 0.01\n",
    "\n",
    "                # compute accuracy\n",
    "                correct = (predicted == y).float()\n",
    "                acc = 100 * (correct.sum() / len(y))\n",
    "\n",
    "                # store\n",
    "                losses.update(loss.item(), x.size()[0])\n",
    "                accs.update(acc.item(), x.size()[0])\n",
    "\n",
    "                # compute gradients and update SGD\n",
    "                loss.backward()\n",
    "                self.optimizer.step()\n",
    "\n",
    "                # measure elapsed time\n",
    "                toc = time.time()\n",
    "                batch_time.update(toc - tic)\n",
    "\n",
    "                pbar.set_description(\n",
    "                    (\n",
    "                        \"{:.1f}s - loss: {:.3f} - acc: {:.3f}\".format(\n",
    "                            (toc - tic), loss.item(), acc.item()\n",
    "                        )\n",
    "                    )\n",
    "                )\n",
    "                pbar.update(self.batch_size)\n",
    "\n",
    "                # dump the glimpses and locs\n",
    "                if plot:\n",
    "                    imgs = [g.cpu().data.numpy().squeeze() for g in imgs]\n",
    "                    locs = [l.cpu().data.numpy() for l in locs]\n",
    "                    pickle.dump(\n",
    "                        imgs, open(self.plot_dir + \"g_{}.p\".format(epoch + 1), \"wb\")\n",
    "                    )\n",
    "                    pickle.dump(\n",
    "                        locs, open(self.plot_dir + \"l_{}.p\".format(epoch + 1), \"wb\")\n",
    "                    )\n",
    "\n",
    "                # log to tensorboard\n",
    "                if self.use_tensorboard:\n",
    "                    iteration = epoch * len(self.train_loader) + i\n",
    "                    log_value(\"train_loss\", losses.avg, iteration)\n",
    "                    log_value(\"train_acc\", accs.avg, iteration)\n",
    "\n",
    "            return losses.avg, accs.avg\n",
    "\n",
    "    @torch.no_grad()\n",
    "    def validate(self, epoch):\n",
    "        \"\"\"Evaluate the RAM model on the validation set.\n",
    "        \"\"\"\n",
    "        losses = AverageMeter()\n",
    "        accs = AverageMeter()\n",
    "\n",
    "        for i, (x, y) in enumerate(self.valid_loader):\n",
    "            x, y = x.to(self.device), y.to(self.device)\n",
    "\n",
    "            # duplicate M times\n",
    "            x = x.repeat(self.M, 1, 1, 1)\n",
    "\n",
    "            # initialize location vector and hidden state\n",
    "            self.batch_size = x.shape[0]\n",
    "            l_t = self.model.reset(self.batch_size, self.device)\n",
    "\n",
    "            # extract the glimpses\n",
    "            log_pi = []\n",
    "            baselines = []\n",
    "            for t in range(self.num_glimpses - 1):\n",
    "                # forward pass through model\n",
    "                h_t, l_t, b_t, p = self.model(x, l_t)\n",
    "\n",
    "                # store\n",
    "                baselines.append(b_t)\n",
    "                log_pi.append(p)\n",
    "\n",
    "            # last iteration\n",
    "            h_t, l_t, b_t, log_probas, p = self.model(x, l_t, last=True)\n",
    "            log_pi.append(p)\n",
    "            baselines.append(b_t)\n",
    "\n",
    "            # convert list to tensors and reshape\n",
    "            baselines = torch.stack(baselines).transpose(1, 0)\n",
    "            log_pi = torch.stack(log_pi).transpose(1, 0)\n",
    "\n",
    "            # average\n",
    "            log_probas = log_probas.view(self.M, -1, log_probas.shape[-1])\n",
    "            log_probas = torch.mean(log_probas, dim=0)\n",
    "\n",
    "            baselines = baselines.contiguous().view(self.M, -1, baselines.shape[-1])\n",
    "            baselines = torch.mean(baselines, dim=0)\n",
    "\n",
    "            log_pi = log_pi.contiguous().view(self.M, -1, log_pi.shape[-1])\n",
    "            log_pi = torch.mean(log_pi, dim=0)\n",
    "\n",
    "            # calculate reward\n",
    "            predicted = torch.max(log_probas, 1)[1]\n",
    "            R = (predicted.detach() == y).float()\n",
    "            R = R.unsqueeze(1).repeat(1, self.num_glimpses)\n",
    "\n",
    "            # compute losses for differentiable modules\n",
    "            loss_action = F.nll_loss(log_probas, y)\n",
    "            loss_baseline = F.mse_loss(baselines, R)\n",
    "\n",
    "            # compute reinforce loss\n",
    "            adjusted_reward = R - baselines.detach()\n",
    "            loss_reinforce = torch.sum(-log_pi * adjusted_reward, dim=1)\n",
    "            loss_reinforce = torch.mean(loss_reinforce, dim=0)\n",
    "\n",
    "            # sum up into a hybrid loss\n",
    "            loss = loss_action + loss_baseline + loss_reinforce * 0.01\n",
    "\n",
    "            # compute accuracy\n",
    "            correct = (predicted == y).float()\n",
    "            acc = 100 * (correct.sum() / len(y))\n",
    "\n",
    "            # store\n",
    "            losses.update(loss.item(), x.size()[0])\n",
    "            accs.update(acc.item(), x.size()[0])\n",
    "\n",
    "            # log to tensorboard\n",
    "            if self.use_tensorboard:\n",
    "                iteration = epoch * len(self.valid_loader) + i\n",
    "                log_value(\"valid_loss\", losses.avg, iteration)\n",
    "                log_value(\"valid_acc\", accs.avg, iteration)\n",
    "\n",
    "        return losses.avg, accs.avg\n",
    "\n",
    "    @torch.no_grad()\n",
    "    def test(self):\n",
    "        \"\"\"Test the RAM model.\n",
    "\n",
    "        This function should only be called at the very\n",
    "        end once the model has finished training.\n",
    "        \"\"\"\n",
    "        correct = 0\n",
    "        preds = []\n",
    "        # load the best checkpoint\n",
    "        self.load_checkpoint(best=self.best)\n",
    "\n",
    "        for i, (x, y) in enumerate(self.test_loader):\n",
    "            x, y = x.to(self.device), y.to(self.device)\n",
    "\n",
    "            # duplicate M times\n",
    "            x = x.repeat(self.M, 1, 1, 1)\n",
    "\n",
    "            # initialize location vector and hidden state\n",
    "            self.batch_size = x.shape[0]\n",
    "            l_t = self.model.reset(self.batch_size, self.device)\n",
    "\n",
    "            # extract the glimpses\n",
    "            for t in range(self.num_glimpses - 1):\n",
    "                # forward pass through model\n",
    "                h_t, l_t, b_t, p = self.model(x, l_t)\n",
    "\n",
    "            # last iteration\n",
    "            h_t, l_t, b_t, log_probas, p = self.model(x, l_t, last=True)\n",
    "\n",
    "            log_probas = log_probas.view(self.M, -1, log_probas.shape[-1])\n",
    "            log_probas = torch.mean(log_probas, dim=0)\n",
    "\n",
    "            pred = log_probas.data.max(1, keepdim=True)[1]\n",
    "            correct += pred.eq(y.data.view_as(pred)).cpu().sum()\n",
    "            preds.append(pred)\n",
    "        perc = (100.0 * correct) / (self.num_test)\n",
    "        error = 100 - perc\n",
    "        print(\n",
    "            \"[*] Test Acc: {}/{} ({:.2f}% - {:.2f}%)\".format(\n",
    "                correct, self.num_test, perc, error\n",
    "            )\n",
    "        )\n",
    "        return preds\n",
    "\n",
    "    def save_checkpoint(self, state, is_best):\n",
    "        \"\"\"Saves a checkpoint of the model.\n",
    "\n",
    "        If this model has reached the best validation accuracy thus\n",
    "        far, a seperate file with the suffix `best` is created.\n",
    "        \"\"\"\n",
    "        filename = self.model_name + \"_ckpt.pth.tar\"\n",
    "        ckpt_path = os.path.join(self.ckpt_dir, filename)\n",
    "        torch.save(state, ckpt_path)\n",
    "        if is_best:\n",
    "            filename = self.model_name + \"_model_best.pth.tar\"\n",
    "            shutil.copyfile(ckpt_path, os.path.join(self.ckpt_dir, filename))\n",
    "\n",
    "    def load_checkpoint(self, best=False):\n",
    "        \"\"\"Load the best copy of a model.\n",
    "\n",
    "        This is useful for 2 cases:\n",
    "        - Resuming training with the most recent model checkpoint.\n",
    "        - Loading the best validation model to evaluate on the test data.\n",
    "\n",
    "        Args:\n",
    "            best: if set to True, loads the best model.\n",
    "                Use this if you want to evaluate your model\n",
    "                on the test data. Else, set to False in which\n",
    "                case the most recent version of the checkpoint\n",
    "                is used.\n",
    "        \"\"\"\n",
    "        print(\"[*] Loading model from {}\".format(self.ckpt_dir))\n",
    "\n",
    "        filename = self.model_name + \"_ckpt.pth.tar\"\n",
    "        if best:\n",
    "            filename = self.model_name + \"_model_best.pth.tar\"\n",
    "        ckpt_path = os.path.join(self.ckpt_dir, filename)\n",
    "        ckpt = torch.load(ckpt_path, map_location=\"cpu\")\n",
    "\n",
    "        # load variables from checkpoint\n",
    "        self.start_epoch = ckpt[\"epoch\"]\n",
    "        self.best_valid_acc = ckpt[\"best_valid_acc\"]\n",
    "        self.model.load_state_dict(ckpt[\"model_state\"])\n",
    "        self.optimizer.load_state_dict(ckpt[\"optim_state\"])\n",
    "\n",
    "        if best:\n",
    "            print(\n",
    "                \"[*] Loaded {} checkpoint @ epoch {} \"\n",
    "                \"with best valid acc of {:.3f}\".format(\n",
    "                    filename, ckpt[\"epoch\"], ckpt[\"best_valid_acc\"]\n",
    "                )\n",
    "            )\n",
    "        else:\n",
    "            print(\"[*] Loaded {} checkpoint @ epoch {}\".format(filename, ckpt[\"epoch\"]))"
   ]
  },
  {
   "cell_type": "markdown",
   "metadata": {},
   "source": [
    "# Run"
   ]
  },
  {
   "cell_type": "code",
   "execution_count": 21,
   "metadata": {},
   "outputs": [],
   "source": [
    "import torch\n",
    "\n",
    "def main(config):\n",
    "    prepare_dirs(config)\n",
    "\n",
    "    kwargs = {}\n",
    "    if config.use_gpu:\n",
    "        torch.cuda.manual_seed(config.random_seed)\n",
    "        kwargs = {\"num_workers\": 1, \"pin_memory\": True}\n",
    "\n",
    "    # instantiate data loaders\n",
    "    if config.is_train:\n",
    "        train_loader = locator.data_loader(DatasetType.TRAIN)\n",
    "        valid_loader = locator.data_loader(DatasetType.VALID)\n",
    "        dloader = (train_loader,valid_loader)\n",
    "    else:\n",
    "        dloader = locator.data_loader(DatasetType.TEST)\n",
    "\n",
    "    trainer = Trainer(config, dloader)\n",
    "\n",
    "    # either train\n",
    "    if config.is_train:\n",
    "        trainer.train()\n",
    "    # or load a pretrained model and test\n",
    "    else:\n",
    "        trainer.test()"
   ]
  },
  {
   "cell_type": "code",
   "execution_count": 22,
   "metadata": {
    "scrolled": true
   },
   "outputs": [
    {
     "name": "stderr",
     "output_type": "stream",
     "text": [
      "\r",
      "  0%|          | 0/3600 [00:00<?, ?it/s]"
     ]
    },
    {
     "name": "stdout",
     "output_type": "stream",
     "text": [
      "\n",
      "[*] Train on 3600 samples, validate on 400 samples\n",
      "\n",
      "Epoch: 1/500 - LR: 0.000300\n"
     ]
    },
    {
     "name": "stderr",
     "output_type": "stream",
     "text": [
      "19.5s - loss: 1.731 - acc: 25.000: 100%|██████████| 3600/3600 [00:19<00:00, 185.16it/s]\n",
      "  0%|          | 0/3600 [00:00<?, ?it/s]"
     ]
    },
    {
     "name": "stdout",
     "output_type": "stream",
     "text": [
      "train loss: 2.089 - train acc: 25.056 - val loss: 1.678 - val acc: 26.750 - val err: 73.250 [*]\n",
      "\n",
      "Epoch: 2/500 - LR: 0.000300\n"
     ]
    },
    {
     "name": "stderr",
     "output_type": "stream",
     "text": [
      "16.0s - loss: 1.595 - acc: 25.000: 100%|██████████| 3600/3600 [00:16<00:00, 224.83it/s]\n",
      "  0%|          | 0/3600 [00:00<?, ?it/s]"
     ]
    },
    {
     "name": "stdout",
     "output_type": "stream",
     "text": [
      "train loss: 1.589 - train acc: 24.472 - val loss: 1.589 - val acc: 26.750 - val err: 73.250\n",
      "\n",
      "Epoch: 3/500 - LR: 0.000300\n"
     ]
    },
    {
     "name": "stderr",
     "output_type": "stream",
     "text": [
      "15.9s - loss: 1.583 - acc: 43.750: 100%|██████████| 3600/3600 [00:15<00:00, 227.07it/s]\n",
      "  0%|          | 0/3600 [00:00<?, ?it/s]"
     ]
    },
    {
     "name": "stdout",
     "output_type": "stream",
     "text": [
      "train loss: 1.576 - train acc: 24.611 - val loss: 1.570 - val acc: 22.500 - val err: 77.500\n",
      "\n",
      "Epoch: 4/500 - LR: 0.000300\n"
     ]
    },
    {
     "name": "stderr",
     "output_type": "stream",
     "text": [
      "15.6s - loss: 1.590 - acc: 18.750: 100%|██████████| 3600/3600 [00:15<00:00, 230.40it/s]\n",
      "  0%|          | 0/3600 [00:00<?, ?it/s]"
     ]
    },
    {
     "name": "stdout",
     "output_type": "stream",
     "text": [
      "train loss: 1.576 - train acc: 24.250 - val loss: 1.576 - val acc: 27.000 - val err: 73.000 [*]\n",
      "\n",
      "Epoch: 5/500 - LR: 0.000300\n"
     ]
    },
    {
     "name": "stderr",
     "output_type": "stream",
     "text": [
      "28.1s - loss: 1.568 - acc: 12.500: 100%|██████████| 3600/3600 [00:28<00:00, 128.08it/s]\n",
      "  0%|          | 0/3600 [00:00<?, ?it/s]"
     ]
    },
    {
     "name": "stdout",
     "output_type": "stream",
     "text": [
      "train loss: 1.575 - train acc: 25.056 - val loss: 1.563 - val acc: 22.500 - val err: 77.500\n",
      "\n",
      "Epoch: 6/500 - LR: 0.000300\n"
     ]
    },
    {
     "name": "stderr",
     "output_type": "stream",
     "text": [
      "15.3s - loss: 1.567 - acc: 43.750: 100%|██████████| 3600/3600 [00:15<00:00, 235.16it/s]\n",
      "  0%|          | 0/3600 [00:00<?, ?it/s]"
     ]
    },
    {
     "name": "stdout",
     "output_type": "stream",
     "text": [
      "train loss: 1.571 - train acc: 24.806 - val loss: 1.597 - val acc: 30.000 - val err: 70.000 [*]\n",
      "\n",
      "Epoch: 7/500 - LR: 0.000300\n"
     ]
    },
    {
     "name": "stderr",
     "output_type": "stream",
     "text": [
      "14.4s - loss: 1.571 - acc: 25.000: 100%|██████████| 3600/3600 [00:14<00:00, 249.65it/s]\n",
      "  0%|          | 0/3600 [00:00<?, ?it/s]"
     ]
    },
    {
     "name": "stdout",
     "output_type": "stream",
     "text": [
      "train loss: 1.585 - train acc: 28.139 - val loss: 1.563 - val acc: 28.000 - val err: 72.000\n",
      "\n",
      "Epoch: 8/500 - LR: 0.000300\n"
     ]
    },
    {
     "name": "stderr",
     "output_type": "stream",
     "text": [
      "14.0s - loss: 1.599 - acc: 31.250: 100%|██████████| 3600/3600 [00:14<00:00, 256.31it/s]\n",
      "  0%|          | 0/3600 [00:00<?, ?it/s]"
     ]
    },
    {
     "name": "stdout",
     "output_type": "stream",
     "text": [
      "train loss: 1.572 - train acc: 32.139 - val loss: 1.553 - val acc: 33.750 - val err: 66.250 [*]\n",
      "\n",
      "Epoch: 9/500 - LR: 0.000300\n"
     ]
    },
    {
     "name": "stderr",
     "output_type": "stream",
     "text": [
      "14.4s - loss: 1.646 - acc: 31.250: 100%|██████████| 3600/3600 [00:14<00:00, 250.36it/s]\n",
      "  0%|          | 0/3600 [00:00<?, ?it/s]"
     ]
    },
    {
     "name": "stdout",
     "output_type": "stream",
     "text": [
      "train loss: 1.564 - train acc: 33.333 - val loss: 1.543 - val acc: 32.250 - val err: 67.750\n",
      "\n",
      "Epoch: 10/500 - LR: 0.000300\n"
     ]
    },
    {
     "name": "stderr",
     "output_type": "stream",
     "text": [
      "14.0s - loss: 1.479 - acc: 37.500: 100%|██████████| 3600/3600 [00:14<00:00, 256.60it/s]\n",
      "  0%|          | 0/3600 [00:00<?, ?it/s]"
     ]
    },
    {
     "name": "stdout",
     "output_type": "stream",
     "text": [
      "train loss: 1.542 - train acc: 35.889 - val loss: 1.536 - val acc: 37.750 - val err: 62.250 [*]\n",
      "\n",
      "Epoch: 11/500 - LR: 0.000300\n"
     ]
    },
    {
     "name": "stderr",
     "output_type": "stream",
     "text": [
      "14.2s - loss: 1.462 - acc: 18.750: 100%|██████████| 3600/3600 [00:14<00:00, 253.59it/s]\n",
      "  0%|          | 0/3600 [00:00<?, ?it/s]"
     ]
    },
    {
     "name": "stdout",
     "output_type": "stream",
     "text": [
      "train loss: 1.535 - train acc: 36.139 - val loss: 1.508 - val acc: 35.750 - val err: 64.250\n",
      "\n",
      "Epoch: 12/500 - LR: 0.000300\n"
     ]
    },
    {
     "name": "stderr",
     "output_type": "stream",
     "text": [
      "14.2s - loss: 1.381 - acc: 68.750: 100%|██████████| 3600/3600 [00:14<00:00, 254.26it/s]\n",
      "  0%|          | 0/3600 [00:00<?, ?it/s]"
     ]
    },
    {
     "name": "stdout",
     "output_type": "stream",
     "text": [
      "train loss: 1.542 - train acc: 37.167 - val loss: 1.549 - val acc: 32.500 - val err: 67.500\n",
      "\n",
      "Epoch: 13/500 - LR: 0.000300\n"
     ]
    },
    {
     "name": "stderr",
     "output_type": "stream",
     "text": [
      "14.1s - loss: 1.632 - acc: 25.000: 100%|██████████| 3600/3600 [00:14<00:00, 254.77it/s]\n",
      "  0%|          | 0/3600 [00:00<?, ?it/s]"
     ]
    },
    {
     "name": "stdout",
     "output_type": "stream",
     "text": [
      "train loss: 1.522 - train acc: 37.417 - val loss: 1.486 - val acc: 35.500 - val err: 64.500\n",
      "\n",
      "Epoch: 14/500 - LR: 0.000300\n"
     ]
    },
    {
     "name": "stderr",
     "output_type": "stream",
     "text": [
      "14.3s - loss: 1.455 - acc: 25.000: 100%|██████████| 3600/3600 [00:14<00:00, 250.76it/s]\n",
      "  0%|          | 0/3600 [00:00<?, ?it/s]"
     ]
    },
    {
     "name": "stdout",
     "output_type": "stream",
     "text": [
      "train loss: 1.500 - train acc: 39.167 - val loss: 1.516 - val acc: 35.750 - val err: 64.250\n",
      "\n",
      "Epoch: 15/500 - LR: 0.000300\n"
     ]
    },
    {
     "name": "stderr",
     "output_type": "stream",
     "text": [
      "14.6s - loss: 1.373 - acc: 43.750: 100%|██████████| 3600/3600 [00:14<00:00, 247.00it/s]\n",
      "  0%|          | 0/3600 [00:00<?, ?it/s]"
     ]
    },
    {
     "name": "stdout",
     "output_type": "stream",
     "text": [
      "train loss: 1.495 - train acc: 39.583 - val loss: 1.521 - val acc: 36.000 - val err: 64.000\n",
      "\n",
      "Epoch: 16/500 - LR: 0.000300\n"
     ]
    },
    {
     "name": "stderr",
     "output_type": "stream",
     "text": [
      "14.4s - loss: 1.603 - acc: 31.250: 100%|██████████| 3600/3600 [00:14<00:00, 249.89it/s]\n",
      "  0%|          | 0/3600 [00:00<?, ?it/s]"
     ]
    },
    {
     "name": "stdout",
     "output_type": "stream",
     "text": [
      "train loss: 1.492 - train acc: 40.028 - val loss: 1.495 - val acc: 39.000 - val err: 61.000 [*]\n",
      "\n",
      "Epoch: 17/500 - LR: 0.000300\n"
     ]
    },
    {
     "name": "stderr",
     "output_type": "stream",
     "text": [
      "14.8s - loss: 1.489 - acc: 31.250: 100%|██████████| 3600/3600 [00:14<00:00, 243.21it/s]\n",
      "  0%|          | 0/3600 [00:00<?, ?it/s]"
     ]
    },
    {
     "name": "stdout",
     "output_type": "stream",
     "text": [
      "train loss: 1.479 - train acc: 39.778 - val loss: 1.521 - val acc: 30.250 - val err: 69.750\n",
      "\n",
      "Epoch: 18/500 - LR: 0.000300\n"
     ]
    },
    {
     "name": "stderr",
     "output_type": "stream",
     "text": [
      "14.6s - loss: 1.527 - acc: 50.000: 100%|██████████| 3600/3600 [00:14<00:00, 246.83it/s]\n",
      "  0%|          | 0/3600 [00:00<?, ?it/s]"
     ]
    },
    {
     "name": "stdout",
     "output_type": "stream",
     "text": [
      "train loss: 1.481 - train acc: 39.583 - val loss: 1.504 - val acc: 38.750 - val err: 61.250\n",
      "\n",
      "Epoch: 19/500 - LR: 0.000300\n"
     ]
    },
    {
     "name": "stderr",
     "output_type": "stream",
     "text": [
      "14.6s - loss: 1.633 - acc: 37.500: 100%|██████████| 3600/3600 [00:14<00:00, 246.24it/s]\n",
      "  0%|          | 0/3600 [00:00<?, ?it/s]"
     ]
    },
    {
     "name": "stdout",
     "output_type": "stream",
     "text": [
      "train loss: 1.482 - train acc: 41.306 - val loss: 1.534 - val acc: 33.750 - val err: 66.250\n",
      "\n",
      "Epoch: 20/500 - LR: 0.000300\n"
     ]
    },
    {
     "name": "stderr",
     "output_type": "stream",
     "text": [
      "14.7s - loss: 1.536 - acc: 37.500: 100%|██████████| 3600/3600 [00:14<00:00, 245.54it/s]\n",
      "  0%|          | 0/3600 [00:00<?, ?it/s]"
     ]
    },
    {
     "name": "stdout",
     "output_type": "stream",
     "text": [
      "train loss: 1.480 - train acc: 40.444 - val loss: 1.516 - val acc: 40.500 - val err: 59.500 [*]\n",
      "\n",
      "Epoch: 21/500 - LR: 0.000300\n"
     ]
    },
    {
     "name": "stderr",
     "output_type": "stream",
     "text": [
      "14.8s - loss: 1.354 - acc: 50.000: 100%|██████████| 3600/3600 [00:14<00:00, 243.68it/s]\n",
      "  0%|          | 0/3600 [00:00<?, ?it/s]"
     ]
    },
    {
     "name": "stdout",
     "output_type": "stream",
     "text": [
      "train loss: 1.465 - train acc: 41.111 - val loss: 1.471 - val acc: 38.750 - val err: 61.250\n",
      "\n",
      "Epoch: 22/500 - LR: 0.000300\n"
     ]
    },
    {
     "name": "stderr",
     "output_type": "stream",
     "text": [
      "14.2s - loss: 1.523 - acc: 25.000: 100%|██████████| 3600/3600 [00:14<00:00, 254.13it/s]\n",
      "  0%|          | 0/3600 [00:00<?, ?it/s]"
     ]
    },
    {
     "name": "stdout",
     "output_type": "stream",
     "text": [
      "train loss: 1.456 - train acc: 41.111 - val loss: 1.463 - val acc: 39.000 - val err: 61.000\n",
      "\n",
      "Epoch: 23/500 - LR: 0.000300\n"
     ]
    },
    {
     "name": "stderr",
     "output_type": "stream",
     "text": [
      "14.4s - loss: 1.243 - acc: 50.000: 100%|██████████| 3600/3600 [00:14<00:00, 250.14it/s]\n",
      "  0%|          | 0/3600 [00:00<?, ?it/s]"
     ]
    },
    {
     "name": "stdout",
     "output_type": "stream",
     "text": [
      "train loss: 1.437 - train acc: 42.250 - val loss: 1.448 - val acc: 42.500 - val err: 57.500 [*]\n",
      "\n",
      "Epoch: 24/500 - LR: 0.000300\n"
     ]
    },
    {
     "name": "stderr",
     "output_type": "stream",
     "text": [
      "14.5s - loss: 1.527 - acc: 43.750: 100%|██████████| 3600/3600 [00:14<00:00, 248.60it/s]\n",
      "  0%|          | 0/3600 [00:00<?, ?it/s]"
     ]
    },
    {
     "name": "stdout",
     "output_type": "stream",
     "text": [
      "train loss: 1.427 - train acc: 43.694 - val loss: 1.461 - val acc: 38.000 - val err: 62.000\n",
      "\n",
      "Epoch: 25/500 - LR: 0.000300\n"
     ]
    },
    {
     "name": "stderr",
     "output_type": "stream",
     "text": [
      "14.6s - loss: 1.416 - acc: 37.500: 100%|██████████| 3600/3600 [00:14<00:00, 246.31it/s]\n",
      "  0%|          | 0/3600 [00:00<?, ?it/s]"
     ]
    },
    {
     "name": "stdout",
     "output_type": "stream",
     "text": [
      "train loss: 1.438 - train acc: 42.861 - val loss: 1.422 - val acc: 41.500 - val err: 58.500\n",
      "\n",
      "Epoch: 26/500 - LR: 0.000300\n"
     ]
    },
    {
     "name": "stderr",
     "output_type": "stream",
     "text": [
      "14.5s - loss: 1.536 - acc: 25.000: 100%|██████████| 3600/3600 [00:14<00:00, 248.79it/s]\n",
      "  0%|          | 0/3600 [00:00<?, ?it/s]"
     ]
    },
    {
     "name": "stdout",
     "output_type": "stream",
     "text": [
      "train loss: 1.439 - train acc: 43.139 - val loss: 1.489 - val acc: 37.500 - val err: 62.500\n",
      "\n",
      "Epoch: 27/500 - LR: 0.000300\n"
     ]
    },
    {
     "name": "stderr",
     "output_type": "stream",
     "text": [
      "14.6s - loss: 1.357 - acc: 43.750: 100%|██████████| 3600/3600 [00:14<00:00, 246.66it/s]\n",
      "  0%|          | 0/3600 [00:00<?, ?it/s]"
     ]
    },
    {
     "name": "stdout",
     "output_type": "stream",
     "text": [
      "train loss: 1.438 - train acc: 42.917 - val loss: 1.469 - val acc: 41.000 - val err: 59.000\n",
      "\n",
      "Epoch: 28/500 - LR: 0.000300\n"
     ]
    },
    {
     "name": "stderr",
     "output_type": "stream",
     "text": [
      "14.5s - loss: 1.592 - acc: 12.500: 100%|██████████| 3600/3600 [00:14<00:00, 248.24it/s]\n",
      "  0%|          | 0/3600 [00:00<?, ?it/s]"
     ]
    },
    {
     "name": "stdout",
     "output_type": "stream",
     "text": [
      "train loss: 1.433 - train acc: 42.667 - val loss: 1.459 - val acc: 42.000 - val err: 58.000\n",
      "\n",
      "Epoch: 29/500 - LR: 0.000300\n"
     ]
    },
    {
     "name": "stderr",
     "output_type": "stream",
     "text": [
      "14.5s - loss: 1.541 - acc: 25.000: 100%|██████████| 3600/3600 [00:14<00:00, 248.60it/s]\n",
      "  0%|          | 0/3600 [00:00<?, ?it/s]"
     ]
    },
    {
     "name": "stdout",
     "output_type": "stream",
     "text": [
      "train loss: 1.422 - train acc: 42.472 - val loss: 1.441 - val acc: 40.500 - val err: 59.500\n",
      "\n",
      "Epoch: 30/500 - LR: 0.000300\n"
     ]
    },
    {
     "name": "stderr",
     "output_type": "stream",
     "text": [
      "14.4s - loss: 1.690 - acc: 12.500: 100%|██████████| 3600/3600 [00:14<00:00, 250.22it/s]\n",
      "  0%|          | 0/3600 [00:00<?, ?it/s]"
     ]
    },
    {
     "name": "stdout",
     "output_type": "stream",
     "text": [
      "train loss: 1.431 - train acc: 42.861 - val loss: 1.462 - val acc: 43.750 - val err: 56.250 [*]\n",
      "\n",
      "Epoch: 31/500 - LR: 0.000300\n"
     ]
    },
    {
     "name": "stderr",
     "output_type": "stream",
     "text": [
      "14.6s - loss: 1.395 - acc: 37.500: 100%|██████████| 3600/3600 [00:14<00:00, 247.12it/s]\n",
      "  0%|          | 0/3600 [00:00<?, ?it/s]"
     ]
    },
    {
     "name": "stdout",
     "output_type": "stream",
     "text": [
      "train loss: 1.436 - train acc: 41.694 - val loss: 1.445 - val acc: 39.750 - val err: 60.250\n",
      "\n",
      "Epoch: 32/500 - LR: 0.000300\n"
     ]
    },
    {
     "name": "stderr",
     "output_type": "stream",
     "text": [
      "14.1s - loss: 1.853 - acc: 37.500: 100%|██████████| 3600/3600 [00:14<00:00, 256.03it/s]\n",
      "  0%|          | 0/3600 [00:00<?, ?it/s]"
     ]
    },
    {
     "name": "stdout",
     "output_type": "stream",
     "text": [
      "train loss: 1.438 - train acc: 42.250 - val loss: 1.429 - val acc: 41.250 - val err: 58.750\n",
      "\n",
      "Epoch: 33/500 - LR: 0.000300\n"
     ]
    },
    {
     "name": "stderr",
     "output_type": "stream",
     "text": [
      "14.7s - loss: 1.537 - acc: 50.000: 100%|██████████| 3600/3600 [00:14<00:00, 244.72it/s]\n",
      "  0%|          | 0/3600 [00:00<?, ?it/s]"
     ]
    },
    {
     "name": "stdout",
     "output_type": "stream",
     "text": [
      "train loss: 1.421 - train acc: 42.611 - val loss: 1.426 - val acc: 40.500 - val err: 59.500\n",
      "\n",
      "Epoch: 34/500 - LR: 0.000300\n"
     ]
    },
    {
     "name": "stderr",
     "output_type": "stream",
     "text": [
      "14.7s - loss: 1.581 - acc: 50.000: 100%|██████████| 3600/3600 [00:14<00:00, 245.43it/s]\n",
      "  0%|          | 0/3600 [00:00<?, ?it/s]"
     ]
    },
    {
     "name": "stdout",
     "output_type": "stream",
     "text": [
      "train loss: 1.420 - train acc: 44.972 - val loss: 1.447 - val acc: 42.250 - val err: 57.750\n",
      "\n",
      "Epoch: 35/500 - LR: 0.000300\n"
     ]
    },
    {
     "name": "stderr",
     "output_type": "stream",
     "text": [
      "14.7s - loss: 1.676 - acc: 37.500: 100%|██████████| 3600/3600 [00:14<00:00, 244.89it/s]\n",
      "  0%|          | 0/3600 [00:00<?, ?it/s]"
     ]
    },
    {
     "name": "stdout",
     "output_type": "stream",
     "text": [
      "train loss: 1.410 - train acc: 43.778 - val loss: 1.436 - val acc: 45.250 - val err: 54.750 [*]\n",
      "\n",
      "Epoch: 36/500 - LR: 0.000300\n"
     ]
    },
    {
     "name": "stderr",
     "output_type": "stream",
     "text": [
      "14.7s - loss: 1.466 - acc: 31.250: 100%|██████████| 3600/3600 [00:14<00:00, 244.15it/s]\n",
      "  0%|          | 0/3600 [00:00<?, ?it/s]"
     ]
    },
    {
     "name": "stdout",
     "output_type": "stream",
     "text": [
      "train loss: 1.408 - train acc: 44.083 - val loss: 1.443 - val acc: 44.750 - val err: 55.250\n",
      "\n",
      "Epoch: 37/500 - LR: 0.000300\n"
     ]
    },
    {
     "name": "stderr",
     "output_type": "stream",
     "text": [
      "15.0s - loss: 1.295 - acc: 56.250: 100%|██████████| 3600/3600 [00:15<00:00, 239.93it/s]\n",
      "  0%|          | 0/3600 [00:00<?, ?it/s]"
     ]
    },
    {
     "name": "stdout",
     "output_type": "stream",
     "text": [
      "train loss: 1.391 - train acc: 45.806 - val loss: 1.423 - val acc: 43.000 - val err: 57.000\n",
      "\n",
      "Epoch: 38/500 - LR: 0.000300\n"
     ]
    },
    {
     "name": "stderr",
     "output_type": "stream",
     "text": [
      "14.7s - loss: 1.340 - acc: 56.250: 100%|██████████| 3600/3600 [00:14<00:00, 245.63it/s]\n",
      "  0%|          | 0/3600 [00:00<?, ?it/s]"
     ]
    },
    {
     "name": "stdout",
     "output_type": "stream",
     "text": [
      "train loss: 1.418 - train acc: 45.222 - val loss: 1.446 - val acc: 41.750 - val err: 58.250\n",
      "\n",
      "Epoch: 39/500 - LR: 0.000300\n"
     ]
    },
    {
     "name": "stderr",
     "output_type": "stream",
     "text": [
      "14.6s - loss: 1.623 - acc: 37.500: 100%|██████████| 3600/3600 [00:14<00:00, 245.85it/s]\n",
      "  0%|          | 0/3600 [00:00<?, ?it/s]"
     ]
    },
    {
     "name": "stdout",
     "output_type": "stream",
     "text": [
      "train loss: 1.421 - train acc: 43.889 - val loss: 1.498 - val acc: 38.500 - val err: 61.500\n",
      "\n",
      "Epoch: 40/500 - LR: 0.000300\n"
     ]
    },
    {
     "name": "stderr",
     "output_type": "stream",
     "text": [
      "14.9s - loss: 1.533 - acc: 37.500: 100%|██████████| 3600/3600 [00:14<00:00, 240.90it/s]\n",
      "  0%|          | 0/3600 [00:00<?, ?it/s]"
     ]
    },
    {
     "name": "stdout",
     "output_type": "stream",
     "text": [
      "train loss: 1.417 - train acc: 43.667 - val loss: 1.426 - val acc: 42.000 - val err: 58.000\n",
      "\n",
      "Epoch: 41/500 - LR: 0.000300\n"
     ]
    },
    {
     "name": "stderr",
     "output_type": "stream",
     "text": [
      "14.8s - loss: 1.524 - acc: 43.750: 100%|██████████| 3600/3600 [00:14<00:00, 242.55it/s]\n",
      "  0%|          | 0/3600 [00:00<?, ?it/s]"
     ]
    },
    {
     "name": "stdout",
     "output_type": "stream",
     "text": [
      "train loss: 1.432 - train acc: 43.139 - val loss: 1.472 - val acc: 39.250 - val err: 60.750\n",
      "\n",
      "Epoch: 42/500 - LR: 0.000300\n"
     ]
    },
    {
     "name": "stderr",
     "output_type": "stream",
     "text": [
      "14.6s - loss: 1.474 - acc: 37.500: 100%|██████████| 3600/3600 [00:14<00:00, 247.23it/s]\n",
      "  0%|          | 0/3600 [00:00<?, ?it/s]"
     ]
    },
    {
     "name": "stdout",
     "output_type": "stream",
     "text": [
      "train loss: 1.487 - train acc: 40.389 - val loss: 1.464 - val acc: 40.000 - val err: 60.000\n",
      "\n",
      "Epoch: 43/500 - LR: 0.000300\n"
     ]
    },
    {
     "name": "stderr",
     "output_type": "stream",
     "text": [
      "14.5s - loss: 1.337 - acc: 56.250: 100%|██████████| 3600/3600 [00:14<00:00, 247.70it/s]\n",
      "  0%|          | 0/3600 [00:00<?, ?it/s]"
     ]
    },
    {
     "name": "stdout",
     "output_type": "stream",
     "text": [
      "train loss: 1.468 - train acc: 41.139 - val loss: 1.475 - val acc: 40.000 - val err: 60.000\n",
      "\n",
      "Epoch: 44/500 - LR: 0.000300\n"
     ]
    },
    {
     "name": "stderr",
     "output_type": "stream",
     "text": [
      "14.8s - loss: 1.230 - acc: 56.250: 100%|██████████| 3600/3600 [00:14<00:00, 243.62it/s]\n",
      "  0%|          | 0/3600 [00:00<?, ?it/s]"
     ]
    },
    {
     "name": "stdout",
     "output_type": "stream",
     "text": [
      "train loss: 1.483 - train acc: 40.694 - val loss: 1.453 - val acc: 42.250 - val err: 57.750\n",
      "\n",
      "Epoch: 45/500 - LR: 0.000300\n"
     ]
    },
    {
     "name": "stderr",
     "output_type": "stream",
     "text": [
      "14.6s - loss: 1.606 - acc: 31.250: 100%|██████████| 3600/3600 [00:14<00:00, 246.97it/s]\n",
      "  0%|          | 0/3600 [00:00<?, ?it/s]"
     ]
    },
    {
     "name": "stdout",
     "output_type": "stream",
     "text": [
      "train loss: 1.462 - train acc: 41.000 - val loss: 1.461 - val acc: 39.250 - val err: 60.750\n",
      "\n",
      "Epoch: 46/500 - LR: 0.000300\n"
     ]
    },
    {
     "name": "stderr",
     "output_type": "stream",
     "text": [
      "14.8s - loss: 1.424 - acc: 43.750: 100%|██████████| 3600/3600 [00:14<00:00, 242.48it/s]\n",
      "  0%|          | 0/3600 [00:00<?, ?it/s]"
     ]
    },
    {
     "name": "stdout",
     "output_type": "stream",
     "text": [
      "train loss: 1.451 - train acc: 42.861 - val loss: 1.475 - val acc: 40.000 - val err: 60.000\n",
      "\n",
      "Epoch: 47/500 - LR: 0.000300\n"
     ]
    },
    {
     "name": "stderr",
     "output_type": "stream",
     "text": [
      "14.6s - loss: 1.677 - acc: 31.250: 100%|██████████| 3600/3600 [00:14<00:00, 247.26it/s]\n",
      "  0%|          | 0/3600 [00:00<?, ?it/s]"
     ]
    },
    {
     "name": "stdout",
     "output_type": "stream",
     "text": [
      "train loss: 1.459 - train acc: 41.944 - val loss: 1.504 - val acc: 34.500 - val err: 65.500\n",
      "\n",
      "Epoch: 48/500 - LR: 0.000300\n"
     ]
    },
    {
     "name": "stderr",
     "output_type": "stream",
     "text": [
      "15.1s - loss: 1.462 - acc: 37.500: 100%|██████████| 3600/3600 [00:15<00:00, 239.06it/s]\n",
      "  0%|          | 0/3600 [00:00<?, ?it/s]"
     ]
    },
    {
     "name": "stdout",
     "output_type": "stream",
     "text": [
      "train loss: 1.456 - train acc: 41.583 - val loss: 1.465 - val acc: 40.750 - val err: 59.250\n",
      "\n",
      "Epoch: 49/500 - LR: 0.000300\n"
     ]
    },
    {
     "name": "stderr",
     "output_type": "stream",
     "text": [
      "14.4s - loss: 1.712 - acc: 18.750: 100%|██████████| 3600/3600 [00:14<00:00, 249.48it/s]\n",
      "  0%|          | 0/3600 [00:00<?, ?it/s]"
     ]
    },
    {
     "name": "stdout",
     "output_type": "stream",
     "text": [
      "train loss: 1.443 - train acc: 42.806 - val loss: 1.478 - val acc: 40.500 - val err: 59.500\n",
      "\n",
      "Epoch: 50/500 - LR: 0.000300\n"
     ]
    },
    {
     "name": "stderr",
     "output_type": "stream",
     "text": [
      "14.7s - loss: 1.426 - acc: 56.250: 100%|██████████| 3600/3600 [00:14<00:00, 244.63it/s]\n",
      "  0%|          | 0/3600 [00:00<?, ?it/s]"
     ]
    },
    {
     "name": "stdout",
     "output_type": "stream",
     "text": [
      "train loss: 1.426 - train acc: 42.361 - val loss: 1.491 - val acc: 35.250 - val err: 64.750\n",
      "\n",
      "Epoch: 51/500 - LR: 0.000300\n"
     ]
    },
    {
     "name": "stderr",
     "output_type": "stream",
     "text": [
      "14.8s - loss: 1.551 - acc: 37.500: 100%|██████████| 3600/3600 [00:14<00:00, 242.80it/s]\n",
      "  0%|          | 0/3600 [00:00<?, ?it/s]"
     ]
    },
    {
     "name": "stdout",
     "output_type": "stream",
     "text": [
      "train loss: 1.427 - train acc: 44.139 - val loss: 1.448 - val acc: 40.500 - val err: 59.500\n",
      "\n",
      "Epoch: 52/500 - LR: 0.000300\n"
     ]
    },
    {
     "name": "stderr",
     "output_type": "stream",
     "text": [
      "15.0s - loss: 1.501 - acc: 43.750: 100%|██████████| 3600/3600 [00:14<00:00, 240.49it/s]\n",
      "  0%|          | 0/3600 [00:00<?, ?it/s]"
     ]
    },
    {
     "name": "stdout",
     "output_type": "stream",
     "text": [
      "train loss: 1.418 - train acc: 44.167 - val loss: 1.459 - val acc: 41.750 - val err: 58.250\n",
      "\n",
      "Epoch: 53/500 - LR: 0.000300\n"
     ]
    },
    {
     "name": "stderr",
     "output_type": "stream",
     "text": [
      "14.9s - loss: 1.635 - acc: 31.250: 100%|██████████| 3600/3600 [00:14<00:00, 240.90it/s]\n",
      "  0%|          | 0/3600 [00:00<?, ?it/s]"
     ]
    },
    {
     "name": "stdout",
     "output_type": "stream",
     "text": [
      "train loss: 1.425 - train acc: 43.972 - val loss: 1.450 - val acc: 42.000 - val err: 58.000\n",
      "\n",
      "Epoch: 54/500 - LR: 0.000300\n"
     ]
    },
    {
     "name": "stderr",
     "output_type": "stream",
     "text": [
      "15.1s - loss: 1.462 - acc: 50.000: 100%|██████████| 3600/3600 [00:15<00:00, 238.75it/s]\n",
      "  0%|          | 0/3600 [00:00<?, ?it/s]"
     ]
    },
    {
     "name": "stdout",
     "output_type": "stream",
     "text": [
      "train loss: 1.402 - train acc: 43.250 - val loss: 1.452 - val acc: 37.750 - val err: 62.250\n",
      "\n",
      "Epoch: 55/500 - LR: 0.000300\n"
     ]
    },
    {
     "name": "stderr",
     "output_type": "stream",
     "text": [
      "15.4s - loss: 1.257 - acc: 56.250: 100%|██████████| 3600/3600 [00:15<00:00, 233.38it/s]\n",
      "  0%|          | 0/3600 [00:00<?, ?it/s]"
     ]
    },
    {
     "name": "stdout",
     "output_type": "stream",
     "text": [
      "train loss: 1.410 - train acc: 44.028 - val loss: 1.442 - val acc: 40.500 - val err: 59.500\n",
      "\n",
      "Epoch: 56/500 - LR: 0.000300\n"
     ]
    },
    {
     "name": "stderr",
     "output_type": "stream",
     "text": [
      "15.5s - loss: 1.520 - acc: 18.750: 100%|██████████| 3600/3600 [00:15<00:00, 232.97it/s]\n",
      "  0%|          | 0/3600 [00:00<?, ?it/s]"
     ]
    },
    {
     "name": "stdout",
     "output_type": "stream",
     "text": [
      "train loss: 1.410 - train acc: 45.333 - val loss: 1.429 - val acc: 43.250 - val err: 56.750\n",
      "\n",
      "Epoch: 57/500 - LR: 0.000030\n"
     ]
    },
    {
     "name": "stderr",
     "output_type": "stream",
     "text": [
      "15.2s - loss: 1.453 - acc: 43.750: 100%|██████████| 3600/3600 [00:15<00:00, 237.08it/s]\n",
      "  0%|          | 0/3600 [00:00<?, ?it/s]"
     ]
    },
    {
     "name": "stdout",
     "output_type": "stream",
     "text": [
      "train loss: 1.384 - train acc: 44.833 - val loss: 1.401 - val acc: 43.000 - val err: 57.000\n",
      "\n",
      "Epoch: 58/500 - LR: 0.000030\n"
     ]
    },
    {
     "name": "stderr",
     "output_type": "stream",
     "text": [
      "15.2s - loss: 1.315 - acc: 37.500: 100%|██████████| 3600/3600 [00:15<00:00, 237.38it/s]\n",
      "  0%|          | 0/3600 [00:00<?, ?it/s]"
     ]
    },
    {
     "name": "stdout",
     "output_type": "stream",
     "text": [
      "train loss: 1.397 - train acc: 45.417 - val loss: 1.411 - val acc: 41.500 - val err: 58.500\n",
      "\n",
      "Epoch: 59/500 - LR: 0.000030\n"
     ]
    },
    {
     "name": "stderr",
     "output_type": "stream",
     "text": [
      "15.3s - loss: 1.772 - acc: 25.000: 100%|██████████| 3600/3600 [00:15<00:00, 234.89it/s]\n",
      "  0%|          | 0/3600 [00:00<?, ?it/s]"
     ]
    },
    {
     "name": "stdout",
     "output_type": "stream",
     "text": [
      "train loss: 1.384 - train acc: 45.028 - val loss: 1.441 - val acc: 43.750 - val err: 56.250\n",
      "\n",
      "Epoch: 60/500 - LR: 0.000030\n"
     ]
    },
    {
     "name": "stderr",
     "output_type": "stream",
     "text": [
      "15.2s - loss: 1.231 - acc: 56.250: 100%|██████████| 3600/3600 [00:15<00:00, 236.43it/s]\n",
      "  0%|          | 0/3600 [00:00<?, ?it/s]"
     ]
    },
    {
     "name": "stdout",
     "output_type": "stream",
     "text": [
      "train loss: 1.377 - train acc: 45.944 - val loss: 1.448 - val acc: 41.500 - val err: 58.500\n",
      "\n",
      "Epoch: 61/500 - LR: 0.000030\n"
     ]
    },
    {
     "name": "stderr",
     "output_type": "stream",
     "text": [
      "15.2s - loss: 1.366 - acc: 43.750: 100%|██████████| 3600/3600 [00:15<00:00, 236.51it/s]\n",
      "  0%|          | 0/3600 [00:00<?, ?it/s]"
     ]
    },
    {
     "name": "stdout",
     "output_type": "stream",
     "text": [
      "train loss: 1.369 - train acc: 46.361 - val loss: 1.455 - val acc: 40.250 - val err: 59.750\n",
      "\n",
      "Epoch: 62/500 - LR: 0.000030\n"
     ]
    },
    {
     "name": "stderr",
     "output_type": "stream",
     "text": [
      "15.2s - loss: 1.429 - acc: 43.750: 100%|██████████| 3600/3600 [00:15<00:00, 237.57it/s]\n",
      "  0%|          | 0/3600 [00:00<?, ?it/s]"
     ]
    },
    {
     "name": "stdout",
     "output_type": "stream",
     "text": [
      "train loss: 1.383 - train acc: 45.778 - val loss: 1.395 - val acc: 42.250 - val err: 57.750\n",
      "\n",
      "Epoch: 63/500 - LR: 0.000030\n"
     ]
    },
    {
     "name": "stderr",
     "output_type": "stream",
     "text": [
      "15.7s - loss: 1.182 - acc: 56.250: 100%|██████████| 3600/3600 [00:15<00:00, 229.92it/s]\n",
      "  0%|          | 0/3600 [00:00<?, ?it/s]"
     ]
    },
    {
     "name": "stdout",
     "output_type": "stream",
     "text": [
      "train loss: 1.381 - train acc: 45.417 - val loss: 1.455 - val acc: 43.750 - val err: 56.250\n",
      "\n",
      "Epoch: 64/500 - LR: 0.000030\n"
     ]
    },
    {
     "name": "stderr",
     "output_type": "stream",
     "text": [
      "14.9s - loss: 1.596 - acc: 31.250: 100%|██████████| 3600/3600 [00:14<00:00, 242.05it/s]\n",
      "  0%|          | 0/3600 [00:00<?, ?it/s]"
     ]
    },
    {
     "name": "stdout",
     "output_type": "stream",
     "text": [
      "train loss: 1.372 - train acc: 45.583 - val loss: 1.442 - val acc: 41.000 - val err: 59.000\n",
      "\n",
      "Epoch: 65/500 - LR: 0.000030\n"
     ]
    },
    {
     "name": "stderr",
     "output_type": "stream",
     "text": [
      "15.6s - loss: 1.464 - acc: 43.750: 100%|██████████| 3600/3600 [00:15<00:00, 230.36it/s]\n",
      "  0%|          | 0/3600 [00:00<?, ?it/s]"
     ]
    },
    {
     "name": "stdout",
     "output_type": "stream",
     "text": [
      "train loss: 1.365 - train acc: 46.111 - val loss: 1.408 - val acc: 43.500 - val err: 56.500\n",
      "\n",
      "Epoch: 66/500 - LR: 0.000030\n"
     ]
    },
    {
     "name": "stderr",
     "output_type": "stream",
     "text": [
      "27.9s - loss: 1.395 - acc: 37.500: 100%|██████████| 3600/3600 [00:27<00:00, 129.24it/s]\n",
      "  0%|          | 0/3600 [00:00<?, ?it/s]"
     ]
    },
    {
     "name": "stdout",
     "output_type": "stream",
     "text": [
      "train loss: 1.370 - train acc: 47.083 - val loss: 1.408 - val acc: 44.500 - val err: 55.500\n",
      "\n",
      "Epoch: 67/500 - LR: 0.000030\n"
     ]
    },
    {
     "name": "stderr",
     "output_type": "stream",
     "text": [
      "15.4s - loss: 1.597 - acc: 43.750: 100%|██████████| 3600/3600 [00:15<00:00, 233.72it/s]\n",
      "  0%|          | 0/3600 [00:00<?, ?it/s]"
     ]
    },
    {
     "name": "stdout",
     "output_type": "stream",
     "text": [
      "train loss: 1.353 - train acc: 47.083 - val loss: 1.375 - val acc: 45.750 - val err: 54.250 [*]\n",
      "\n",
      "Epoch: 68/500 - LR: 0.000030\n"
     ]
    },
    {
     "name": "stderr",
     "output_type": "stream",
     "text": [
      "15.1s - loss: 1.332 - acc: 56.250: 100%|██████████| 3600/3600 [00:15<00:00, 238.30it/s]\n",
      "  0%|          | 0/3600 [00:00<?, ?it/s]"
     ]
    },
    {
     "name": "stdout",
     "output_type": "stream",
     "text": [
      "train loss: 1.363 - train acc: 47.083 - val loss: 1.394 - val acc: 44.250 - val err: 55.750\n",
      "\n",
      "Epoch: 69/500 - LR: 0.000030\n"
     ]
    },
    {
     "name": "stderr",
     "output_type": "stream",
     "text": [
      "14.9s - loss: 1.494 - acc: 43.750: 100%|██████████| 3600/3600 [00:14<00:00, 242.10it/s]\n",
      "  0%|          | 0/3600 [00:00<?, ?it/s]"
     ]
    },
    {
     "name": "stdout",
     "output_type": "stream",
     "text": [
      "train loss: 1.353 - train acc: 47.222 - val loss: 1.437 - val acc: 43.000 - val err: 57.000\n",
      "\n",
      "Epoch: 70/500 - LR: 0.000030\n"
     ]
    },
    {
     "name": "stderr",
     "output_type": "stream",
     "text": [
      "15.3s - loss: 1.627 - acc: 18.750: 100%|██████████| 3600/3600 [00:15<00:00, 235.81it/s]\n",
      "  0%|          | 0/3600 [00:00<?, ?it/s]"
     ]
    },
    {
     "name": "stdout",
     "output_type": "stream",
     "text": [
      "train loss: 1.372 - train acc: 46.417 - val loss: 1.362 - val acc: 44.500 - val err: 55.500\n",
      "\n",
      "Epoch: 71/500 - LR: 0.000030\n"
     ]
    },
    {
     "name": "stderr",
     "output_type": "stream",
     "text": [
      "15.1s - loss: 1.682 - acc: 37.500: 100%|██████████| 3600/3600 [00:15<00:00, 238.98it/s]\n",
      "  0%|          | 0/3600 [00:00<?, ?it/s]"
     ]
    },
    {
     "name": "stdout",
     "output_type": "stream",
     "text": [
      "train loss: 1.353 - train acc: 47.417 - val loss: 1.411 - val acc: 45.250 - val err: 54.750\n",
      "\n",
      "Epoch: 72/500 - LR: 0.000030\n"
     ]
    },
    {
     "name": "stderr",
     "output_type": "stream",
     "text": [
      "14.9s - loss: 1.802 - acc: 12.500: 100%|██████████| 3600/3600 [00:14<00:00, 241.09it/s]\n",
      "  0%|          | 0/3600 [00:00<?, ?it/s]"
     ]
    },
    {
     "name": "stdout",
     "output_type": "stream",
     "text": [
      "train loss: 1.356 - train acc: 47.944 - val loss: 1.416 - val acc: 44.250 - val err: 55.750\n",
      "\n",
      "Epoch: 73/500 - LR: 0.000030\n"
     ]
    },
    {
     "name": "stderr",
     "output_type": "stream",
     "text": [
      "15.0s - loss: 1.485 - acc: 37.500: 100%|██████████| 3600/3600 [00:15<00:00, 239.68it/s]\n",
      "  0%|          | 0/3600 [00:00<?, ?it/s]"
     ]
    },
    {
     "name": "stdout",
     "output_type": "stream",
     "text": [
      "train loss: 1.361 - train acc: 46.556 - val loss: 1.432 - val acc: 42.250 - val err: 57.750\n",
      "\n",
      "Epoch: 74/500 - LR: 0.000030\n"
     ]
    },
    {
     "name": "stderr",
     "output_type": "stream",
     "text": [
      "15.1s - loss: 1.493 - acc: 43.750: 100%|██████████| 3600/3600 [00:15<00:00, 238.76it/s]\n",
      "  0%|          | 0/3600 [00:00<?, ?it/s]"
     ]
    },
    {
     "name": "stdout",
     "output_type": "stream",
     "text": [
      "train loss: 1.362 - train acc: 46.278 - val loss: 1.396 - val acc: 47.000 - val err: 53.000 [*]\n",
      "\n",
      "Epoch: 75/500 - LR: 0.000030\n"
     ]
    },
    {
     "name": "stderr",
     "output_type": "stream",
     "text": [
      "15.3s - loss: 1.786 - acc: 31.250: 100%|██████████| 3600/3600 [00:15<00:00, 235.31it/s]\n",
      "  0%|          | 0/3600 [00:00<?, ?it/s]"
     ]
    },
    {
     "name": "stdout",
     "output_type": "stream",
     "text": [
      "train loss: 1.349 - train acc: 46.417 - val loss: 1.434 - val acc: 42.000 - val err: 58.000\n",
      "\n",
      "Epoch: 76/500 - LR: 0.000030\n"
     ]
    },
    {
     "name": "stderr",
     "output_type": "stream",
     "text": [
      "15.1s - loss: 1.316 - acc: 43.750: 100%|██████████| 3600/3600 [00:15<00:00, 238.20it/s]\n",
      "  0%|          | 0/3600 [00:00<?, ?it/s]"
     ]
    },
    {
     "name": "stdout",
     "output_type": "stream",
     "text": [
      "train loss: 1.332 - train acc: 48.861 - val loss: 1.420 - val acc: 44.250 - val err: 55.750\n",
      "\n",
      "Epoch: 77/500 - LR: 0.000030\n"
     ]
    },
    {
     "name": "stderr",
     "output_type": "stream",
     "text": [
      "15.5s - loss: 1.122 - acc: 68.750: 100%|██████████| 3600/3600 [00:15<00:00, 232.05it/s]\n",
      "  0%|          | 0/3600 [00:00<?, ?it/s]"
     ]
    },
    {
     "name": "stdout",
     "output_type": "stream",
     "text": [
      "train loss: 1.354 - train acc: 46.444 - val loss: 1.363 - val acc: 48.750 - val err: 51.250 [*]\n",
      "\n",
      "Epoch: 78/500 - LR: 0.000030\n"
     ]
    },
    {
     "name": "stderr",
     "output_type": "stream",
     "text": [
      "14.8s - loss: 1.532 - acc: 37.500: 100%|██████████| 3600/3600 [00:14<00:00, 243.47it/s]\n",
      "  0%|          | 0/3600 [00:00<?, ?it/s]"
     ]
    },
    {
     "name": "stdout",
     "output_type": "stream",
     "text": [
      "train loss: 1.353 - train acc: 47.417 - val loss: 1.389 - val acc: 44.000 - val err: 56.000\n",
      "\n",
      "Epoch: 79/500 - LR: 0.000030\n"
     ]
    },
    {
     "name": "stderr",
     "output_type": "stream",
     "text": [
      "15.1s - loss: 1.482 - acc: 43.750: 100%|██████████| 3600/3600 [00:15<00:00, 238.58it/s]\n",
      "  0%|          | 0/3600 [00:00<?, ?it/s]"
     ]
    },
    {
     "name": "stdout",
     "output_type": "stream",
     "text": [
      "train loss: 1.360 - train acc: 46.167 - val loss: 1.397 - val acc: 41.750 - val err: 58.250\n",
      "\n",
      "Epoch: 80/500 - LR: 0.000030\n"
     ]
    },
    {
     "name": "stderr",
     "output_type": "stream",
     "text": [
      "15.1s - loss: 1.451 - acc: 37.500: 100%|██████████| 3600/3600 [00:15<00:00, 239.19it/s]\n",
      "  0%|          | 0/3600 [00:00<?, ?it/s]"
     ]
    },
    {
     "name": "stdout",
     "output_type": "stream",
     "text": [
      "train loss: 1.338 - train acc: 47.750 - val loss: 1.429 - val acc: 42.750 - val err: 57.250\n",
      "\n",
      "Epoch: 81/500 - LR: 0.000030\n"
     ]
    },
    {
     "name": "stderr",
     "output_type": "stream",
     "text": [
      "14.5s - loss: 1.450 - acc: 43.750: 100%|██████████| 3600/3600 [00:14<00:00, 247.58it/s]\n",
      "  0%|          | 0/3600 [00:00<?, ?it/s]"
     ]
    },
    {
     "name": "stdout",
     "output_type": "stream",
     "text": [
      "train loss: 1.346 - train acc: 48.139 - val loss: 1.445 - val acc: 45.000 - val err: 55.000\n",
      "\n",
      "Epoch: 82/500 - LR: 0.000030\n"
     ]
    },
    {
     "name": "stderr",
     "output_type": "stream",
     "text": [
      "15.0s - loss: 1.302 - acc: 56.250: 100%|██████████| 3600/3600 [00:14<00:00, 240.18it/s]\n",
      "  0%|          | 0/3600 [00:00<?, ?it/s]"
     ]
    },
    {
     "name": "stdout",
     "output_type": "stream",
     "text": [
      "train loss: 1.340 - train acc: 48.083 - val loss: 1.437 - val acc: 40.750 - val err: 59.250\n",
      "\n",
      "Epoch: 83/500 - LR: 0.000030\n"
     ]
    },
    {
     "name": "stderr",
     "output_type": "stream",
     "text": [
      "15.0s - loss: 1.506 - acc: 37.500: 100%|██████████| 3600/3600 [00:14<00:00, 240.13it/s]\n",
      "  0%|          | 0/3600 [00:00<?, ?it/s]"
     ]
    },
    {
     "name": "stdout",
     "output_type": "stream",
     "text": [
      "train loss: 1.347 - train acc: 47.944 - val loss: 1.444 - val acc: 42.750 - val err: 57.250\n",
      "\n",
      "Epoch: 84/500 - LR: 0.000030\n"
     ]
    },
    {
     "name": "stderr",
     "output_type": "stream",
     "text": [
      "14.9s - loss: 1.308 - acc: 50.000: 100%|██████████| 3600/3600 [00:14<00:00, 240.86it/s]\n",
      "  0%|          | 0/3600 [00:00<?, ?it/s]"
     ]
    },
    {
     "name": "stdout",
     "output_type": "stream",
     "text": [
      "train loss: 1.354 - train acc: 47.278 - val loss: 1.464 - val acc: 42.500 - val err: 57.500\n",
      "\n",
      "Epoch: 85/500 - LR: 0.000030\n"
     ]
    },
    {
     "name": "stderr",
     "output_type": "stream",
     "text": [
      "15.4s - loss: 1.400 - acc: 37.500: 100%|██████████| 3600/3600 [00:15<00:00, 234.02it/s]\n",
      "  0%|          | 0/3600 [00:00<?, ?it/s]"
     ]
    },
    {
     "name": "stdout",
     "output_type": "stream",
     "text": [
      "train loss: 1.338 - train acc: 48.806 - val loss: 1.423 - val acc: 44.500 - val err: 55.500\n",
      "\n",
      "Epoch: 86/500 - LR: 0.000030\n"
     ]
    },
    {
     "name": "stderr",
     "output_type": "stream",
     "text": [
      "15.0s - loss: 1.419 - acc: 56.250: 100%|██████████| 3600/3600 [00:15<00:00, 239.30it/s]\n",
      "  0%|          | 0/3600 [00:00<?, ?it/s]"
     ]
    },
    {
     "name": "stdout",
     "output_type": "stream",
     "text": [
      "train loss: 1.354 - train acc: 47.722 - val loss: 1.400 - val acc: 44.000 - val err: 56.000\n",
      "\n",
      "Epoch: 87/500 - LR: 0.000030\n"
     ]
    },
    {
     "name": "stderr",
     "output_type": "stream",
     "text": [
      "15.0s - loss: 1.552 - acc: 31.250: 100%|██████████| 3600/3600 [00:14<00:00, 240.07it/s]\n",
      "  0%|          | 0/3600 [00:00<?, ?it/s]"
     ]
    },
    {
     "name": "stdout",
     "output_type": "stream",
     "text": [
      "train loss: 1.334 - train acc: 48.583 - val loss: 1.373 - val acc: 43.500 - val err: 56.500\n",
      "\n",
      "Epoch: 88/500 - LR: 0.000030\n"
     ]
    },
    {
     "name": "stderr",
     "output_type": "stream",
     "text": [
      "15.0s - loss: 1.513 - acc: 43.750: 100%|██████████| 3600/3600 [00:14<00:00, 240.32it/s]\n",
      "  0%|          | 0/3600 [00:00<?, ?it/s]"
     ]
    },
    {
     "name": "stdout",
     "output_type": "stream",
     "text": [
      "train loss: 1.332 - train acc: 47.528 - val loss: 1.352 - val acc: 46.000 - val err: 54.000\n",
      "\n",
      "Epoch: 89/500 - LR: 0.000030\n"
     ]
    },
    {
     "name": "stderr",
     "output_type": "stream",
     "text": [
      "15.0s - loss: 1.484 - acc: 37.500: 100%|██████████| 3600/3600 [00:14<00:00, 240.69it/s]\n",
      "  0%|          | 0/3600 [00:00<?, ?it/s]"
     ]
    },
    {
     "name": "stdout",
     "output_type": "stream",
     "text": [
      "train loss: 1.340 - train acc: 48.861 - val loss: 1.387 - val acc: 46.750 - val err: 53.250\n",
      "\n",
      "Epoch: 90/500 - LR: 0.000030\n"
     ]
    },
    {
     "name": "stderr",
     "output_type": "stream",
     "text": [
      "15.2s - loss: 1.384 - acc: 43.750: 100%|██████████| 3600/3600 [00:15<00:00, 237.57it/s]\n",
      "  0%|          | 0/3600 [00:00<?, ?it/s]"
     ]
    },
    {
     "name": "stdout",
     "output_type": "stream",
     "text": [
      "train loss: 1.346 - train acc: 47.722 - val loss: 1.383 - val acc: 47.750 - val err: 52.250\n",
      "\n",
      "Epoch: 91/500 - LR: 0.000030\n"
     ]
    },
    {
     "name": "stderr",
     "output_type": "stream",
     "text": [
      "15.0s - loss: 1.401 - acc: 50.000: 100%|██████████| 3600/3600 [00:15<00:00, 239.66it/s]\n",
      "  0%|          | 0/3600 [00:00<?, ?it/s]"
     ]
    },
    {
     "name": "stdout",
     "output_type": "stream",
     "text": [
      "train loss: 1.335 - train acc: 47.278 - val loss: 1.391 - val acc: 42.750 - val err: 57.250\n",
      "\n",
      "Epoch: 92/500 - LR: 0.000030\n"
     ]
    },
    {
     "name": "stderr",
     "output_type": "stream",
     "text": [
      "15.5s - loss: 1.413 - acc: 43.750: 100%|██████████| 3600/3600 [00:15<00:00, 232.91it/s]\n",
      "  0%|          | 0/3600 [00:00<?, ?it/s]"
     ]
    },
    {
     "name": "stdout",
     "output_type": "stream",
     "text": [
      "train loss: 1.336 - train acc: 48.889 - val loss: 1.394 - val acc: 43.500 - val err: 56.500\n",
      "\n",
      "Epoch: 93/500 - LR: 0.000030\n"
     ]
    },
    {
     "name": "stderr",
     "output_type": "stream",
     "text": [
      "15.1s - loss: 1.243 - acc: 56.250: 100%|██████████| 3600/3600 [00:15<00:00, 239.14it/s]\n",
      "  0%|          | 0/3600 [00:00<?, ?it/s]"
     ]
    },
    {
     "name": "stdout",
     "output_type": "stream",
     "text": [
      "train loss: 1.342 - train acc: 47.667 - val loss: 1.381 - val acc: 45.500 - val err: 54.500\n",
      "\n",
      "Epoch: 94/500 - LR: 0.000030\n"
     ]
    },
    {
     "name": "stderr",
     "output_type": "stream",
     "text": [
      "15.0s - loss: 1.484 - acc: 43.750: 100%|██████████| 3600/3600 [00:15<00:00, 239.50it/s]\n",
      "  0%|          | 0/3600 [00:00<?, ?it/s]"
     ]
    },
    {
     "name": "stdout",
     "output_type": "stream",
     "text": [
      "train loss: 1.343 - train acc: 46.889 - val loss: 1.386 - val acc: 45.500 - val err: 54.500\n",
      "\n",
      "Epoch: 95/500 - LR: 0.000030\n"
     ]
    },
    {
     "name": "stderr",
     "output_type": "stream",
     "text": [
      "15.1s - loss: 1.097 - acc: 62.500: 100%|██████████| 3600/3600 [00:15<00:00, 239.06it/s]\n",
      "  0%|          | 0/3600 [00:00<?, ?it/s]"
     ]
    },
    {
     "name": "stdout",
     "output_type": "stream",
     "text": [
      "train loss: 1.334 - train acc: 48.056 - val loss: 1.412 - val acc: 46.250 - val err: 53.750\n",
      "\n",
      "Epoch: 96/500 - LR: 0.000030\n"
     ]
    },
    {
     "name": "stderr",
     "output_type": "stream",
     "text": [
      "15.3s - loss: 0.918 - acc: 62.500: 100%|██████████| 3600/3600 [00:15<00:00, 235.62it/s]\n",
      "  0%|          | 0/3600 [00:00<?, ?it/s]"
     ]
    },
    {
     "name": "stdout",
     "output_type": "stream",
     "text": [
      "train loss: 1.322 - train acc: 47.972 - val loss: 1.415 - val acc: 43.250 - val err: 56.750\n",
      "\n",
      "Epoch: 97/500 - LR: 0.000030\n"
     ]
    },
    {
     "name": "stderr",
     "output_type": "stream",
     "text": [
      "14.2s - loss: 1.320 - acc: 50.000: 100%|██████████| 3600/3600 [00:14<00:00, 252.82it/s]\n",
      "  0%|          | 0/3600 [00:00<?, ?it/s]"
     ]
    },
    {
     "name": "stdout",
     "output_type": "stream",
     "text": [
      "train loss: 1.336 - train acc: 47.806 - val loss: 1.364 - val acc: 43.250 - val err: 56.750\n",
      "\n",
      "Epoch: 98/500 - LR: 0.000030\n"
     ]
    },
    {
     "name": "stderr",
     "output_type": "stream",
     "text": [
      "15.0s - loss: 1.499 - acc: 43.750: 100%|██████████| 3600/3600 [00:14<00:00, 240.09it/s]\n",
      "  0%|          | 0/3600 [00:00<?, ?it/s]"
     ]
    },
    {
     "name": "stdout",
     "output_type": "stream",
     "text": [
      "train loss: 1.325 - train acc: 48.972 - val loss: 1.399 - val acc: 43.250 - val err: 56.750\n",
      "\n",
      "Epoch: 99/500 - LR: 0.000003\n"
     ]
    },
    {
     "name": "stderr",
     "output_type": "stream",
     "text": [
      "15.0s - loss: 1.823 - acc: 31.250: 100%|██████████| 3600/3600 [00:15<00:00, 239.79it/s]\n",
      "  0%|          | 0/3600 [00:00<?, ?it/s]"
     ]
    },
    {
     "name": "stdout",
     "output_type": "stream",
     "text": [
      "train loss: 1.346 - train acc: 47.639 - val loss: 1.379 - val acc: 45.250 - val err: 54.750\n",
      "\n",
      "Epoch: 100/500 - LR: 0.000003\n"
     ]
    },
    {
     "name": "stderr",
     "output_type": "stream",
     "text": [
      "15.2s - loss: 1.435 - acc: 43.750: 100%|██████████| 3600/3600 [00:15<00:00, 236.78it/s]\n",
      "  0%|          | 0/3600 [00:00<?, ?it/s]"
     ]
    },
    {
     "name": "stdout",
     "output_type": "stream",
     "text": [
      "train loss: 1.329 - train acc: 47.917 - val loss: 1.419 - val acc: 41.500 - val err: 58.500\n",
      "\n",
      "Epoch: 101/500 - LR: 0.000003\n"
     ]
    },
    {
     "name": "stderr",
     "output_type": "stream",
     "text": [
      "14.9s - loss: 1.712 - acc: 31.250: 100%|██████████| 3600/3600 [00:14<00:00, 241.16it/s]\n",
      "  0%|          | 0/3600 [00:00<?, ?it/s]"
     ]
    },
    {
     "name": "stdout",
     "output_type": "stream",
     "text": [
      "train loss: 1.323 - train acc: 48.556 - val loss: 1.395 - val acc: 45.750 - val err: 54.250\n",
      "\n",
      "Epoch: 102/500 - LR: 0.000003\n"
     ]
    },
    {
     "name": "stderr",
     "output_type": "stream",
     "text": [
      "21.2s - loss: 1.549 - acc: 56.250: 100%|██████████| 3600/3600 [00:21<00:00, 169.83it/s]\n",
      "  0%|          | 0/3600 [00:00<?, ?it/s]"
     ]
    },
    {
     "name": "stdout",
     "output_type": "stream",
     "text": [
      "train loss: 1.341 - train acc: 47.944 - val loss: 1.355 - val acc: 43.250 - val err: 56.750\n",
      "\n",
      "Epoch: 103/500 - LR: 0.000003\n"
     ]
    },
    {
     "name": "stderr",
     "output_type": "stream",
     "text": [
      "15.6s - loss: 1.533 - acc: 50.000: 100%|██████████| 3600/3600 [00:15<00:00, 231.51it/s]\n",
      "  0%|          | 0/3600 [00:00<?, ?it/s]"
     ]
    },
    {
     "name": "stdout",
     "output_type": "stream",
     "text": [
      "train loss: 1.332 - train acc: 48.333 - val loss: 1.366 - val acc: 45.000 - val err: 55.000\n",
      "\n",
      "Epoch: 104/500 - LR: 0.000003\n"
     ]
    },
    {
     "name": "stderr",
     "output_type": "stream",
     "text": [
      "16.0s - loss: 1.541 - acc: 37.500: 100%|██████████| 3600/3600 [00:16<00:00, 224.35it/s]\n",
      "  0%|          | 0/3600 [00:00<?, ?it/s]"
     ]
    },
    {
     "name": "stdout",
     "output_type": "stream",
     "text": [
      "train loss: 1.324 - train acc: 48.194 - val loss: 1.427 - val acc: 39.000 - val err: 61.000\n",
      "\n",
      "Epoch: 105/500 - LR: 0.000003\n"
     ]
    },
    {
     "name": "stderr",
     "output_type": "stream",
     "text": [
      "16.3s - loss: 1.402 - acc: 50.000: 100%|██████████| 3600/3600 [00:16<00:00, 220.22it/s]\n",
      "  0%|          | 0/3600 [00:00<?, ?it/s]"
     ]
    },
    {
     "name": "stdout",
     "output_type": "stream",
     "text": [
      "train loss: 1.325 - train acc: 49.833 - val loss: 1.394 - val acc: 45.250 - val err: 54.750\n",
      "\n",
      "Epoch: 106/500 - LR: 0.000003\n"
     ]
    },
    {
     "name": "stderr",
     "output_type": "stream",
     "text": [
      "17.4s - loss: 1.084 - acc: 56.250: 100%|██████████| 3600/3600 [00:17<00:00, 207.20it/s]\n",
      "  0%|          | 0/3600 [00:00<?, ?it/s]"
     ]
    },
    {
     "name": "stdout",
     "output_type": "stream",
     "text": [
      "train loss: 1.315 - train acc: 48.944 - val loss: 1.397 - val acc: 44.000 - val err: 56.000\n",
      "\n",
      "Epoch: 107/500 - LR: 0.000003\n"
     ]
    },
    {
     "name": "stderr",
     "output_type": "stream",
     "text": [
      "15.9s - loss: 1.651 - acc: 31.250: 100%|██████████| 3600/3600 [00:15<00:00, 226.95it/s]\n",
      "  0%|          | 0/3600 [00:00<?, ?it/s]"
     ]
    },
    {
     "name": "stdout",
     "output_type": "stream",
     "text": [
      "train loss: 1.324 - train acc: 48.111 - val loss: 1.382 - val acc: 45.500 - val err: 54.500\n",
      "\n",
      "Epoch: 108/500 - LR: 0.000003\n"
     ]
    },
    {
     "name": "stderr",
     "output_type": "stream",
     "text": [
      "15.3s - loss: 1.321 - acc: 50.000: 100%|██████████| 3600/3600 [00:15<00:00, 235.95it/s]\n",
      "  0%|          | 0/3600 [00:00<?, ?it/s]"
     ]
    },
    {
     "name": "stdout",
     "output_type": "stream",
     "text": [
      "train loss: 1.328 - train acc: 47.361 - val loss: 1.374 - val acc: 49.500 - val err: 50.500 [*]\n",
      "\n",
      "Epoch: 109/500 - LR: 0.000003\n"
     ]
    },
    {
     "name": "stderr",
     "output_type": "stream",
     "text": [
      "15.3s - loss: 1.530 - acc: 31.250: 100%|██████████| 3600/3600 [00:15<00:00, 234.91it/s]\n",
      "  0%|          | 0/3600 [00:00<?, ?it/s]"
     ]
    },
    {
     "name": "stdout",
     "output_type": "stream",
     "text": [
      "train loss: 1.320 - train acc: 49.083 - val loss: 1.363 - val acc: 47.750 - val err: 52.250\n",
      "\n",
      "Epoch: 110/500 - LR: 0.000003\n"
     ]
    },
    {
     "name": "stderr",
     "output_type": "stream",
     "text": [
      "15.3s - loss: 1.237 - acc: 56.250: 100%|██████████| 3600/3600 [00:15<00:00, 235.11it/s]\n",
      "  0%|          | 0/3600 [00:00<?, ?it/s]"
     ]
    },
    {
     "name": "stdout",
     "output_type": "stream",
     "text": [
      "train loss: 1.338 - train acc: 46.889 - val loss: 1.421 - val acc: 43.750 - val err: 56.250\n",
      "\n",
      "Epoch: 111/500 - LR: 0.000003\n"
     ]
    },
    {
     "name": "stderr",
     "output_type": "stream",
     "text": [
      "15.1s - loss: 1.100 - acc: 50.000: 100%|██████████| 3600/3600 [00:15<00:00, 237.95it/s]\n",
      "  0%|          | 0/3600 [00:00<?, ?it/s]"
     ]
    },
    {
     "name": "stdout",
     "output_type": "stream",
     "text": [
      "train loss: 1.314 - train acc: 48.833 - val loss: 1.386 - val acc: 46.750 - val err: 53.250\n",
      "\n",
      "Epoch: 112/500 - LR: 0.000003\n"
     ]
    },
    {
     "name": "stderr",
     "output_type": "stream",
     "text": [
      "15.2s - loss: 1.492 - acc: 56.250: 100%|██████████| 3600/3600 [00:15<00:00, 236.40it/s]\n",
      "  0%|          | 0/3600 [00:00<?, ?it/s]"
     ]
    },
    {
     "name": "stdout",
     "output_type": "stream",
     "text": [
      "train loss: 1.348 - train acc: 47.583 - val loss: 1.373 - val acc: 47.750 - val err: 52.250\n",
      "\n",
      "Epoch: 113/500 - LR: 0.000003\n"
     ]
    },
    {
     "name": "stderr",
     "output_type": "stream",
     "text": [
      "15.0s - loss: 1.411 - acc: 37.500: 100%|██████████| 3600/3600 [00:14<00:00, 240.33it/s]\n",
      "  0%|          | 0/3600 [00:00<?, ?it/s]"
     ]
    },
    {
     "name": "stdout",
     "output_type": "stream",
     "text": [
      "train loss: 1.332 - train acc: 47.694 - val loss: 1.470 - val acc: 41.500 - val err: 58.500\n",
      "\n",
      "Epoch: 114/500 - LR: 0.000003\n"
     ]
    },
    {
     "name": "stderr",
     "output_type": "stream",
     "text": [
      "15.9s - loss: 1.539 - acc: 43.750: 100%|██████████| 3600/3600 [00:15<00:00, 226.38it/s]\n",
      "  0%|          | 0/3600 [00:00<?, ?it/s]"
     ]
    },
    {
     "name": "stdout",
     "output_type": "stream",
     "text": [
      "train loss: 1.324 - train acc: 48.250 - val loss: 1.380 - val acc: 45.500 - val err: 54.500\n",
      "\n",
      "Epoch: 115/500 - LR: 0.000003\n"
     ]
    },
    {
     "name": "stderr",
     "output_type": "stream",
     "text": [
      "15.0s - loss: 1.362 - acc: 50.000: 100%|██████████| 3600/3600 [00:15<00:00, 239.62it/s]\n",
      "  0%|          | 0/3600 [00:00<?, ?it/s]"
     ]
    },
    {
     "name": "stdout",
     "output_type": "stream",
     "text": [
      "train loss: 1.324 - train acc: 48.278 - val loss: 1.322 - val acc: 50.250 - val err: 49.750 [*]\n",
      "\n",
      "Epoch: 116/500 - LR: 0.000003\n"
     ]
    },
    {
     "name": "stderr",
     "output_type": "stream",
     "text": [
      "15.0s - loss: 1.366 - acc: 31.250: 100%|██████████| 3600/3600 [00:14<00:00, 240.52it/s]\n",
      "  0%|          | 0/3600 [00:00<?, ?it/s]"
     ]
    },
    {
     "name": "stdout",
     "output_type": "stream",
     "text": [
      "train loss: 1.316 - train acc: 49.222 - val loss: 1.349 - val acc: 49.250 - val err: 50.750\n",
      "\n",
      "Epoch: 117/500 - LR: 0.000003\n"
     ]
    },
    {
     "name": "stderr",
     "output_type": "stream",
     "text": [
      "14.9s - loss: 1.382 - acc: 50.000: 100%|██████████| 3600/3600 [00:14<00:00, 240.96it/s]\n",
      "  0%|          | 0/3600 [00:00<?, ?it/s]"
     ]
    },
    {
     "name": "stdout",
     "output_type": "stream",
     "text": [
      "train loss: 1.317 - train acc: 48.417 - val loss: 1.375 - val acc: 45.750 - val err: 54.250\n",
      "\n",
      "Epoch: 118/500 - LR: 0.000003\n"
     ]
    },
    {
     "name": "stderr",
     "output_type": "stream",
     "text": [
      "16.4s - loss: 1.288 - acc: 50.000: 100%|██████████| 3600/3600 [00:16<00:00, 219.94it/s]\n",
      "  0%|          | 0/3600 [00:00<?, ?it/s]"
     ]
    },
    {
     "name": "stdout",
     "output_type": "stream",
     "text": [
      "train loss: 1.320 - train acc: 49.250 - val loss: 1.411 - val acc: 42.000 - val err: 58.000\n",
      "\n",
      "Epoch: 119/500 - LR: 0.000003\n"
     ]
    },
    {
     "name": "stderr",
     "output_type": "stream",
     "text": [
      "15.1s - loss: 1.131 - acc: 75.000: 100%|██████████| 3600/3600 [00:15<00:00, 238.11it/s]\n",
      "  0%|          | 0/3600 [00:00<?, ?it/s]"
     ]
    },
    {
     "name": "stdout",
     "output_type": "stream",
     "text": [
      "train loss: 1.332 - train acc: 47.889 - val loss: 1.373 - val acc: 44.750 - val err: 55.250\n",
      "\n",
      "Epoch: 120/500 - LR: 0.000003\n"
     ]
    },
    {
     "name": "stderr",
     "output_type": "stream",
     "text": [
      "15.0s - loss: 1.515 - acc: 50.000: 100%|██████████| 3600/3600 [00:15<00:00, 239.55it/s]\n",
      "  0%|          | 0/3600 [00:00<?, ?it/s]"
     ]
    },
    {
     "name": "stdout",
     "output_type": "stream",
     "text": [
      "train loss: 1.328 - train acc: 48.167 - val loss: 1.354 - val acc: 49.250 - val err: 50.750\n",
      "\n",
      "Epoch: 121/500 - LR: 0.000003\n"
     ]
    },
    {
     "name": "stderr",
     "output_type": "stream",
     "text": [
      "15.3s - loss: 1.288 - acc: 50.000: 100%|██████████| 3600/3600 [00:15<00:00, 235.75it/s]\n",
      "  0%|          | 0/3600 [00:00<?, ?it/s]"
     ]
    },
    {
     "name": "stdout",
     "output_type": "stream",
     "text": [
      "train loss: 1.331 - train acc: 48.250 - val loss: 1.442 - val acc: 42.500 - val err: 57.500\n",
      "\n",
      "Epoch: 122/500 - LR: 0.000003\n"
     ]
    },
    {
     "name": "stderr",
     "output_type": "stream",
     "text": [
      "15.2s - loss: 1.601 - acc: 31.250: 100%|██████████| 3600/3600 [00:15<00:00, 237.61it/s]\n",
      "  0%|          | 0/3600 [00:00<?, ?it/s]"
     ]
    },
    {
     "name": "stdout",
     "output_type": "stream",
     "text": [
      "train loss: 1.327 - train acc: 47.972 - val loss: 1.362 - val acc: 46.750 - val err: 53.250\n",
      "\n",
      "Epoch: 123/500 - LR: 0.000003\n"
     ]
    },
    {
     "name": "stderr",
     "output_type": "stream",
     "text": [
      "15.0s - loss: 1.272 - acc: 50.000: 100%|██████████| 3600/3600 [00:15<00:00, 239.24it/s]\n",
      "  0%|          | 0/3600 [00:00<?, ?it/s]"
     ]
    },
    {
     "name": "stdout",
     "output_type": "stream",
     "text": [
      "train loss: 1.326 - train acc: 47.917 - val loss: 1.399 - val acc: 45.000 - val err: 55.000\n",
      "\n",
      "Epoch: 124/500 - LR: 0.000003\n"
     ]
    },
    {
     "name": "stderr",
     "output_type": "stream",
     "text": [
      "15.0s - loss: 1.481 - acc: 50.000: 100%|██████████| 3600/3600 [00:14<00:00, 240.67it/s]\n",
      "  0%|          | 0/3600 [00:00<?, ?it/s]"
     ]
    },
    {
     "name": "stdout",
     "output_type": "stream",
     "text": [
      "train loss: 1.315 - train acc: 48.389 - val loss: 1.421 - val acc: 42.500 - val err: 57.500\n",
      "\n",
      "Epoch: 125/500 - LR: 0.000003\n"
     ]
    },
    {
     "name": "stderr",
     "output_type": "stream",
     "text": [
      "15.0s - loss: 1.304 - acc: 50.000: 100%|██████████| 3600/3600 [00:15<00:00, 239.63it/s]\n",
      "  0%|          | 0/3600 [00:00<?, ?it/s]"
     ]
    },
    {
     "name": "stdout",
     "output_type": "stream",
     "text": [
      "train loss: 1.323 - train acc: 49.528 - val loss: 1.336 - val acc: 47.000 - val err: 53.000\n",
      "\n",
      "Epoch: 126/500 - LR: 0.000003\n"
     ]
    },
    {
     "name": "stderr",
     "output_type": "stream",
     "text": [
      "14.9s - loss: 1.429 - acc: 43.750: 100%|██████████| 3600/3600 [00:14<00:00, 241.35it/s]\n",
      "  0%|          | 0/3600 [00:00<?, ?it/s]"
     ]
    },
    {
     "name": "stdout",
     "output_type": "stream",
     "text": [
      "train loss: 1.324 - train acc: 48.861 - val loss: 1.378 - val acc: 47.500 - val err: 52.500\n",
      "\n",
      "Epoch: 127/500 - LR: 0.000003\n"
     ]
    },
    {
     "name": "stderr",
     "output_type": "stream",
     "text": [
      "15.0s - loss: 1.494 - acc: 37.500: 100%|██████████| 3600/3600 [00:14<00:00, 240.45it/s]\n",
      "  0%|          | 0/3600 [00:00<?, ?it/s]"
     ]
    },
    {
     "name": "stdout",
     "output_type": "stream",
     "text": [
      "train loss: 1.306 - train acc: 49.694 - val loss: 1.413 - val acc: 42.250 - val err: 57.750\n",
      "\n",
      "Epoch: 128/500 - LR: 0.000003\n"
     ]
    },
    {
     "name": "stderr",
     "output_type": "stream",
     "text": [
      "15.2s - loss: 1.545 - acc: 37.500: 100%|██████████| 3600/3600 [00:15<00:00, 237.08it/s]\n",
      "  0%|          | 0/3600 [00:00<?, ?it/s]"
     ]
    },
    {
     "name": "stdout",
     "output_type": "stream",
     "text": [
      "train loss: 1.322 - train acc: 49.556 - val loss: 1.390 - val acc: 44.750 - val err: 55.250\n",
      "\n",
      "Epoch: 129/500 - LR: 0.000003\n"
     ]
    },
    {
     "name": "stderr",
     "output_type": "stream",
     "text": [
      "15.6s - loss: 1.377 - acc: 43.750: 100%|██████████| 3600/3600 [00:15<00:00, 230.28it/s]\n",
      "  0%|          | 0/3600 [00:00<?, ?it/s]"
     ]
    },
    {
     "name": "stdout",
     "output_type": "stream",
     "text": [
      "train loss: 1.328 - train acc: 48.139 - val loss: 1.377 - val acc: 44.750 - val err: 55.250\n",
      "\n",
      "Epoch: 130/500 - LR: 0.000003\n"
     ]
    },
    {
     "name": "stderr",
     "output_type": "stream",
     "text": [
      "15.1s - loss: 1.583 - acc: 18.750: 100%|██████████| 3600/3600 [00:15<00:00, 238.74it/s]\n",
      "  0%|          | 0/3600 [00:00<?, ?it/s]"
     ]
    },
    {
     "name": "stdout",
     "output_type": "stream",
     "text": [
      "train loss: 1.332 - train acc: 47.917 - val loss: 1.363 - val acc: 47.500 - val err: 52.500\n",
      "\n",
      "Epoch: 131/500 - LR: 0.000003\n"
     ]
    },
    {
     "name": "stderr",
     "output_type": "stream",
     "text": [
      "22.1s - loss: 1.456 - acc: 43.750: 100%|██████████| 3600/3600 [00:22<00:00, 162.78it/s]\n",
      "  0%|          | 0/3600 [00:00<?, ?it/s]"
     ]
    },
    {
     "name": "stdout",
     "output_type": "stream",
     "text": [
      "train loss: 1.335 - train acc: 48.000 - val loss: 1.372 - val acc: 49.500 - val err: 50.500\n",
      "\n",
      "Epoch: 132/500 - LR: 0.000003\n"
     ]
    },
    {
     "name": "stderr",
     "output_type": "stream",
     "text": [
      "19.5s - loss: 1.667 - acc: 25.000: 100%|██████████| 3600/3600 [00:19<00:00, 184.16it/s]\n",
      "  0%|          | 0/3600 [00:00<?, ?it/s]"
     ]
    },
    {
     "name": "stdout",
     "output_type": "stream",
     "text": [
      "train loss: 1.313 - train acc: 49.333 - val loss: 1.386 - val acc: 42.750 - val err: 57.250\n",
      "\n",
      "Epoch: 133/500 - LR: 0.000003\n"
     ]
    },
    {
     "name": "stderr",
     "output_type": "stream",
     "text": [
      "15.1s - loss: 1.467 - acc: 37.500: 100%|██████████| 3600/3600 [00:15<00:00, 238.54it/s]\n",
      "  0%|          | 0/3600 [00:00<?, ?it/s]"
     ]
    },
    {
     "name": "stdout",
     "output_type": "stream",
     "text": [
      "train loss: 1.314 - train acc: 48.500 - val loss: 1.440 - val acc: 45.500 - val err: 54.500\n",
      "\n",
      "Epoch: 134/500 - LR: 0.000003\n"
     ]
    },
    {
     "name": "stderr",
     "output_type": "stream",
     "text": [
      "15.1s - loss: 1.300 - acc: 62.500: 100%|██████████| 3600/3600 [00:15<00:00, 238.24it/s]\n",
      "  0%|          | 0/3600 [00:00<?, ?it/s]"
     ]
    },
    {
     "name": "stdout",
     "output_type": "stream",
     "text": [
      "train loss: 1.324 - train acc: 49.139 - val loss: 1.397 - val acc: 46.500 - val err: 53.500\n",
      "\n",
      "Epoch: 135/500 - LR: 0.000003\n"
     ]
    },
    {
     "name": "stderr",
     "output_type": "stream",
     "text": [
      "15.0s - loss: 1.499 - acc: 37.500: 100%|██████████| 3600/3600 [00:15<00:00, 239.59it/s]\n",
      "  0%|          | 0/3600 [00:00<?, ?it/s]"
     ]
    },
    {
     "name": "stdout",
     "output_type": "stream",
     "text": [
      "train loss: 1.310 - train acc: 49.194 - val loss: 1.382 - val acc: 42.500 - val err: 57.500\n",
      "\n",
      "Epoch: 136/500 - LR: 0.000003\n"
     ]
    },
    {
     "name": "stderr",
     "output_type": "stream",
     "text": [
      "15.3s - loss: 1.711 - acc: 18.750: 100%|██████████| 3600/3600 [00:15<00:00, 235.87it/s]\n",
      "  0%|          | 0/3600 [00:00<?, ?it/s]"
     ]
    },
    {
     "name": "stdout",
     "output_type": "stream",
     "text": [
      "train loss: 1.319 - train acc: 48.778 - val loss: 1.336 - val acc: 47.750 - val err: 52.250\n",
      "\n",
      "Epoch: 137/500 - LR: 0.000000\n"
     ]
    },
    {
     "name": "stderr",
     "output_type": "stream",
     "text": [
      "15.1s - loss: 1.089 - acc: 50.000: 100%|██████████| 3600/3600 [00:15<00:00, 238.52it/s]\n",
      "  0%|          | 0/3600 [00:00<?, ?it/s]"
     ]
    },
    {
     "name": "stdout",
     "output_type": "stream",
     "text": [
      "train loss: 1.328 - train acc: 47.889 - val loss: 1.346 - val acc: 48.250 - val err: 51.750\n",
      "\n",
      "Epoch: 138/500 - LR: 0.000000\n"
     ]
    },
    {
     "name": "stderr",
     "output_type": "stream",
     "text": [
      "15.1s - loss: 1.154 - acc: 68.750: 100%|██████████| 3600/3600 [00:15<00:00, 237.94it/s]\n",
      "  0%|          | 0/3600 [00:00<?, ?it/s]"
     ]
    },
    {
     "name": "stdout",
     "output_type": "stream",
     "text": [
      "train loss: 1.300 - train acc: 50.583 - val loss: 1.383 - val acc: 47.500 - val err: 52.500\n",
      "\n",
      "Epoch: 139/500 - LR: 0.000000\n"
     ]
    },
    {
     "name": "stderr",
     "output_type": "stream",
     "text": [
      "15.3s - loss: 1.215 - acc: 50.000: 100%|██████████| 3600/3600 [00:15<00:00, 235.45it/s]\n",
      "  0%|          | 0/3600 [00:00<?, ?it/s]"
     ]
    },
    {
     "name": "stdout",
     "output_type": "stream",
     "text": [
      "train loss: 1.326 - train acc: 48.278 - val loss: 1.381 - val acc: 47.750 - val err: 52.250\n",
      "\n",
      "Epoch: 140/500 - LR: 0.000000\n"
     ]
    },
    {
     "name": "stderr",
     "output_type": "stream",
     "text": [
      "15.0s - loss: 1.316 - acc: 50.000: 100%|██████████| 3600/3600 [00:14<00:00, 240.24it/s]\n",
      "  0%|          | 0/3600 [00:00<?, ?it/s]"
     ]
    },
    {
     "name": "stdout",
     "output_type": "stream",
     "text": [
      "train loss: 1.319 - train acc: 49.056 - val loss: 1.374 - val acc: 45.000 - val err: 55.000\n",
      "\n",
      "Epoch: 141/500 - LR: 0.000000\n"
     ]
    },
    {
     "name": "stderr",
     "output_type": "stream",
     "text": [
      "15.0s - loss: 1.563 - acc: 43.750: 100%|██████████| 3600/3600 [00:15<00:00, 239.56it/s]\n",
      "  0%|          | 0/3600 [00:00<?, ?it/s]"
     ]
    },
    {
     "name": "stdout",
     "output_type": "stream",
     "text": [
      "train loss: 1.327 - train acc: 49.778 - val loss: 1.375 - val acc: 44.500 - val err: 55.500\n",
      "\n",
      "Epoch: 142/500 - LR: 0.000000\n"
     ]
    },
    {
     "name": "stderr",
     "output_type": "stream",
     "text": [
      "15.0s - loss: 1.880 - acc: 31.250: 100%|██████████| 3600/3600 [00:15<00:00, 239.86it/s]\n",
      "  0%|          | 0/3600 [00:00<?, ?it/s]"
     ]
    },
    {
     "name": "stdout",
     "output_type": "stream",
     "text": [
      "train loss: 1.320 - train acc: 49.611 - val loss: 1.389 - val acc: 44.500 - val err: 55.500\n",
      "\n",
      "Epoch: 143/500 - LR: 0.000000\n"
     ]
    },
    {
     "name": "stderr",
     "output_type": "stream",
     "text": [
      "15.2s - loss: 1.154 - acc: 62.500: 100%|██████████| 3600/3600 [00:15<00:00, 236.11it/s]\n",
      "  0%|          | 0/3600 [00:00<?, ?it/s]"
     ]
    },
    {
     "name": "stdout",
     "output_type": "stream",
     "text": [
      "train loss: 1.323 - train acc: 48.944 - val loss: 1.405 - val acc: 44.250 - val err: 55.750\n",
      "\n",
      "Epoch: 144/500 - LR: 0.000000\n"
     ]
    },
    {
     "name": "stderr",
     "output_type": "stream",
     "text": [
      "15.0s - loss: 1.538 - acc: 37.500: 100%|██████████| 3600/3600 [00:14<00:00, 240.48it/s]\n",
      "  0%|          | 0/3600 [00:00<?, ?it/s]"
     ]
    },
    {
     "name": "stdout",
     "output_type": "stream",
     "text": [
      "train loss: 1.325 - train acc: 49.278 - val loss: 1.438 - val acc: 42.250 - val err: 57.750\n",
      "\n",
      "Epoch: 145/500 - LR: 0.000000\n"
     ]
    },
    {
     "name": "stderr",
     "output_type": "stream",
     "text": [
      "15.1s - loss: 1.213 - acc: 56.250: 100%|██████████| 3600/3600 [00:15<00:00, 237.93it/s]\n",
      "  0%|          | 0/3600 [00:00<?, ?it/s]"
     ]
    },
    {
     "name": "stdout",
     "output_type": "stream",
     "text": [
      "train loss: 1.326 - train acc: 48.389 - val loss: 1.309 - val acc: 48.250 - val err: 51.750\n",
      "\n",
      "Epoch: 146/500 - LR: 0.000000\n"
     ]
    },
    {
     "name": "stderr",
     "output_type": "stream",
     "text": [
      "15.1s - loss: 1.188 - acc: 56.250: 100%|██████████| 3600/3600 [00:15<00:00, 238.52it/s]\n",
      "  0%|          | 0/3600 [00:00<?, ?it/s]"
     ]
    },
    {
     "name": "stdout",
     "output_type": "stream",
     "text": [
      "train loss: 1.308 - train acc: 49.139 - val loss: 1.378 - val acc: 42.500 - val err: 57.500\n",
      "\n",
      "Epoch: 147/500 - LR: 0.000000\n"
     ]
    },
    {
     "name": "stderr",
     "output_type": "stream",
     "text": [
      "15.3s - loss: 1.266 - acc: 56.250: 100%|██████████| 3600/3600 [00:15<00:00, 235.03it/s]\n",
      "  0%|          | 0/3600 [00:00<?, ?it/s]"
     ]
    },
    {
     "name": "stdout",
     "output_type": "stream",
     "text": [
      "train loss: 1.314 - train acc: 49.278 - val loss: 1.454 - val acc: 41.500 - val err: 58.500\n",
      "\n",
      "Epoch: 148/500 - LR: 0.000000\n"
     ]
    },
    {
     "name": "stderr",
     "output_type": "stream",
     "text": [
      "14.9s - loss: 1.479 - acc: 37.500: 100%|██████████| 3600/3600 [00:14<00:00, 241.30it/s]\n",
      "  0%|          | 0/3600 [00:00<?, ?it/s]"
     ]
    },
    {
     "name": "stdout",
     "output_type": "stream",
     "text": [
      "train loss: 1.319 - train acc: 49.500 - val loss: 1.383 - val acc: 46.750 - val err: 53.250\n",
      "\n",
      "Epoch: 149/500 - LR: 0.000000\n"
     ]
    },
    {
     "name": "stderr",
     "output_type": "stream",
     "text": [
      "15.1s - loss: 0.949 - acc: 75.000: 100%|██████████| 3600/3600 [00:15<00:00, 237.85it/s]\n",
      "  0%|          | 0/3600 [00:00<?, ?it/s]"
     ]
    },
    {
     "name": "stdout",
     "output_type": "stream",
     "text": [
      "train loss: 1.317 - train acc: 48.417 - val loss: 1.395 - val acc: 46.000 - val err: 54.000\n",
      "\n",
      "Epoch: 150/500 - LR: 0.000000\n"
     ]
    },
    {
     "name": "stderr",
     "output_type": "stream",
     "text": [
      "14.9s - loss: 1.030 - acc: 75.000: 100%|██████████| 3600/3600 [00:14<00:00, 241.33it/s]\n",
      "  0%|          | 0/3600 [00:00<?, ?it/s]"
     ]
    },
    {
     "name": "stdout",
     "output_type": "stream",
     "text": [
      "train loss: 1.330 - train acc: 48.722 - val loss: 1.390 - val acc: 47.000 - val err: 53.000\n",
      "\n",
      "Epoch: 151/500 - LR: 0.000000\n"
     ]
    },
    {
     "name": "stderr",
     "output_type": "stream",
     "text": [
      "15.9s - loss: 1.549 - acc: 43.750: 100%|██████████| 3600/3600 [00:15<00:00, 226.54it/s]\n",
      "  0%|          | 0/3600 [00:00<?, ?it/s]"
     ]
    },
    {
     "name": "stdout",
     "output_type": "stream",
     "text": [
      "train loss: 1.309 - train acc: 49.722 - val loss: 1.379 - val acc: 44.500 - val err: 55.500\n",
      "\n",
      "Epoch: 152/500 - LR: 0.000000\n"
     ]
    },
    {
     "name": "stderr",
     "output_type": "stream",
     "text": [
      "15.1s - loss: 1.177 - acc: 37.500: 100%|██████████| 3600/3600 [00:15<00:00, 238.87it/s]\n",
      "  0%|          | 0/3600 [00:00<?, ?it/s]"
     ]
    },
    {
     "name": "stdout",
     "output_type": "stream",
     "text": [
      "train loss: 1.330 - train acc: 48.639 - val loss: 1.388 - val acc: 45.000 - val err: 55.000\n",
      "\n",
      "Epoch: 153/500 - LR: 0.000000\n"
     ]
    },
    {
     "name": "stderr",
     "output_type": "stream",
     "text": [
      "15.0s - loss: 1.607 - acc: 43.750: 100%|██████████| 3600/3600 [00:14<00:00, 240.45it/s]\n",
      "  0%|          | 0/3600 [00:00<?, ?it/s]"
     ]
    },
    {
     "name": "stdout",
     "output_type": "stream",
     "text": [
      "train loss: 1.316 - train acc: 49.139 - val loss: 1.379 - val acc: 45.750 - val err: 54.250\n",
      "\n",
      "Epoch: 154/500 - LR: 0.000000\n"
     ]
    },
    {
     "name": "stderr",
     "output_type": "stream",
     "text": [
      "15.6s - loss: 1.174 - acc: 56.250: 100%|██████████| 3600/3600 [00:15<00:00, 231.30it/s]\n",
      "  0%|          | 0/3600 [00:00<?, ?it/s]"
     ]
    },
    {
     "name": "stdout",
     "output_type": "stream",
     "text": [
      "train loss: 1.328 - train acc: 49.306 - val loss: 1.376 - val acc: 47.250 - val err: 52.750\n",
      "\n",
      "Epoch: 155/500 - LR: 0.000000\n"
     ]
    },
    {
     "name": "stderr",
     "output_type": "stream",
     "text": [
      "16.7s - loss: 1.463 - acc: 43.750: 100%|██████████| 3600/3600 [00:16<00:00, 215.79it/s]\n",
      "  0%|          | 0/3600 [00:00<?, ?it/s]"
     ]
    },
    {
     "name": "stdout",
     "output_type": "stream",
     "text": [
      "train loss: 1.311 - train acc: 48.750 - val loss: 1.384 - val acc: 47.000 - val err: 53.000\n",
      "\n",
      "Epoch: 156/500 - LR: 0.000000\n"
     ]
    },
    {
     "name": "stderr",
     "output_type": "stream",
     "text": [
      "15.2s - loss: 1.179 - acc: 37.500: 100%|██████████| 3600/3600 [00:15<00:00, 237.27it/s]\n",
      "  0%|          | 0/3600 [00:00<?, ?it/s]"
     ]
    },
    {
     "name": "stdout",
     "output_type": "stream",
     "text": [
      "train loss: 1.323 - train acc: 49.806 - val loss: 1.383 - val acc: 45.250 - val err: 54.750\n",
      "\n",
      "Epoch: 157/500 - LR: 0.000000\n"
     ]
    },
    {
     "name": "stderr",
     "output_type": "stream",
     "text": [
      "15.1s - loss: 1.514 - acc: 37.500: 100%|██████████| 3600/3600 [00:15<00:00, 238.47it/s]\n",
      "  0%|          | 0/3600 [00:00<?, ?it/s]"
     ]
    },
    {
     "name": "stdout",
     "output_type": "stream",
     "text": [
      "train loss: 1.318 - train acc: 48.222 - val loss: 1.367 - val acc: 44.250 - val err: 55.750\n",
      "\n",
      "Epoch: 158/500 - LR: 0.000000\n"
     ]
    },
    {
     "name": "stderr",
     "output_type": "stream",
     "text": [
      "15.8s - loss: 1.577 - acc: 37.500: 100%|██████████| 3600/3600 [00:15<00:00, 227.80it/s]\n",
      "  0%|          | 0/3600 [00:00<?, ?it/s]"
     ]
    },
    {
     "name": "stdout",
     "output_type": "stream",
     "text": [
      "train loss: 1.327 - train acc: 49.250 - val loss: 1.405 - val acc: 43.250 - val err: 56.750\n",
      "\n",
      "Epoch: 159/500 - LR: 0.000000\n"
     ]
    },
    {
     "name": "stderr",
     "output_type": "stream",
     "text": [
      "15.2s - loss: 1.416 - acc: 43.750: 100%|██████████| 3600/3600 [00:15<00:00, 236.42it/s]\n",
      "  0%|          | 0/3600 [00:00<?, ?it/s]"
     ]
    },
    {
     "name": "stdout",
     "output_type": "stream",
     "text": [
      "train loss: 1.314 - train acc: 48.778 - val loss: 1.388 - val acc: 45.750 - val err: 54.250\n",
      "\n",
      "Epoch: 160/500 - LR: 0.000000\n"
     ]
    },
    {
     "name": "stderr",
     "output_type": "stream",
     "text": [
      "15.2s - loss: 1.390 - acc: 43.750: 100%|██████████| 3600/3600 [00:15<00:00, 237.19it/s]\n",
      "  0%|          | 0/3600 [00:00<?, ?it/s]"
     ]
    },
    {
     "name": "stdout",
     "output_type": "stream",
     "text": [
      "train loss: 1.323 - train acc: 49.000 - val loss: 1.330 - val acc: 49.500 - val err: 50.500\n",
      "\n",
      "Epoch: 161/500 - LR: 0.000000\n"
     ]
    },
    {
     "name": "stderr",
     "output_type": "stream",
     "text": [
      "15.0s - loss: 1.313 - acc: 43.750: 100%|██████████| 3600/3600 [00:15<00:00, 239.22it/s]\n",
      "  0%|          | 0/3600 [00:00<?, ?it/s]"
     ]
    },
    {
     "name": "stdout",
     "output_type": "stream",
     "text": [
      "train loss: 1.338 - train acc: 47.222 - val loss: 1.391 - val acc: 43.250 - val err: 56.750\n",
      "\n",
      "Epoch: 162/500 - LR: 0.000000\n"
     ]
    },
    {
     "name": "stderr",
     "output_type": "stream",
     "text": [
      "15.1s - loss: 1.197 - acc: 56.250: 100%|██████████| 3600/3600 [00:15<00:00, 237.91it/s]\n",
      "  0%|          | 0/3600 [00:00<?, ?it/s]"
     ]
    },
    {
     "name": "stdout",
     "output_type": "stream",
     "text": [
      "train loss: 1.328 - train acc: 48.583 - val loss: 1.340 - val acc: 46.000 - val err: 54.000\n",
      "\n",
      "Epoch: 163/500 - LR: 0.000000\n"
     ]
    },
    {
     "name": "stderr",
     "output_type": "stream",
     "text": [
      "15.2s - loss: 1.319 - acc: 56.250: 100%|██████████| 3600/3600 [00:15<00:00, 236.10it/s]\n",
      "  0%|          | 0/3600 [00:00<?, ?it/s]"
     ]
    },
    {
     "name": "stdout",
     "output_type": "stream",
     "text": [
      "train loss: 1.318 - train acc: 49.389 - val loss: 1.388 - val acc: 46.750 - val err: 53.250\n",
      "\n",
      "Epoch: 164/500 - LR: 0.000000\n"
     ]
    },
    {
     "name": "stderr",
     "output_type": "stream",
     "text": [
      "15.8s - loss: 1.218 - acc: 62.500: 100%|██████████| 3600/3600 [00:15<00:00, 228.28it/s]\n",
      "  0%|          | 0/3600 [00:00<?, ?it/s]"
     ]
    },
    {
     "name": "stdout",
     "output_type": "stream",
     "text": [
      "train loss: 1.316 - train acc: 49.111 - val loss: 1.368 - val acc: 43.750 - val err: 56.250\n",
      "\n",
      "Epoch: 165/500 - LR: 0.000000\n"
     ]
    },
    {
     "name": "stderr",
     "output_type": "stream",
     "text": [
      "15.2s - loss: 1.330 - acc: 56.250: 100%|██████████| 3600/3600 [00:15<00:00, 237.32it/s]\n",
      "  0%|          | 0/3600 [00:00<?, ?it/s]"
     ]
    },
    {
     "name": "stdout",
     "output_type": "stream",
     "text": [
      "train loss: 1.325 - train acc: 48.917 - val loss: 1.376 - val acc: 45.750 - val err: 54.250\n",
      "\n",
      "Epoch: 166/500 - LR: 0.000000\n"
     ]
    },
    {
     "name": "stderr",
     "output_type": "stream",
     "text": [
      "15.1s - loss: 1.424 - acc: 43.750: 100%|██████████| 3600/3600 [00:15<00:00, 238.60it/s]\n",
      "  0%|          | 0/3600 [00:00<?, ?it/s]"
     ]
    },
    {
     "name": "stdout",
     "output_type": "stream",
     "text": [
      "train loss: 1.327 - train acc: 47.722 - val loss: 1.362 - val acc: 45.250 - val err: 54.750\n",
      "\n",
      "Epoch: 167/500 - LR: 0.000000\n"
     ]
    },
    {
     "name": "stderr",
     "output_type": "stream",
     "text": [
      "15.2s - loss: 1.335 - acc: 50.000: 100%|██████████| 3600/3600 [00:15<00:00, 236.77it/s]\n",
      "  0%|          | 0/3600 [00:00<?, ?it/s]"
     ]
    },
    {
     "name": "stdout",
     "output_type": "stream",
     "text": [
      "train loss: 1.320 - train acc: 48.556 - val loss: 1.359 - val acc: 45.000 - val err: 55.000\n",
      "\n",
      "Epoch: 168/500 - LR: 0.000000\n"
     ]
    },
    {
     "name": "stderr",
     "output_type": "stream",
     "text": [
      "15.1s - loss: 1.252 - acc: 56.250: 100%|██████████| 3600/3600 [00:15<00:00, 238.64it/s]\n",
      "  0%|          | 0/3600 [00:00<?, ?it/s]"
     ]
    },
    {
     "name": "stdout",
     "output_type": "stream",
     "text": [
      "train loss: 1.310 - train acc: 49.222 - val loss: 1.410 - val acc: 43.250 - val err: 56.750\n",
      "\n",
      "Epoch: 169/500 - LR: 0.000000\n"
     ]
    },
    {
     "name": "stderr",
     "output_type": "stream",
     "text": [
      "15.1s - loss: 1.113 - acc: 68.750: 100%|██████████| 3600/3600 [00:15<00:00, 237.87it/s]\n",
      "  0%|          | 0/3600 [00:00<?, ?it/s]"
     ]
    },
    {
     "name": "stdout",
     "output_type": "stream",
     "text": [
      "train loss: 1.322 - train acc: 49.389 - val loss: 1.394 - val acc: 46.000 - val err: 54.000\n",
      "\n",
      "Epoch: 170/500 - LR: 0.000000\n"
     ]
    },
    {
     "name": "stderr",
     "output_type": "stream",
     "text": [
      "15.0s - loss: 1.192 - acc: 56.250: 100%|██████████| 3600/3600 [00:14<00:00, 240.41it/s]\n",
      "  0%|          | 0/3600 [00:00<?, ?it/s]"
     ]
    },
    {
     "name": "stdout",
     "output_type": "stream",
     "text": [
      "train loss: 1.335 - train acc: 48.278 - val loss: 1.387 - val acc: 44.250 - val err: 55.750\n",
      "\n",
      "Epoch: 171/500 - LR: 0.000000\n"
     ]
    },
    {
     "name": "stderr",
     "output_type": "stream",
     "text": [
      "15.2s - loss: 1.608 - acc: 37.500: 100%|██████████| 3600/3600 [00:15<00:00, 237.12it/s]\n",
      "  0%|          | 0/3600 [00:00<?, ?it/s]"
     ]
    },
    {
     "name": "stdout",
     "output_type": "stream",
     "text": [
      "train loss: 1.319 - train acc: 48.889 - val loss: 1.368 - val acc: 49.250 - val err: 50.750\n",
      "\n",
      "Epoch: 172/500 - LR: 0.000000\n"
     ]
    },
    {
     "name": "stderr",
     "output_type": "stream",
     "text": [
      "15.1s - loss: 1.931 - acc: 18.750: 100%|██████████| 3600/3600 [00:15<00:00, 238.59it/s]\n",
      "  0%|          | 0/3600 [00:00<?, ?it/s]"
     ]
    },
    {
     "name": "stdout",
     "output_type": "stream",
     "text": [
      "train loss: 1.333 - train acc: 49.083 - val loss: 1.383 - val acc: 45.000 - val err: 55.000\n",
      "\n",
      "Epoch: 173/500 - LR: 0.000000\n"
     ]
    },
    {
     "name": "stderr",
     "output_type": "stream",
     "text": [
      "15.3s - loss: 1.600 - acc: 37.500: 100%|██████████| 3600/3600 [00:15<00:00, 234.56it/s]\n",
      "  0%|          | 0/3600 [00:00<?, ?it/s]"
     ]
    },
    {
     "name": "stdout",
     "output_type": "stream",
     "text": [
      "train loss: 1.303 - train acc: 49.389 - val loss: 1.397 - val acc: 44.000 - val err: 56.000\n",
      "\n",
      "Epoch: 174/500 - LR: 0.000000\n"
     ]
    },
    {
     "name": "stderr",
     "output_type": "stream",
     "text": [
      "15.1s - loss: 1.216 - acc: 56.250: 100%|██████████| 3600/3600 [00:15<00:00, 239.06it/s]\n",
      "  0%|          | 0/3600 [00:00<?, ?it/s]"
     ]
    },
    {
     "name": "stdout",
     "output_type": "stream",
     "text": [
      "train loss: 1.333 - train acc: 48.444 - val loss: 1.391 - val acc: 44.750 - val err: 55.250\n",
      "\n",
      "Epoch: 175/500 - LR: 0.000000\n"
     ]
    },
    {
     "name": "stderr",
     "output_type": "stream",
     "text": [
      "15.2s - loss: 1.100 - acc: 68.750: 100%|██████████| 3600/3600 [00:15<00:00, 236.50it/s]\n",
      "  0%|          | 0/3600 [00:00<?, ?it/s]"
     ]
    },
    {
     "name": "stdout",
     "output_type": "stream",
     "text": [
      "train loss: 1.330 - train acc: 49.417 - val loss: 1.414 - val acc: 45.750 - val err: 54.250\n",
      "\n",
      "Epoch: 176/500 - LR: 0.000000\n"
     ]
    },
    {
     "name": "stderr",
     "output_type": "stream",
     "text": [
      "15.1s - loss: 1.208 - acc: 50.000: 100%|██████████| 3600/3600 [00:15<00:00, 238.74it/s]\n",
      "  0%|          | 0/3600 [00:00<?, ?it/s]"
     ]
    },
    {
     "name": "stdout",
     "output_type": "stream",
     "text": [
      "train loss: 1.315 - train acc: 49.444 - val loss: 1.343 - val acc: 45.250 - val err: 54.750\n",
      "\n",
      "Epoch: 177/500 - LR: 0.000000\n"
     ]
    },
    {
     "name": "stderr",
     "output_type": "stream",
     "text": [
      "15.2s - loss: 1.395 - acc: 31.250: 100%|██████████| 3600/3600 [00:15<00:00, 236.12it/s]\n",
      "  0%|          | 0/3600 [00:00<?, ?it/s]"
     ]
    },
    {
     "name": "stdout",
     "output_type": "stream",
     "text": [
      "train loss: 1.332 - train acc: 48.139 - val loss: 1.400 - val acc: 42.750 - val err: 57.250\n",
      "\n",
      "Epoch: 178/500 - LR: 0.000000\n"
     ]
    },
    {
     "name": "stderr",
     "output_type": "stream",
     "text": [
      "15.1s - loss: 1.233 - acc: 68.750: 100%|██████████| 3600/3600 [00:15<00:00, 238.55it/s]\n",
      "  0%|          | 0/3600 [00:00<?, ?it/s]"
     ]
    },
    {
     "name": "stdout",
     "output_type": "stream",
     "text": [
      "train loss: 1.332 - train acc: 48.306 - val loss: 1.371 - val acc: 47.250 - val err: 52.750\n",
      "\n",
      "Epoch: 179/500 - LR: 0.000000\n"
     ]
    },
    {
     "name": "stderr",
     "output_type": "stream",
     "text": [
      "15.2s - loss: 1.339 - acc: 25.000: 100%|██████████| 3600/3600 [00:15<00:00, 237.42it/s]\n",
      "  0%|          | 0/3600 [00:00<?, ?it/s]"
     ]
    },
    {
     "name": "stdout",
     "output_type": "stream",
     "text": [
      "train loss: 1.338 - train acc: 48.278 - val loss: 1.430 - val acc: 42.250 - val err: 57.750\n",
      "\n",
      "Epoch: 180/500 - LR: 0.000000\n"
     ]
    },
    {
     "name": "stderr",
     "output_type": "stream",
     "text": [
      "15.3s - loss: 1.421 - acc: 31.250: 100%|██████████| 3600/3600 [00:15<00:00, 235.77it/s]\n",
      "  0%|          | 0/3600 [00:00<?, ?it/s]"
     ]
    },
    {
     "name": "stdout",
     "output_type": "stream",
     "text": [
      "train loss: 1.334 - train acc: 48.417 - val loss: 1.348 - val acc: 46.750 - val err: 53.250\n",
      "\n",
      "Epoch: 181/500 - LR: 0.000000\n"
     ]
    },
    {
     "name": "stderr",
     "output_type": "stream",
     "text": [
      "15.2s - loss: 1.367 - acc: 37.500: 100%|██████████| 3600/3600 [00:15<00:00, 237.13it/s]\n",
      "  0%|          | 0/3600 [00:00<?, ?it/s]"
     ]
    },
    {
     "name": "stdout",
     "output_type": "stream",
     "text": [
      "train loss: 1.331 - train acc: 48.528 - val loss: 1.361 - val acc: 46.750 - val err: 53.250\n",
      "\n",
      "Epoch: 182/500 - LR: 0.000000\n"
     ]
    },
    {
     "name": "stderr",
     "output_type": "stream",
     "text": [
      "15.2s - loss: 1.697 - acc: 31.250: 100%|██████████| 3600/3600 [00:15<00:00, 236.67it/s]\n",
      "  0%|          | 0/3600 [00:00<?, ?it/s]"
     ]
    },
    {
     "name": "stdout",
     "output_type": "stream",
     "text": [
      "train loss: 1.319 - train acc: 49.472 - val loss: 1.380 - val acc: 44.750 - val err: 55.250\n",
      "\n",
      "Epoch: 183/500 - LR: 0.000000\n"
     ]
    },
    {
     "name": "stderr",
     "output_type": "stream",
     "text": [
      "15.2s - loss: 1.256 - acc: 50.000: 100%|██████████| 3600/3600 [00:15<00:00, 236.63it/s]\n",
      "  0%|          | 0/3600 [00:00<?, ?it/s]"
     ]
    },
    {
     "name": "stdout",
     "output_type": "stream",
     "text": [
      "train loss: 1.327 - train acc: 48.500 - val loss: 1.437 - val acc: 44.750 - val err: 55.250\n",
      "\n",
      "Epoch: 184/500 - LR: 0.000000\n"
     ]
    },
    {
     "name": "stderr",
     "output_type": "stream",
     "text": [
      "17.4s - loss: 1.248 - acc: 50.000: 100%|██████████| 3600/3600 [00:17<00:00, 206.44it/s]\n",
      "  0%|          | 0/3600 [00:00<?, ?it/s]"
     ]
    },
    {
     "name": "stdout",
     "output_type": "stream",
     "text": [
      "train loss: 1.313 - train acc: 49.806 - val loss: 1.362 - val acc: 46.000 - val err: 54.000\n",
      "\n",
      "Epoch: 185/500 - LR: 0.000000\n"
     ]
    },
    {
     "name": "stderr",
     "output_type": "stream",
     "text": [
      "15.2s - loss: 1.227 - acc: 43.750: 100%|██████████| 3600/3600 [00:15<00:00, 236.53it/s]\n",
      "  0%|          | 0/3600 [00:00<?, ?it/s]"
     ]
    },
    {
     "name": "stdout",
     "output_type": "stream",
     "text": [
      "train loss: 1.335 - train acc: 48.278 - val loss: 1.414 - val acc: 42.750 - val err: 57.250\n",
      "\n",
      "Epoch: 186/500 - LR: 0.000000\n"
     ]
    },
    {
     "name": "stderr",
     "output_type": "stream",
     "text": [
      "15.1s - loss: 1.485 - acc: 43.750: 100%|██████████| 3600/3600 [00:15<00:00, 238.11it/s]\n",
      "  0%|          | 0/3600 [00:00<?, ?it/s]"
     ]
    },
    {
     "name": "stdout",
     "output_type": "stream",
     "text": [
      "train loss: 1.318 - train acc: 49.389 - val loss: 1.375 - val acc: 46.750 - val err: 53.250\n",
      "\n",
      "Epoch: 187/500 - LR: 0.000000\n"
     ]
    },
    {
     "name": "stderr",
     "output_type": "stream",
     "text": [
      "15.0s - loss: 1.508 - acc: 56.250: 100%|██████████| 3600/3600 [00:15<00:00, 239.49it/s]\n",
      "  0%|          | 0/3600 [00:00<?, ?it/s]"
     ]
    },
    {
     "name": "stdout",
     "output_type": "stream",
     "text": [
      "train loss: 1.311 - train acc: 50.389 - val loss: 1.345 - val acc: 51.250 - val err: 48.750 [*]\n",
      "\n",
      "Epoch: 188/500 - LR: 0.000000\n"
     ]
    },
    {
     "name": "stderr",
     "output_type": "stream",
     "text": [
      "23.0s - loss: 1.582 - acc: 43.750: 100%|██████████| 3600/3600 [00:22<00:00, 156.72it/s]\n",
      "  0%|          | 0/3600 [00:00<?, ?it/s]"
     ]
    },
    {
     "name": "stdout",
     "output_type": "stream",
     "text": [
      "train loss: 1.319 - train acc: 49.278 - val loss: 1.361 - val acc: 43.250 - val err: 56.750\n",
      "\n",
      "Epoch: 189/500 - LR: 0.000000\n"
     ]
    },
    {
     "name": "stderr",
     "output_type": "stream",
     "text": [
      "16.5s - loss: 1.814 - acc: 37.500: 100%|██████████| 3600/3600 [00:16<00:00, 218.46it/s]\n",
      "  0%|          | 0/3600 [00:00<?, ?it/s]"
     ]
    },
    {
     "name": "stdout",
     "output_type": "stream",
     "text": [
      "train loss: 1.323 - train acc: 49.444 - val loss: 1.390 - val acc: 47.000 - val err: 53.000\n",
      "\n",
      "Epoch: 190/500 - LR: 0.000000\n"
     ]
    },
    {
     "name": "stderr",
     "output_type": "stream",
     "text": [
      "16.2s - loss: 1.298 - acc: 68.750: 100%|██████████| 3600/3600 [00:16<00:00, 221.88it/s]\n",
      "  0%|          | 0/3600 [00:00<?, ?it/s]"
     ]
    },
    {
     "name": "stdout",
     "output_type": "stream",
     "text": [
      "train loss: 1.334 - train acc: 48.361 - val loss: 1.384 - val acc: 44.750 - val err: 55.250\n",
      "\n",
      "Epoch: 191/500 - LR: 0.000000\n"
     ]
    },
    {
     "name": "stderr",
     "output_type": "stream",
     "text": [
      "16.1s - loss: 1.216 - acc: 56.250: 100%|██████████| 3600/3600 [00:16<00:00, 223.78it/s]\n",
      "  0%|          | 0/3600 [00:00<?, ?it/s]"
     ]
    },
    {
     "name": "stdout",
     "output_type": "stream",
     "text": [
      "train loss: 1.306 - train acc: 48.611 - val loss: 1.389 - val acc: 43.250 - val err: 56.750\n",
      "\n",
      "Epoch: 192/500 - LR: 0.000000\n"
     ]
    },
    {
     "name": "stderr",
     "output_type": "stream",
     "text": [
      "16.3s - loss: 1.614 - acc: 37.500: 100%|██████████| 3600/3600 [00:16<00:00, 220.48it/s]\n",
      "  0%|          | 0/3600 [00:00<?, ?it/s]"
     ]
    },
    {
     "name": "stdout",
     "output_type": "stream",
     "text": [
      "train loss: 1.323 - train acc: 49.167 - val loss: 1.406 - val acc: 42.500 - val err: 57.500\n",
      "\n",
      "Epoch: 193/500 - LR: 0.000000\n"
     ]
    },
    {
     "name": "stderr",
     "output_type": "stream",
     "text": [
      "17.3s - loss: 1.524 - acc: 43.750: 100%|██████████| 3600/3600 [00:17<00:00, 207.89it/s]\n",
      "  0%|          | 0/3600 [00:00<?, ?it/s]"
     ]
    },
    {
     "name": "stdout",
     "output_type": "stream",
     "text": [
      "train loss: 1.332 - train acc: 48.278 - val loss: 1.388 - val acc: 41.750 - val err: 58.250\n",
      "\n",
      "Epoch: 194/500 - LR: 0.000000\n"
     ]
    },
    {
     "name": "stderr",
     "output_type": "stream",
     "text": [
      "15.6s - loss: 1.756 - acc: 25.000: 100%|██████████| 3600/3600 [00:15<00:00, 230.94it/s]\n",
      "  0%|          | 0/3600 [00:00<?, ?it/s]"
     ]
    },
    {
     "name": "stdout",
     "output_type": "stream",
     "text": [
      "train loss: 1.331 - train acc: 49.056 - val loss: 1.340 - val acc: 47.000 - val err: 53.000\n",
      "\n",
      "Epoch: 195/500 - LR: 0.000000\n"
     ]
    },
    {
     "name": "stderr",
     "output_type": "stream",
     "text": [
      "15.4s - loss: 1.392 - acc: 56.250: 100%|██████████| 3600/3600 [00:15<00:00, 234.32it/s]\n",
      "  0%|          | 0/3600 [00:00<?, ?it/s]"
     ]
    },
    {
     "name": "stdout",
     "output_type": "stream",
     "text": [
      "train loss: 1.327 - train acc: 48.639 - val loss: 1.352 - val acc: 47.000 - val err: 53.000\n",
      "\n",
      "Epoch: 196/500 - LR: 0.000000\n"
     ]
    },
    {
     "name": "stderr",
     "output_type": "stream",
     "text": [
      "15.3s - loss: 1.338 - acc: 56.250: 100%|██████████| 3600/3600 [00:15<00:00, 234.59it/s]\n",
      "  0%|          | 0/3600 [00:00<?, ?it/s]"
     ]
    },
    {
     "name": "stdout",
     "output_type": "stream",
     "text": [
      "train loss: 1.314 - train acc: 49.611 - val loss: 1.330 - val acc: 47.750 - val err: 52.250\n",
      "\n",
      "Epoch: 197/500 - LR: 0.000000\n"
     ]
    },
    {
     "name": "stderr",
     "output_type": "stream",
     "text": [
      "15.1s - loss: 1.812 - acc: 25.000: 100%|██████████| 3600/3600 [00:15<00:00, 239.12it/s]\n",
      "  0%|          | 0/3600 [00:00<?, ?it/s]"
     ]
    },
    {
     "name": "stdout",
     "output_type": "stream",
     "text": [
      "train loss: 1.330 - train acc: 48.000 - val loss: 1.359 - val acc: 48.250 - val err: 51.750\n",
      "\n",
      "Epoch: 198/500 - LR: 0.000000\n"
     ]
    },
    {
     "name": "stderr",
     "output_type": "stream",
     "text": [
      "15.1s - loss: 1.405 - acc: 37.500: 100%|██████████| 3600/3600 [00:15<00:00, 238.22it/s]\n",
      "  0%|          | 0/3600 [00:00<?, ?it/s]"
     ]
    },
    {
     "name": "stdout",
     "output_type": "stream",
     "text": [
      "train loss: 1.318 - train acc: 49.028 - val loss: 1.420 - val acc: 41.500 - val err: 58.500\n",
      "\n",
      "Epoch: 199/500 - LR: 0.000000\n"
     ]
    },
    {
     "name": "stderr",
     "output_type": "stream",
     "text": [
      "15.1s - loss: 1.443 - acc: 43.750: 100%|██████████| 3600/3600 [00:15<00:00, 238.24it/s]\n",
      "  0%|          | 0/3600 [00:00<?, ?it/s]"
     ]
    },
    {
     "name": "stdout",
     "output_type": "stream",
     "text": [
      "train loss: 1.317 - train acc: 49.667 - val loss: 1.351 - val acc: 46.000 - val err: 54.000\n",
      "\n",
      "Epoch: 200/500 - LR: 0.000000\n"
     ]
    },
    {
     "name": "stderr",
     "output_type": "stream",
     "text": [
      "15.2s - loss: 0.976 - acc: 81.250: 100%|██████████| 3600/3600 [00:15<00:00, 236.68it/s]\n",
      "  0%|          | 0/3600 [00:00<?, ?it/s]"
     ]
    },
    {
     "name": "stdout",
     "output_type": "stream",
     "text": [
      "train loss: 1.314 - train acc: 50.000 - val loss: 1.368 - val acc: 46.500 - val err: 53.500\n",
      "\n",
      "Epoch: 201/500 - LR: 0.000000\n"
     ]
    },
    {
     "name": "stderr",
     "output_type": "stream",
     "text": [
      "15.0s - loss: 0.948 - acc: 81.250: 100%|██████████| 3600/3600 [00:14<00:00, 240.30it/s]\n",
      "  0%|          | 0/3600 [00:00<?, ?it/s]"
     ]
    },
    {
     "name": "stdout",
     "output_type": "stream",
     "text": [
      "train loss: 1.320 - train acc: 49.056 - val loss: 1.419 - val acc: 44.500 - val err: 55.500\n",
      "\n",
      "Epoch: 202/500 - LR: 0.000000\n"
     ]
    },
    {
     "name": "stderr",
     "output_type": "stream",
     "text": [
      "15.3s - loss: 1.549 - acc: 25.000: 100%|██████████| 3600/3600 [00:15<00:00, 235.12it/s]\n",
      "  0%|          | 0/3600 [00:00<?, ?it/s]"
     ]
    },
    {
     "name": "stdout",
     "output_type": "stream",
     "text": [
      "train loss: 1.320 - train acc: 49.083 - val loss: 1.396 - val acc: 43.500 - val err: 56.500\n",
      "\n",
      "Epoch: 203/500 - LR: 0.000000\n"
     ]
    },
    {
     "name": "stderr",
     "output_type": "stream",
     "text": [
      "15.3s - loss: 1.146 - acc: 56.250: 100%|██████████| 3600/3600 [00:15<00:00, 236.01it/s]\n",
      "  0%|          | 0/3600 [00:00<?, ?it/s]"
     ]
    },
    {
     "name": "stdout",
     "output_type": "stream",
     "text": [
      "train loss: 1.334 - train acc: 48.361 - val loss: 1.410 - val acc: 43.250 - val err: 56.750\n",
      "\n",
      "Epoch: 204/500 - LR: 0.000000\n"
     ]
    },
    {
     "name": "stderr",
     "output_type": "stream",
     "text": [
      "15.8s - loss: 1.315 - acc: 62.500: 100%|██████████| 3600/3600 [00:15<00:00, 227.82it/s]\n",
      "  0%|          | 0/3600 [00:00<?, ?it/s]"
     ]
    },
    {
     "name": "stdout",
     "output_type": "stream",
     "text": [
      "train loss: 1.315 - train acc: 48.778 - val loss: 1.364 - val acc: 44.750 - val err: 55.250\n",
      "\n",
      "Epoch: 205/500 - LR: 0.000000\n"
     ]
    },
    {
     "name": "stderr",
     "output_type": "stream",
     "text": [
      "15.2s - loss: 1.675 - acc: 43.750: 100%|██████████| 3600/3600 [00:15<00:00, 237.02it/s]\n",
      "  0%|          | 0/3600 [00:00<?, ?it/s]"
     ]
    },
    {
     "name": "stdout",
     "output_type": "stream",
     "text": [
      "train loss: 1.328 - train acc: 47.972 - val loss: 1.352 - val acc: 43.500 - val err: 56.500\n",
      "\n",
      "Epoch: 206/500 - LR: 0.000000\n"
     ]
    },
    {
     "name": "stderr",
     "output_type": "stream",
     "text": [
      "15.6s - loss: 1.541 - acc: 37.500: 100%|██████████| 3600/3600 [00:15<00:00, 230.62it/s]\n",
      "  0%|          | 0/3600 [00:00<?, ?it/s]"
     ]
    },
    {
     "name": "stdout",
     "output_type": "stream",
     "text": [
      "train loss: 1.324 - train acc: 49.250 - val loss: 1.398 - val acc: 45.000 - val err: 55.000\n",
      "\n",
      "Epoch: 207/500 - LR: 0.000000\n"
     ]
    },
    {
     "name": "stderr",
     "output_type": "stream",
     "text": [
      "25.6s - loss: 1.360 - acc: 68.750: 100%|██████████| 3600/3600 [00:25<00:00, 140.83it/s]\n",
      "  0%|          | 0/3600 [00:00<?, ?it/s]"
     ]
    },
    {
     "name": "stdout",
     "output_type": "stream",
     "text": [
      "train loss: 1.331 - train acc: 48.028 - val loss: 1.376 - val acc: 47.500 - val err: 52.500\n",
      "\n",
      "Epoch: 208/500 - LR: 0.000000\n"
     ]
    },
    {
     "name": "stderr",
     "output_type": "stream",
     "text": [
      "15.9s - loss: 1.228 - acc: 56.250: 100%|██████████| 3600/3600 [00:15<00:00, 226.47it/s]\n",
      "  0%|          | 0/3600 [00:00<?, ?it/s]"
     ]
    },
    {
     "name": "stdout",
     "output_type": "stream",
     "text": [
      "train loss: 1.327 - train acc: 48.861 - val loss: 1.396 - val acc: 43.250 - val err: 56.750\n",
      "\n",
      "Epoch: 209/500 - LR: 0.000000\n"
     ]
    },
    {
     "name": "stderr",
     "output_type": "stream",
     "text": [
      "15.7s - loss: 1.148 - acc: 50.000: 100%|██████████| 3600/3600 [00:15<00:00, 228.98it/s]\n",
      "  0%|          | 0/3600 [00:00<?, ?it/s]"
     ]
    },
    {
     "name": "stdout",
     "output_type": "stream",
     "text": [
      "train loss: 1.317 - train acc: 48.583 - val loss: 1.414 - val acc: 45.000 - val err: 55.000\n",
      "\n",
      "Epoch: 210/500 - LR: 0.000000\n"
     ]
    },
    {
     "name": "stderr",
     "output_type": "stream",
     "text": [
      "15.1s - loss: 1.326 - acc: 56.250: 100%|██████████| 3600/3600 [00:15<00:00, 237.65it/s]\n",
      "  0%|          | 0/3600 [00:00<?, ?it/s]"
     ]
    },
    {
     "name": "stdout",
     "output_type": "stream",
     "text": [
      "train loss: 1.342 - train acc: 47.500 - val loss: 1.354 - val acc: 49.000 - val err: 51.000\n",
      "\n",
      "Epoch: 211/500 - LR: 0.000000\n"
     ]
    },
    {
     "name": "stderr",
     "output_type": "stream",
     "text": [
      "15.0s - loss: 1.382 - acc: 43.750: 100%|██████████| 3600/3600 [00:15<00:00, 240.00it/s]\n",
      "  0%|          | 0/3600 [00:00<?, ?it/s]"
     ]
    },
    {
     "name": "stdout",
     "output_type": "stream",
     "text": [
      "train loss: 1.323 - train acc: 48.111 - val loss: 1.352 - val acc: 49.500 - val err: 50.500\n",
      "\n",
      "Epoch: 212/500 - LR: 0.000000\n"
     ]
    },
    {
     "name": "stderr",
     "output_type": "stream",
     "text": [
      "15.1s - loss: 1.272 - acc: 43.750: 100%|██████████| 3600/3600 [00:15<00:00, 238.89it/s]\n",
      "  0%|          | 0/3600 [00:00<?, ?it/s]"
     ]
    },
    {
     "name": "stdout",
     "output_type": "stream",
     "text": [
      "train loss: 1.317 - train acc: 49.611 - val loss: 1.384 - val acc: 45.250 - val err: 54.750\n",
      "\n",
      "Epoch: 213/500 - LR: 0.000000\n"
     ]
    },
    {
     "name": "stderr",
     "output_type": "stream",
     "text": [
      "15.0s - loss: 1.098 - acc: 50.000: 100%|██████████| 3600/3600 [00:15<00:00, 239.98it/s]\n",
      "  0%|          | 0/3600 [00:00<?, ?it/s]"
     ]
    },
    {
     "name": "stdout",
     "output_type": "stream",
     "text": [
      "train loss: 1.313 - train acc: 49.806 - val loss: 1.372 - val acc: 45.250 - val err: 54.750\n",
      "\n",
      "Epoch: 214/500 - LR: 0.000000\n"
     ]
    },
    {
     "name": "stderr",
     "output_type": "stream",
     "text": [
      "15.1s - loss: 1.221 - acc: 56.250: 100%|██████████| 3600/3600 [00:15<00:00, 238.81it/s]\n",
      "  0%|          | 0/3600 [00:00<?, ?it/s]"
     ]
    },
    {
     "name": "stdout",
     "output_type": "stream",
     "text": [
      "train loss: 1.331 - train acc: 48.250 - val loss: 1.405 - val acc: 44.250 - val err: 55.750\n",
      "\n",
      "Epoch: 215/500 - LR: 0.000000\n"
     ]
    },
    {
     "name": "stderr",
     "output_type": "stream",
     "text": [
      "14.9s - loss: 1.346 - acc: 50.000: 100%|██████████| 3600/3600 [00:14<00:00, 240.98it/s]\n",
      "  0%|          | 0/3600 [00:00<?, ?it/s]"
     ]
    },
    {
     "name": "stdout",
     "output_type": "stream",
     "text": [
      "train loss: 1.322 - train acc: 49.528 - val loss: 1.405 - val acc: 43.500 - val err: 56.500\n",
      "\n",
      "Epoch: 216/500 - LR: 0.000000\n"
     ]
    },
    {
     "name": "stderr",
     "output_type": "stream",
     "text": [
      "15.3s - loss: 1.252 - acc: 50.000: 100%|██████████| 3600/3600 [00:15<00:00, 235.03it/s]\n",
      "  0%|          | 0/3600 [00:00<?, ?it/s]"
     ]
    },
    {
     "name": "stdout",
     "output_type": "stream",
     "text": [
      "train loss: 1.324 - train acc: 48.722 - val loss: 1.359 - val acc: 48.750 - val err: 51.250\n",
      "\n",
      "Epoch: 217/500 - LR: 0.000000\n"
     ]
    },
    {
     "name": "stderr",
     "output_type": "stream",
     "text": [
      "15.0s - loss: 1.938 - acc: 43.750: 100%|██████████| 3600/3600 [00:14<00:00, 240.61it/s]\n",
      "  0%|          | 0/3600 [00:00<?, ?it/s]"
     ]
    },
    {
     "name": "stdout",
     "output_type": "stream",
     "text": [
      "train loss: 1.311 - train acc: 49.222 - val loss: 1.397 - val acc: 48.250 - val err: 51.750\n",
      "\n",
      "Epoch: 218/500 - LR: 0.000000\n"
     ]
    },
    {
     "name": "stderr",
     "output_type": "stream",
     "text": [
      "15.1s - loss: 1.182 - acc: 62.500: 100%|██████████| 3600/3600 [00:15<00:00, 237.73it/s]\n",
      "  0%|          | 0/3600 [00:00<?, ?it/s]"
     ]
    },
    {
     "name": "stdout",
     "output_type": "stream",
     "text": [
      "train loss: 1.337 - train acc: 47.528 - val loss: 1.404 - val acc: 45.500 - val err: 54.500\n",
      "\n",
      "Epoch: 219/500 - LR: 0.000000\n"
     ]
    },
    {
     "name": "stderr",
     "output_type": "stream",
     "text": [
      "15.1s - loss: 1.585 - acc: 37.500: 100%|██████████| 3600/3600 [00:15<00:00, 238.39it/s]\n",
      "  0%|          | 0/3600 [00:00<?, ?it/s]"
     ]
    },
    {
     "name": "stdout",
     "output_type": "stream",
     "text": [
      "train loss: 1.322 - train acc: 49.111 - val loss: 1.392 - val acc: 42.750 - val err: 57.250\n",
      "\n",
      "Epoch: 220/500 - LR: 0.000000\n"
     ]
    },
    {
     "name": "stderr",
     "output_type": "stream",
     "text": [
      "15.0s - loss: 1.572 - acc: 31.250: 100%|██████████| 3600/3600 [00:15<00:00, 239.56it/s]\n",
      "  0%|          | 0/3600 [00:00<?, ?it/s]"
     ]
    },
    {
     "name": "stdout",
     "output_type": "stream",
     "text": [
      "train loss: 1.313 - train acc: 48.611 - val loss: 1.387 - val acc: 42.750 - val err: 57.250\n",
      "\n",
      "Epoch: 221/500 - LR: 0.000000\n"
     ]
    },
    {
     "name": "stderr",
     "output_type": "stream",
     "text": [
      "15.1s - loss: 1.753 - acc: 25.000: 100%|██████████| 3600/3600 [00:15<00:00, 238.13it/s]\n",
      "  0%|          | 0/3600 [00:00<?, ?it/s]"
     ]
    },
    {
     "name": "stdout",
     "output_type": "stream",
     "text": [
      "train loss: 1.307 - train acc: 49.361 - val loss: 1.388 - val acc: 45.750 - val err: 54.250\n",
      "\n",
      "Epoch: 222/500 - LR: 0.000000\n"
     ]
    },
    {
     "name": "stderr",
     "output_type": "stream",
     "text": [
      "15.0s - loss: 1.418 - acc: 56.250: 100%|██████████| 3600/3600 [00:15<00:00, 239.57it/s]\n",
      "  0%|          | 0/3600 [00:00<?, ?it/s]"
     ]
    },
    {
     "name": "stdout",
     "output_type": "stream",
     "text": [
      "train loss: 1.331 - train acc: 48.333 - val loss: 1.409 - val acc: 47.500 - val err: 52.500\n",
      "\n",
      "Epoch: 223/500 - LR: 0.000000\n"
     ]
    },
    {
     "name": "stderr",
     "output_type": "stream",
     "text": [
      "15.2s - loss: 1.516 - acc: 50.000: 100%|██████████| 3600/3600 [00:15<00:00, 237.31it/s]\n",
      "  0%|          | 0/3600 [00:00<?, ?it/s]"
     ]
    },
    {
     "name": "stdout",
     "output_type": "stream",
     "text": [
      "train loss: 1.321 - train acc: 48.500 - val loss: 1.369 - val acc: 47.500 - val err: 52.500\n",
      "\n",
      "Epoch: 224/500 - LR: 0.000000\n"
     ]
    },
    {
     "name": "stderr",
     "output_type": "stream",
     "text": [
      "15.6s - loss: 1.592 - acc: 43.750: 100%|██████████| 3600/3600 [00:15<00:00, 231.12it/s]\n",
      "  0%|          | 0/3600 [00:00<?, ?it/s]"
     ]
    },
    {
     "name": "stdout",
     "output_type": "stream",
     "text": [
      "train loss: 1.318 - train acc: 49.222 - val loss: 1.431 - val acc: 43.250 - val err: 56.750\n",
      "\n",
      "Epoch: 225/500 - LR: 0.000000\n"
     ]
    },
    {
     "name": "stderr",
     "output_type": "stream",
     "text": [
      "15.4s - loss: 1.539 - acc: 43.750: 100%|██████████| 3600/3600 [00:15<00:00, 234.36it/s]\n",
      "  0%|          | 0/3600 [00:00<?, ?it/s]"
     ]
    },
    {
     "name": "stdout",
     "output_type": "stream",
     "text": [
      "train loss: 1.314 - train acc: 49.278 - val loss: 1.361 - val acc: 45.750 - val err: 54.250\n",
      "\n",
      "Epoch: 226/500 - LR: 0.000000\n"
     ]
    },
    {
     "name": "stderr",
     "output_type": "stream",
     "text": [
      "15.1s - loss: 1.468 - acc: 25.000: 100%|██████████| 3600/3600 [00:15<00:00, 237.97it/s]\n",
      "  0%|          | 0/3600 [00:00<?, ?it/s]"
     ]
    },
    {
     "name": "stdout",
     "output_type": "stream",
     "text": [
      "train loss: 1.312 - train acc: 48.667 - val loss: 1.383 - val acc: 46.750 - val err: 53.250\n",
      "\n",
      "Epoch: 227/500 - LR: 0.000000\n"
     ]
    },
    {
     "name": "stderr",
     "output_type": "stream",
     "text": [
      "15.2s - loss: 1.148 - acc: 62.500: 100%|██████████| 3600/3600 [00:15<00:00, 236.50it/s]\n",
      "  0%|          | 0/3600 [00:00<?, ?it/s]"
     ]
    },
    {
     "name": "stdout",
     "output_type": "stream",
     "text": [
      "train loss: 1.327 - train acc: 48.056 - val loss: 1.352 - val acc: 45.750 - val err: 54.250\n",
      "\n",
      "Epoch: 228/500 - LR: 0.000000\n"
     ]
    },
    {
     "name": "stderr",
     "output_type": "stream",
     "text": [
      "15.1s - loss: 1.411 - acc: 50.000: 100%|██████████| 3600/3600 [00:15<00:00, 238.85it/s]\n",
      "  0%|          | 0/3600 [00:00<?, ?it/s]"
     ]
    },
    {
     "name": "stdout",
     "output_type": "stream",
     "text": [
      "train loss: 1.320 - train acc: 48.389 - val loss: 1.389 - val acc: 45.250 - val err: 54.750\n",
      "\n",
      "Epoch: 229/500 - LR: 0.000000\n"
     ]
    },
    {
     "name": "stderr",
     "output_type": "stream",
     "text": [
      "15.2s - loss: 1.205 - acc: 50.000: 100%|██████████| 3600/3600 [00:15<00:00, 236.51it/s]\n",
      "  0%|          | 0/3600 [00:00<?, ?it/s]"
     ]
    },
    {
     "name": "stdout",
     "output_type": "stream",
     "text": [
      "train loss: 1.319 - train acc: 49.528 - val loss: 1.402 - val acc: 45.750 - val err: 54.250\n",
      "\n",
      "Epoch: 230/500 - LR: 0.000000\n"
     ]
    },
    {
     "name": "stderr",
     "output_type": "stream",
     "text": [
      "15.2s - loss: 1.560 - acc: 43.750: 100%|██████████| 3600/3600 [00:15<00:00, 236.26it/s]\n",
      "  0%|          | 0/3600 [00:00<?, ?it/s]"
     ]
    },
    {
     "name": "stdout",
     "output_type": "stream",
     "text": [
      "train loss: 1.325 - train acc: 48.778 - val loss: 1.349 - val acc: 46.250 - val err: 53.750\n",
      "\n",
      "Epoch: 231/500 - LR: 0.000000\n"
     ]
    },
    {
     "name": "stderr",
     "output_type": "stream",
     "text": [
      "15.4s - loss: 1.493 - acc: 31.250: 100%|██████████| 3600/3600 [00:15<00:00, 234.40it/s]\n",
      "  0%|          | 0/3600 [00:00<?, ?it/s]"
     ]
    },
    {
     "name": "stdout",
     "output_type": "stream",
     "text": [
      "train loss: 1.327 - train acc: 48.694 - val loss: 1.337 - val acc: 46.500 - val err: 53.500\n",
      "\n",
      "Epoch: 232/500 - LR: 0.000000\n"
     ]
    },
    {
     "name": "stderr",
     "output_type": "stream",
     "text": [
      "15.3s - loss: 1.286 - acc: 50.000: 100%|██████████| 3600/3600 [00:15<00:00, 235.55it/s]\n",
      "  0%|          | 0/3600 [00:00<?, ?it/s]"
     ]
    },
    {
     "name": "stdout",
     "output_type": "stream",
     "text": [
      "train loss: 1.336 - train acc: 48.667 - val loss: 1.392 - val acc: 47.000 - val err: 53.000\n",
      "\n",
      "Epoch: 233/500 - LR: 0.000000\n"
     ]
    },
    {
     "name": "stderr",
     "output_type": "stream",
     "text": [
      "15.2s - loss: 1.251 - acc: 56.250: 100%|██████████| 3600/3600 [00:15<00:00, 236.70it/s]\n",
      "  0%|          | 0/3600 [00:00<?, ?it/s]"
     ]
    },
    {
     "name": "stdout",
     "output_type": "stream",
     "text": [
      "train loss: 1.338 - train acc: 47.222 - val loss: 1.359 - val acc: 47.750 - val err: 52.250\n",
      "\n",
      "Epoch: 234/500 - LR: 0.000000\n"
     ]
    },
    {
     "name": "stderr",
     "output_type": "stream",
     "text": [
      "15.1s - loss: 1.206 - acc: 56.250: 100%|██████████| 3600/3600 [00:15<00:00, 239.12it/s]\n",
      "  0%|          | 0/3600 [00:00<?, ?it/s]"
     ]
    },
    {
     "name": "stdout",
     "output_type": "stream",
     "text": [
      "train loss: 1.322 - train acc: 49.111 - val loss: 1.369 - val acc: 46.000 - val err: 54.000\n",
      "\n",
      "Epoch: 235/500 - LR: 0.000000\n"
     ]
    },
    {
     "name": "stderr",
     "output_type": "stream",
     "text": [
      "15.1s - loss: 1.594 - acc: 75.000: 100%|██████████| 3600/3600 [00:15<00:00, 238.24it/s]\n",
      "  0%|          | 0/3600 [00:00<?, ?it/s]"
     ]
    },
    {
     "name": "stdout",
     "output_type": "stream",
     "text": [
      "train loss: 1.335 - train acc: 48.500 - val loss: 1.354 - val acc: 46.500 - val err: 53.500\n",
      "\n",
      "Epoch: 236/500 - LR: 0.000000\n"
     ]
    },
    {
     "name": "stderr",
     "output_type": "stream",
     "text": [
      "15.0s - loss: 1.401 - acc: 31.250: 100%|██████████| 3600/3600 [00:15<00:00, 239.22it/s]\n",
      "  0%|          | 0/3600 [00:00<?, ?it/s]"
     ]
    },
    {
     "name": "stdout",
     "output_type": "stream",
     "text": [
      "train loss: 1.321 - train acc: 48.556 - val loss: 1.341 - val acc: 49.250 - val err: 50.750\n",
      "\n",
      "Epoch: 237/500 - LR: 0.000000\n"
     ]
    },
    {
     "name": "stderr",
     "output_type": "stream",
     "text": [
      "15.2s - loss: 1.447 - acc: 37.500: 100%|██████████| 3600/3600 [00:15<00:00, 237.52it/s]\n",
      "  0%|          | 0/3600 [00:00<?, ?it/s]"
     ]
    },
    {
     "name": "stdout",
     "output_type": "stream",
     "text": [
      "train loss: 1.318 - train acc: 49.444 - val loss: 1.391 - val acc: 44.250 - val err: 55.750\n",
      "\n",
      "Epoch: 238/500 - LR: 0.000000\n"
     ]
    },
    {
     "name": "stderr",
     "output_type": "stream",
     "text": [
      "16.0s - loss: 1.379 - acc: 43.750: 100%|██████████| 3600/3600 [00:15<00:00, 225.47it/s]\n",
      "  0%|          | 0/3600 [00:00<?, ?it/s]"
     ]
    },
    {
     "name": "stdout",
     "output_type": "stream",
     "text": [
      "train loss: 1.334 - train acc: 47.306 - val loss: 1.433 - val acc: 43.750 - val err: 56.250\n",
      "\n",
      "Epoch: 239/500 - LR: 0.000000\n"
     ]
    },
    {
     "name": "stderr",
     "output_type": "stream",
     "text": [
      "14.9s - loss: 1.359 - acc: 50.000: 100%|██████████| 3600/3600 [00:14<00:00, 242.14it/s]\n",
      "  0%|          | 0/3600 [00:00<?, ?it/s]"
     ]
    },
    {
     "name": "stdout",
     "output_type": "stream",
     "text": [
      "train loss: 1.332 - train acc: 48.500 - val loss: 1.368 - val acc: 43.750 - val err: 56.250\n",
      "\n",
      "Epoch: 240/500 - LR: 0.000000\n"
     ]
    },
    {
     "name": "stderr",
     "output_type": "stream",
     "text": [
      "15.2s - loss: 0.979 - acc: 62.500: 100%|██████████| 3600/3600 [00:15<00:00, 237.53it/s]\n",
      "  0%|          | 0/3600 [00:00<?, ?it/s]"
     ]
    },
    {
     "name": "stdout",
     "output_type": "stream",
     "text": [
      "train loss: 1.322 - train acc: 47.806 - val loss: 1.337 - val acc: 46.250 - val err: 53.750\n",
      "\n",
      "Epoch: 241/500 - LR: 0.000000\n"
     ]
    },
    {
     "name": "stderr",
     "output_type": "stream",
     "text": [
      "15.2s - loss: 1.500 - acc: 43.750: 100%|██████████| 3600/3600 [00:15<00:00, 236.81it/s]\n",
      "  0%|          | 0/3600 [00:00<?, ?it/s]"
     ]
    },
    {
     "name": "stdout",
     "output_type": "stream",
     "text": [
      "train loss: 1.317 - train acc: 48.167 - val loss: 1.361 - val acc: 46.500 - val err: 53.500\n",
      "\n",
      "Epoch: 242/500 - LR: 0.000000\n"
     ]
    },
    {
     "name": "stderr",
     "output_type": "stream",
     "text": [
      "15.2s - loss: 1.405 - acc: 43.750: 100%|██████████| 3600/3600 [00:15<00:00, 237.45it/s]\n",
      "  0%|          | 0/3600 [00:00<?, ?it/s]"
     ]
    },
    {
     "name": "stdout",
     "output_type": "stream",
     "text": [
      "train loss: 1.315 - train acc: 49.528 - val loss: 1.395 - val acc: 44.000 - val err: 56.000\n",
      "\n",
      "Epoch: 243/500 - LR: 0.000000\n"
     ]
    },
    {
     "name": "stderr",
     "output_type": "stream",
     "text": [
      "15.1s - loss: 1.390 - acc: 43.750: 100%|██████████| 3600/3600 [00:15<00:00, 237.80it/s]\n",
      "  0%|          | 0/3600 [00:00<?, ?it/s]"
     ]
    },
    {
     "name": "stdout",
     "output_type": "stream",
     "text": [
      "train loss: 1.316 - train acc: 48.417 - val loss: 1.401 - val acc: 44.250 - val err: 55.750\n",
      "\n",
      "Epoch: 244/500 - LR: 0.000000\n"
     ]
    },
    {
     "name": "stderr",
     "output_type": "stream",
     "text": [
      "15.0s - loss: 1.428 - acc: 43.750: 100%|██████████| 3600/3600 [00:15<00:00, 239.21it/s]\n",
      "  0%|          | 0/3600 [00:00<?, ?it/s]"
     ]
    },
    {
     "name": "stdout",
     "output_type": "stream",
     "text": [
      "train loss: 1.325 - train acc: 49.417 - val loss: 1.354 - val acc: 48.750 - val err: 51.250\n",
      "\n",
      "Epoch: 245/500 - LR: 0.000000\n"
     ]
    },
    {
     "name": "stderr",
     "output_type": "stream",
     "text": [
      "15.0s - loss: 1.507 - acc: 37.500: 100%|██████████| 3600/3600 [00:15<00:00, 239.85it/s]\n",
      "  0%|          | 0/3600 [00:00<?, ?it/s]"
     ]
    },
    {
     "name": "stdout",
     "output_type": "stream",
     "text": [
      "train loss: 1.332 - train acc: 48.250 - val loss: 1.354 - val acc: 45.250 - val err: 54.750\n",
      "\n",
      "Epoch: 246/500 - LR: 0.000000\n"
     ]
    },
    {
     "name": "stderr",
     "output_type": "stream",
     "text": [
      "15.5s - loss: 1.072 - acc: 62.500: 100%|██████████| 3600/3600 [00:15<00:00, 232.71it/s]\n",
      "  0%|          | 0/3600 [00:00<?, ?it/s]"
     ]
    },
    {
     "name": "stdout",
     "output_type": "stream",
     "text": [
      "train loss: 1.313 - train acc: 49.417 - val loss: 1.378 - val acc: 46.750 - val err: 53.250\n",
      "\n",
      "Epoch: 247/500 - LR: 0.000000\n"
     ]
    },
    {
     "name": "stderr",
     "output_type": "stream",
     "text": [
      "15.1s - loss: 1.143 - acc: 50.000: 100%|██████████| 3600/3600 [00:15<00:00, 238.96it/s]\n",
      "  0%|          | 0/3600 [00:00<?, ?it/s]"
     ]
    },
    {
     "name": "stdout",
     "output_type": "stream",
     "text": [
      "train loss: 1.334 - train acc: 48.917 - val loss: 1.354 - val acc: 49.750 - val err: 50.250\n",
      "\n",
      "Epoch: 248/500 - LR: 0.000000\n"
     ]
    },
    {
     "name": "stderr",
     "output_type": "stream",
     "text": [
      "15.2s - loss: 1.238 - acc: 68.750: 100%|██████████| 3600/3600 [00:15<00:00, 236.26it/s]\n",
      "  0%|          | 0/3600 [00:00<?, ?it/s]"
     ]
    },
    {
     "name": "stdout",
     "output_type": "stream",
     "text": [
      "train loss: 1.328 - train acc: 48.806 - val loss: 1.334 - val acc: 48.250 - val err: 51.750\n",
      "\n",
      "Epoch: 249/500 - LR: 0.000000\n"
     ]
    },
    {
     "name": "stderr",
     "output_type": "stream",
     "text": [
      "15.3s - loss: 1.503 - acc: 50.000: 100%|██████████| 3600/3600 [00:15<00:00, 235.33it/s]\n",
      "  0%|          | 0/3600 [00:00<?, ?it/s]"
     ]
    },
    {
     "name": "stdout",
     "output_type": "stream",
     "text": [
      "train loss: 1.317 - train acc: 48.833 - val loss: 1.384 - val acc: 42.500 - val err: 57.500\n",
      "\n",
      "Epoch: 250/500 - LR: 0.000000\n"
     ]
    },
    {
     "name": "stderr",
     "output_type": "stream",
     "text": [
      "15.1s - loss: 1.570 - acc: 37.500: 100%|██████████| 3600/3600 [00:15<00:00, 238.64it/s]\n",
      "  0%|          | 0/3600 [00:00<?, ?it/s]"
     ]
    },
    {
     "name": "stdout",
     "output_type": "stream",
     "text": [
      "train loss: 1.323 - train acc: 47.833 - val loss: 1.385 - val acc: 42.750 - val err: 57.250\n",
      "\n",
      "Epoch: 251/500 - LR: 0.000000\n"
     ]
    },
    {
     "name": "stderr",
     "output_type": "stream",
     "text": [
      "14.9s - loss: 1.693 - acc: 18.750: 100%|██████████| 3600/3600 [00:14<00:00, 241.11it/s]\n",
      "  0%|          | 0/3600 [00:00<?, ?it/s]"
     ]
    },
    {
     "name": "stdout",
     "output_type": "stream",
     "text": [
      "train loss: 1.317 - train acc: 48.667 - val loss: 1.377 - val acc: 46.000 - val err: 54.000\n",
      "\n",
      "Epoch: 252/500 - LR: 0.000000\n"
     ]
    },
    {
     "name": "stderr",
     "output_type": "stream",
     "text": [
      "15.1s - loss: 1.219 - acc: 62.500: 100%|██████████| 3600/3600 [00:15<00:00, 238.55it/s]\n",
      "  0%|          | 0/3600 [00:00<?, ?it/s]"
     ]
    },
    {
     "name": "stdout",
     "output_type": "stream",
     "text": [
      "train loss: 1.341 - train acc: 47.583 - val loss: 1.376 - val acc: 45.000 - val err: 55.000\n",
      "\n",
      "Epoch: 253/500 - LR: 0.000000\n"
     ]
    },
    {
     "name": "stderr",
     "output_type": "stream",
     "text": [
      "15.4s - loss: 1.448 - acc: 31.250: 100%|██████████| 3600/3600 [00:15<00:00, 233.29it/s]\n",
      "  0%|          | 0/3600 [00:00<?, ?it/s]"
     ]
    },
    {
     "name": "stdout",
     "output_type": "stream",
     "text": [
      "train loss: 1.319 - train acc: 48.028 - val loss: 1.366 - val acc: 47.250 - val err: 52.750\n",
      "\n",
      "Epoch: 254/500 - LR: 0.000000\n"
     ]
    },
    {
     "name": "stderr",
     "output_type": "stream",
     "text": [
      "15.2s - loss: 1.462 - acc: 50.000: 100%|██████████| 3600/3600 [00:15<00:00, 236.77it/s]\n",
      "  0%|          | 0/3600 [00:00<?, ?it/s]"
     ]
    },
    {
     "name": "stdout",
     "output_type": "stream",
     "text": [
      "train loss: 1.336 - train acc: 47.472 - val loss: 1.399 - val acc: 43.750 - val err: 56.250\n",
      "\n",
      "Epoch: 255/500 - LR: 0.000000\n"
     ]
    },
    {
     "name": "stderr",
     "output_type": "stream",
     "text": [
      "15.3s - loss: 1.414 - acc: 43.750: 100%|██████████| 3600/3600 [00:15<00:00, 235.51it/s]\n",
      "  0%|          | 0/3600 [00:00<?, ?it/s]"
     ]
    },
    {
     "name": "stdout",
     "output_type": "stream",
     "text": [
      "train loss: 1.316 - train acc: 48.750 - val loss: 1.388 - val acc: 46.250 - val err: 53.750\n",
      "\n",
      "Epoch: 256/500 - LR: 0.000000\n"
     ]
    },
    {
     "name": "stderr",
     "output_type": "stream",
     "text": [
      "19.6s - loss: 1.673 - acc: 31.250: 100%|██████████| 3600/3600 [00:19<00:00, 183.80it/s]\n",
      "  0%|          | 0/3600 [00:00<?, ?it/s]"
     ]
    },
    {
     "name": "stdout",
     "output_type": "stream",
     "text": [
      "train loss: 1.330 - train acc: 49.000 - val loss: 1.366 - val acc: 48.500 - val err: 51.500\n",
      "\n",
      "Epoch: 257/500 - LR: 0.000000\n"
     ]
    },
    {
     "name": "stderr",
     "output_type": "stream",
     "text": [
      "16.8s - loss: 1.372 - acc: 50.000: 100%|██████████| 3600/3600 [00:16<00:00, 213.85it/s]\n",
      "  0%|          | 0/3600 [00:00<?, ?it/s]"
     ]
    },
    {
     "name": "stdout",
     "output_type": "stream",
     "text": [
      "train loss: 1.316 - train acc: 49.278 - val loss: 1.400 - val acc: 43.750 - val err: 56.250\n",
      "\n",
      "Epoch: 258/500 - LR: 0.000000\n"
     ]
    },
    {
     "name": "stderr",
     "output_type": "stream",
     "text": [
      "16.2s - loss: 1.569 - acc: 31.250: 100%|██████████| 3600/3600 [00:16<00:00, 222.51it/s]\n",
      "  0%|          | 0/3600 [00:00<?, ?it/s]"
     ]
    },
    {
     "name": "stdout",
     "output_type": "stream",
     "text": [
      "train loss: 1.331 - train acc: 47.528 - val loss: 1.323 - val acc: 45.000 - val err: 55.000\n",
      "\n",
      "Epoch: 259/500 - LR: 0.000000\n"
     ]
    },
    {
     "name": "stderr",
     "output_type": "stream",
     "text": [
      "16.4s - loss: 1.713 - acc: 31.250: 100%|██████████| 3600/3600 [00:16<00:00, 219.74it/s]\n",
      "  0%|          | 0/3600 [00:00<?, ?it/s]"
     ]
    },
    {
     "name": "stdout",
     "output_type": "stream",
     "text": [
      "train loss: 1.332 - train acc: 48.556 - val loss: 1.401 - val acc: 42.750 - val err: 57.250\n",
      "\n",
      "Epoch: 260/500 - LR: 0.000000\n"
     ]
    },
    {
     "name": "stderr",
     "output_type": "stream",
     "text": [
      "17.4s - loss: 1.424 - acc: 37.500: 100%|██████████| 3600/3600 [00:17<00:00, 206.45it/s]\n",
      "  0%|          | 0/3600 [00:00<?, ?it/s]"
     ]
    },
    {
     "name": "stdout",
     "output_type": "stream",
     "text": [
      "train loss: 1.309 - train acc: 48.944 - val loss: 1.388 - val acc: 48.250 - val err: 51.750\n",
      "\n",
      "Epoch: 261/500 - LR: 0.000000\n"
     ]
    },
    {
     "name": "stderr",
     "output_type": "stream",
     "text": [
      "15.4s - loss: 1.439 - acc: 37.500: 100%|██████████| 3600/3600 [00:15<00:00, 233.23it/s]\n",
      "  0%|          | 0/3600 [00:00<?, ?it/s]"
     ]
    },
    {
     "name": "stdout",
     "output_type": "stream",
     "text": [
      "train loss: 1.305 - train acc: 50.750 - val loss: 1.427 - val acc: 42.250 - val err: 57.750\n",
      "\n",
      "Epoch: 262/500 - LR: 0.000000\n"
     ]
    },
    {
     "name": "stderr",
     "output_type": "stream",
     "text": [
      "15.3s - loss: 1.381 - acc: 37.500: 100%|██████████| 3600/3600 [00:15<00:00, 234.73it/s]\n",
      "  0%|          | 0/3600 [00:00<?, ?it/s]"
     ]
    },
    {
     "name": "stdout",
     "output_type": "stream",
     "text": [
      "train loss: 1.315 - train acc: 49.611 - val loss: 1.329 - val acc: 47.250 - val err: 52.750\n",
      "\n",
      "Epoch: 263/500 - LR: 0.000000\n"
     ]
    },
    {
     "name": "stderr",
     "output_type": "stream",
     "text": [
      "15.2s - loss: 1.316 - acc: 50.000: 100%|██████████| 3600/3600 [00:15<00:00, 236.68it/s]\n",
      "  0%|          | 0/3600 [00:00<?, ?it/s]"
     ]
    },
    {
     "name": "stdout",
     "output_type": "stream",
     "text": [
      "train loss: 1.326 - train acc: 48.528 - val loss: 1.403 - val acc: 45.750 - val err: 54.250\n",
      "\n",
      "Epoch: 264/500 - LR: 0.000000\n"
     ]
    },
    {
     "name": "stderr",
     "output_type": "stream",
     "text": [
      "15.1s - loss: 1.453 - acc: 43.750: 100%|██████████| 3600/3600 [00:15<00:00, 238.18it/s]\n",
      "  0%|          | 0/3600 [00:00<?, ?it/s]"
     ]
    },
    {
     "name": "stdout",
     "output_type": "stream",
     "text": [
      "train loss: 1.328 - train acc: 47.583 - val loss: 1.392 - val acc: 43.250 - val err: 56.750\n",
      "\n",
      "Epoch: 265/500 - LR: 0.000000\n"
     ]
    },
    {
     "name": "stderr",
     "output_type": "stream",
     "text": [
      "15.3s - loss: 1.526 - acc: 37.500: 100%|██████████| 3600/3600 [00:15<00:00, 235.73it/s]\n",
      "  0%|          | 0/3600 [00:00<?, ?it/s]"
     ]
    },
    {
     "name": "stdout",
     "output_type": "stream",
     "text": [
      "train loss: 1.330 - train acc: 48.722 - val loss: 1.369 - val acc: 48.000 - val err: 52.000\n",
      "\n",
      "Epoch: 266/500 - LR: 0.000000\n"
     ]
    },
    {
     "name": "stderr",
     "output_type": "stream",
     "text": [
      "16.7s - loss: 1.325 - acc: 56.250: 100%|██████████| 3600/3600 [00:16<00:00, 216.03it/s]\n",
      "  0%|          | 0/3600 [00:00<?, ?it/s]"
     ]
    },
    {
     "name": "stdout",
     "output_type": "stream",
     "text": [
      "train loss: 1.316 - train acc: 49.167 - val loss: 1.389 - val acc: 45.500 - val err: 54.500\n",
      "\n",
      "Epoch: 267/500 - LR: 0.000000\n"
     ]
    },
    {
     "name": "stderr",
     "output_type": "stream",
     "text": [
      "15.2s - loss: 1.589 - acc: 50.000: 100%|██████████| 3600/3600 [00:15<00:00, 236.41it/s]\n",
      "  0%|          | 0/3600 [00:00<?, ?it/s]"
     ]
    },
    {
     "name": "stdout",
     "output_type": "stream",
     "text": [
      "train loss: 1.343 - train acc: 47.722 - val loss: 1.358 - val acc: 45.250 - val err: 54.750\n",
      "\n",
      "Epoch: 268/500 - LR: 0.000000\n"
     ]
    },
    {
     "name": "stderr",
     "output_type": "stream",
     "text": [
      "15.2s - loss: 1.213 - acc: 62.500: 100%|██████████| 3600/3600 [00:15<00:00, 237.62it/s]\n",
      "  0%|          | 0/3600 [00:00<?, ?it/s]"
     ]
    },
    {
     "name": "stdout",
     "output_type": "stream",
     "text": [
      "train loss: 1.323 - train acc: 49.056 - val loss: 1.414 - val acc: 42.250 - val err: 57.750\n",
      "\n",
      "Epoch: 269/500 - LR: 0.000000\n"
     ]
    },
    {
     "name": "stderr",
     "output_type": "stream",
     "text": [
      "15.4s - loss: 1.793 - acc: 25.000: 100%|██████████| 3600/3600 [00:15<00:00, 234.30it/s]\n",
      "  0%|          | 0/3600 [00:00<?, ?it/s]"
     ]
    },
    {
     "name": "stdout",
     "output_type": "stream",
     "text": [
      "train loss: 1.314 - train acc: 50.028 - val loss: 1.377 - val acc: 47.500 - val err: 52.500\n",
      "\n",
      "Epoch: 270/500 - LR: 0.000000\n"
     ]
    },
    {
     "name": "stderr",
     "output_type": "stream",
     "text": [
      "15.2s - loss: 1.224 - acc: 50.000: 100%|██████████| 3600/3600 [00:15<00:00, 237.39it/s]\n",
      "  0%|          | 0/3600 [00:00<?, ?it/s]"
     ]
    },
    {
     "name": "stdout",
     "output_type": "stream",
     "text": [
      "train loss: 1.310 - train acc: 49.194 - val loss: 1.381 - val acc: 45.250 - val err: 54.750\n",
      "\n",
      "Epoch: 271/500 - LR: 0.000000\n"
     ]
    },
    {
     "name": "stderr",
     "output_type": "stream",
     "text": [
      "15.2s - loss: 1.659 - acc: 18.750: 100%|██████████| 3600/3600 [00:15<00:00, 236.23it/s]\n",
      "  0%|          | 0/3600 [00:00<?, ?it/s]"
     ]
    },
    {
     "name": "stdout",
     "output_type": "stream",
     "text": [
      "train loss: 1.329 - train acc: 49.306 - val loss: 1.377 - val acc: 47.250 - val err: 52.750\n",
      "\n",
      "Epoch: 272/500 - LR: 0.000000\n"
     ]
    },
    {
     "name": "stderr",
     "output_type": "stream",
     "text": [
      "15.0s - loss: 1.079 - acc: 62.500: 100%|██████████| 3600/3600 [00:15<00:00, 239.21it/s]\n",
      "  0%|          | 0/3600 [00:00<?, ?it/s]"
     ]
    },
    {
     "name": "stdout",
     "output_type": "stream",
     "text": [
      "train loss: 1.308 - train acc: 49.722 - val loss: 1.344 - val acc: 47.250 - val err: 52.750\n",
      "\n",
      "Epoch: 273/500 - LR: 0.000000\n"
     ]
    },
    {
     "name": "stderr",
     "output_type": "stream",
     "text": [
      "15.4s - loss: 1.211 - acc: 56.250: 100%|██████████| 3600/3600 [00:15<00:00, 234.16it/s]\n",
      "  0%|          | 0/3600 [00:00<?, ?it/s]"
     ]
    },
    {
     "name": "stdout",
     "output_type": "stream",
     "text": [
      "train loss: 1.318 - train acc: 48.306 - val loss: 1.375 - val acc: 44.750 - val err: 55.250\n",
      "\n",
      "Epoch: 274/500 - LR: 0.000000\n"
     ]
    },
    {
     "name": "stderr",
     "output_type": "stream",
     "text": [
      "15.5s - loss: 1.413 - acc: 31.250: 100%|██████████| 3600/3600 [00:15<00:00, 232.36it/s]\n",
      "  0%|          | 0/3600 [00:00<?, ?it/s]"
     ]
    },
    {
     "name": "stdout",
     "output_type": "stream",
     "text": [
      "train loss: 1.320 - train acc: 48.306 - val loss: 1.412 - val acc: 44.250 - val err: 55.750\n",
      "\n",
      "Epoch: 275/500 - LR: 0.000000\n"
     ]
    },
    {
     "name": "stderr",
     "output_type": "stream",
     "text": [
      "15.6s - loss: 1.417 - acc: 43.750: 100%|██████████| 3600/3600 [00:15<00:00, 231.24it/s]\n",
      "  0%|          | 0/3600 [00:00<?, ?it/s]"
     ]
    },
    {
     "name": "stdout",
     "output_type": "stream",
     "text": [
      "train loss: 1.322 - train acc: 48.306 - val loss: 1.359 - val acc: 46.500 - val err: 53.500\n",
      "\n",
      "Epoch: 276/500 - LR: 0.000000\n"
     ]
    },
    {
     "name": "stderr",
     "output_type": "stream",
     "text": [
      "15.1s - loss: 1.089 - acc: 62.500: 100%|██████████| 3600/3600 [00:15<00:00, 238.03it/s]\n",
      "  0%|          | 0/3600 [00:00<?, ?it/s]"
     ]
    },
    {
     "name": "stdout",
     "output_type": "stream",
     "text": [
      "train loss: 1.319 - train acc: 49.000 - val loss: 1.378 - val acc: 45.250 - val err: 54.750\n",
      "\n",
      "Epoch: 277/500 - LR: 0.000000\n"
     ]
    },
    {
     "name": "stderr",
     "output_type": "stream",
     "text": [
      "15.2s - loss: 1.707 - acc: 43.750: 100%|██████████| 3600/3600 [00:15<00:00, 236.40it/s]\n",
      "  0%|          | 0/3600 [00:00<?, ?it/s]"
     ]
    },
    {
     "name": "stdout",
     "output_type": "stream",
     "text": [
      "train loss: 1.322 - train acc: 48.333 - val loss: 1.411 - val acc: 43.500 - val err: 56.500\n",
      "\n",
      "Epoch: 278/500 - LR: 0.000000\n"
     ]
    },
    {
     "name": "stderr",
     "output_type": "stream",
     "text": [
      "15.2s - loss: 1.344 - acc: 43.750: 100%|██████████| 3600/3600 [00:15<00:00, 236.99it/s]\n",
      "  0%|          | 0/3600 [00:00<?, ?it/s]"
     ]
    },
    {
     "name": "stdout",
     "output_type": "stream",
     "text": [
      "train loss: 1.312 - train acc: 50.417 - val loss: 1.405 - val acc: 42.750 - val err: 57.250\n",
      "\n",
      "Epoch: 279/500 - LR: 0.000000\n"
     ]
    },
    {
     "name": "stderr",
     "output_type": "stream",
     "text": [
      "15.1s - loss: 1.549 - acc: 37.500: 100%|██████████| 3600/3600 [00:15<00:00, 239.01it/s]\n",
      "  0%|          | 0/3600 [00:00<?, ?it/s]"
     ]
    },
    {
     "name": "stdout",
     "output_type": "stream",
     "text": [
      "train loss: 1.330 - train acc: 47.833 - val loss: 1.392 - val acc: 44.250 - val err: 55.750\n",
      "\n",
      "Epoch: 280/500 - LR: 0.000000\n"
     ]
    },
    {
     "name": "stderr",
     "output_type": "stream",
     "text": [
      "24.1s - loss: 1.122 - acc: 50.000: 100%|██████████| 3600/3600 [00:24<00:00, 149.18it/s]\n",
      "  0%|          | 0/3600 [00:00<?, ?it/s]"
     ]
    },
    {
     "name": "stdout",
     "output_type": "stream",
     "text": [
      "train loss: 1.332 - train acc: 47.583 - val loss: 1.364 - val acc: 43.250 - val err: 56.750\n",
      "\n",
      "Epoch: 281/500 - LR: 0.000000\n"
     ]
    },
    {
     "name": "stderr",
     "output_type": "stream",
     "text": [
      "18.1s - loss: 1.158 - acc: 62.500: 100%|██████████| 3600/3600 [00:18<00:00, 199.39it/s]\n",
      "  0%|          | 0/3600 [00:00<?, ?it/s]"
     ]
    },
    {
     "name": "stdout",
     "output_type": "stream",
     "text": [
      "train loss: 1.315 - train acc: 48.556 - val loss: 1.394 - val acc: 46.500 - val err: 53.500\n",
      "\n",
      "Epoch: 282/500 - LR: 0.000000\n"
     ]
    },
    {
     "name": "stderr",
     "output_type": "stream",
     "text": [
      "15.5s - loss: 1.455 - acc: 31.250: 100%|██████████| 3600/3600 [00:15<00:00, 232.47it/s]\n",
      "  0%|          | 0/3600 [00:00<?, ?it/s]"
     ]
    },
    {
     "name": "stdout",
     "output_type": "stream",
     "text": [
      "train loss: 1.307 - train acc: 48.500 - val loss: 1.351 - val acc: 46.750 - val err: 53.250\n",
      "\n",
      "Epoch: 283/500 - LR: 0.000000\n"
     ]
    },
    {
     "name": "stderr",
     "output_type": "stream",
     "text": [
      "15.9s - loss: 1.412 - acc: 31.250: 100%|██████████| 3600/3600 [00:15<00:00, 226.31it/s]\n",
      "  0%|          | 0/3600 [00:00<?, ?it/s]"
     ]
    },
    {
     "name": "stdout",
     "output_type": "stream",
     "text": [
      "train loss: 1.323 - train acc: 47.944 - val loss: 1.444 - val acc: 43.500 - val err: 56.500\n",
      "\n",
      "Epoch: 284/500 - LR: 0.000000\n"
     ]
    },
    {
     "name": "stderr",
     "output_type": "stream",
     "text": [
      "15.3s - loss: 0.910 - acc: 68.750: 100%|██████████| 3600/3600 [00:15<00:00, 235.96it/s]\n",
      "  0%|          | 0/3600 [00:00<?, ?it/s]"
     ]
    },
    {
     "name": "stdout",
     "output_type": "stream",
     "text": [
      "train loss: 1.314 - train acc: 49.167 - val loss: 1.383 - val acc: 43.750 - val err: 56.250\n",
      "\n",
      "Epoch: 285/500 - LR: 0.000000\n"
     ]
    },
    {
     "name": "stderr",
     "output_type": "stream",
     "text": [
      "15.2s - loss: 1.901 - acc: 43.750: 100%|██████████| 3600/3600 [00:15<00:00, 236.82it/s]\n",
      "  0%|          | 0/3600 [00:00<?, ?it/s]"
     ]
    },
    {
     "name": "stdout",
     "output_type": "stream",
     "text": [
      "train loss: 1.318 - train acc: 49.528 - val loss: 1.361 - val acc: 48.000 - val err: 52.000\n",
      "\n",
      "Epoch: 286/500 - LR: 0.000000\n"
     ]
    },
    {
     "name": "stderr",
     "output_type": "stream",
     "text": [
      "15.1s - loss: 1.068 - acc: 62.500: 100%|██████████| 3600/3600 [00:15<00:00, 238.07it/s]\n",
      "  0%|          | 0/3600 [00:00<?, ?it/s]"
     ]
    },
    {
     "name": "stdout",
     "output_type": "stream",
     "text": [
      "train loss: 1.309 - train acc: 49.278 - val loss: 1.370 - val acc: 48.750 - val err: 51.250\n",
      "\n",
      "Epoch: 287/500 - LR: 0.000000\n"
     ]
    },
    {
     "name": "stderr",
     "output_type": "stream",
     "text": [
      "16.3s - loss: 1.598 - acc: 37.500: 100%|██████████| 3600/3600 [00:16<00:00, 221.08it/s]\n",
      "  0%|          | 0/3600 [00:00<?, ?it/s]"
     ]
    },
    {
     "name": "stdout",
     "output_type": "stream",
     "text": [
      "train loss: 1.321 - train acc: 48.250 - val loss: 1.383 - val acc: 45.500 - val err: 54.500\n",
      "\n",
      "Epoch: 288/500 - LR: 0.000000\n"
     ]
    },
    {
     "name": "stderr",
     "output_type": "stream",
     "text": [
      "15.1s - loss: 1.695 - acc: 50.000: 100%|██████████| 3600/3600 [00:15<00:00, 237.66it/s]\n",
      "  0%|          | 0/3600 [00:00<?, ?it/s]"
     ]
    },
    {
     "name": "stdout",
     "output_type": "stream",
     "text": [
      "train loss: 1.326 - train acc: 48.472 - val loss: 1.433 - val acc: 43.000 - val err: 57.000\n",
      "\n",
      "Epoch: 289/500 - LR: 0.000000\n"
     ]
    },
    {
     "name": "stderr",
     "output_type": "stream",
     "text": [
      "15.5s - loss: 1.157 - acc: 56.250: 100%|██████████| 3600/3600 [00:15<00:00, 232.94it/s]\n",
      "  0%|          | 0/3600 [00:00<?, ?it/s]"
     ]
    },
    {
     "name": "stdout",
     "output_type": "stream",
     "text": [
      "train loss: 1.310 - train acc: 48.611 - val loss: 1.360 - val acc: 48.250 - val err: 51.750\n",
      "\n",
      "Epoch: 290/500 - LR: 0.000000\n"
     ]
    },
    {
     "name": "stderr",
     "output_type": "stream",
     "text": [
      "15.1s - loss: 1.516 - acc: 43.750: 100%|██████████| 3600/3600 [00:15<00:00, 238.19it/s]\n",
      "  0%|          | 0/3600 [00:00<?, ?it/s]"
     ]
    },
    {
     "name": "stdout",
     "output_type": "stream",
     "text": [
      "train loss: 1.327 - train acc: 49.111 - val loss: 1.375 - val acc: 48.500 - val err: 51.500\n",
      "\n",
      "Epoch: 291/500 - LR: 0.000000\n"
     ]
    },
    {
     "name": "stderr",
     "output_type": "stream",
     "text": [
      "15.4s - loss: 1.408 - acc: 43.750: 100%|██████████| 3600/3600 [00:15<00:00, 234.51it/s]\n",
      "  0%|          | 0/3600 [00:00<?, ?it/s]"
     ]
    },
    {
     "name": "stdout",
     "output_type": "stream",
     "text": [
      "train loss: 1.329 - train acc: 48.694 - val loss: 1.383 - val acc: 46.250 - val err: 53.750\n",
      "\n",
      "Epoch: 292/500 - LR: 0.000000\n"
     ]
    },
    {
     "name": "stderr",
     "output_type": "stream",
     "text": [
      "15.3s - loss: 1.218 - acc: 37.500: 100%|██████████| 3600/3600 [00:15<00:00, 235.80it/s]\n",
      "  0%|          | 0/3600 [00:00<?, ?it/s]"
     ]
    },
    {
     "name": "stdout",
     "output_type": "stream",
     "text": [
      "train loss: 1.310 - train acc: 49.111 - val loss: 1.378 - val acc: 50.000 - val err: 50.000\n",
      "\n",
      "Epoch: 293/500 - LR: 0.000000\n"
     ]
    },
    {
     "name": "stderr",
     "output_type": "stream",
     "text": [
      "15.2s - loss: 1.413 - acc: 37.500: 100%|██████████| 3600/3600 [00:15<00:00, 236.34it/s]\n",
      "  0%|          | 0/3600 [00:00<?, ?it/s]"
     ]
    },
    {
     "name": "stdout",
     "output_type": "stream",
     "text": [
      "train loss: 1.329 - train acc: 48.111 - val loss: 1.396 - val acc: 44.750 - val err: 55.250\n",
      "\n",
      "Epoch: 294/500 - LR: 0.000000\n"
     ]
    },
    {
     "name": "stderr",
     "output_type": "stream",
     "text": [
      "15.1s - loss: 1.462 - acc: 50.000: 100%|██████████| 3600/3600 [00:15<00:00, 237.80it/s]\n",
      "  0%|          | 0/3600 [00:00<?, ?it/s]"
     ]
    },
    {
     "name": "stdout",
     "output_type": "stream",
     "text": [
      "train loss: 1.323 - train acc: 48.750 - val loss: 1.394 - val acc: 45.250 - val err: 54.750\n",
      "\n",
      "Epoch: 295/500 - LR: 0.000000\n"
     ]
    },
    {
     "name": "stderr",
     "output_type": "stream",
     "text": [
      "15.3s - loss: 1.065 - acc: 62.500: 100%|██████████| 3600/3600 [00:15<00:00, 235.89it/s]\n",
      "  0%|          | 0/3600 [00:00<?, ?it/s]"
     ]
    },
    {
     "name": "stdout",
     "output_type": "stream",
     "text": [
      "train loss: 1.329 - train acc: 48.889 - val loss: 1.309 - val acc: 47.250 - val err: 52.750\n",
      "\n",
      "Epoch: 296/500 - LR: 0.000000\n"
     ]
    },
    {
     "name": "stderr",
     "output_type": "stream",
     "text": [
      "15.3s - loss: 1.612 - acc: 31.250: 100%|██████████| 3600/3600 [00:15<00:00, 235.39it/s]\n",
      "  0%|          | 0/3600 [00:00<?, ?it/s]"
     ]
    },
    {
     "name": "stdout",
     "output_type": "stream",
     "text": [
      "train loss: 1.318 - train acc: 49.306 - val loss: 1.351 - val acc: 47.000 - val err: 53.000\n",
      "\n",
      "Epoch: 297/500 - LR: 0.000000\n"
     ]
    },
    {
     "name": "stderr",
     "output_type": "stream",
     "text": [
      "15.1s - loss: 1.260 - acc: 56.250: 100%|██████████| 3600/3600 [00:15<00:00, 238.18it/s]\n",
      "  0%|          | 0/3600 [00:00<?, ?it/s]"
     ]
    },
    {
     "name": "stdout",
     "output_type": "stream",
     "text": [
      "train loss: 1.330 - train acc: 48.417 - val loss: 1.414 - val acc: 46.750 - val err: 53.250\n",
      "\n",
      "Epoch: 298/500 - LR: 0.000000\n"
     ]
    },
    {
     "name": "stderr",
     "output_type": "stream",
     "text": [
      "15.2s - loss: 1.474 - acc: 62.500: 100%|██████████| 3600/3600 [00:15<00:00, 236.89it/s]\n",
      "  0%|          | 0/3600 [00:00<?, ?it/s]"
     ]
    },
    {
     "name": "stdout",
     "output_type": "stream",
     "text": [
      "train loss: 1.326 - train acc: 48.083 - val loss: 1.422 - val acc: 44.500 - val err: 55.500\n",
      "\n",
      "Epoch: 299/500 - LR: 0.000000\n"
     ]
    },
    {
     "name": "stderr",
     "output_type": "stream",
     "text": [
      "15.2s - loss: 1.084 - acc: 68.750: 100%|██████████| 3600/3600 [00:15<00:00, 237.16it/s]\n",
      "  0%|          | 0/3600 [00:00<?, ?it/s]"
     ]
    },
    {
     "name": "stdout",
     "output_type": "stream",
     "text": [
      "train loss: 1.334 - train acc: 49.056 - val loss: 1.376 - val acc: 44.250 - val err: 55.750\n",
      "\n",
      "Epoch: 300/500 - LR: 0.000000\n"
     ]
    },
    {
     "name": "stderr",
     "output_type": "stream",
     "text": [
      "15.1s - loss: 1.295 - acc: 50.000: 100%|██████████| 3600/3600 [00:15<00:00, 238.31it/s]\n",
      "  0%|          | 0/3600 [00:00<?, ?it/s]"
     ]
    },
    {
     "name": "stdout",
     "output_type": "stream",
     "text": [
      "train loss: 1.335 - train acc: 48.167 - val loss: 1.395 - val acc: 44.250 - val err: 55.750\n",
      "\n",
      "Epoch: 301/500 - LR: 0.000000\n"
     ]
    },
    {
     "name": "stderr",
     "output_type": "stream",
     "text": [
      "15.1s - loss: 1.356 - acc: 43.750: 100%|██████████| 3600/3600 [00:15<00:00, 238.55it/s]\n",
      "  0%|          | 0/3600 [00:00<?, ?it/s]"
     ]
    },
    {
     "name": "stdout",
     "output_type": "stream",
     "text": [
      "train loss: 1.331 - train acc: 48.861 - val loss: 1.374 - val acc: 46.250 - val err: 53.750\n",
      "\n",
      "Epoch: 302/500 - LR: 0.000000\n"
     ]
    },
    {
     "name": "stderr",
     "output_type": "stream",
     "text": [
      "15.2s - loss: 1.374 - acc: 43.750: 100%|██████████| 3600/3600 [00:15<00:00, 237.45it/s]\n",
      "  0%|          | 0/3600 [00:00<?, ?it/s]"
     ]
    },
    {
     "name": "stdout",
     "output_type": "stream",
     "text": [
      "train loss: 1.314 - train acc: 49.028 - val loss: 1.407 - val acc: 45.750 - val err: 54.250\n",
      "\n",
      "Epoch: 303/500 - LR: 0.000000\n"
     ]
    },
    {
     "name": "stderr",
     "output_type": "stream",
     "text": [
      "15.3s - loss: 1.270 - acc: 56.250: 100%|██████████| 3600/3600 [00:15<00:00, 235.46it/s]\n",
      "  0%|          | 0/3600 [00:00<?, ?it/s]"
     ]
    },
    {
     "name": "stdout",
     "output_type": "stream",
     "text": [
      "train loss: 1.318 - train acc: 49.194 - val loss: 1.386 - val acc: 45.750 - val err: 54.250\n",
      "\n",
      "Epoch: 304/500 - LR: 0.000000\n"
     ]
    },
    {
     "name": "stderr",
     "output_type": "stream",
     "text": [
      "15.2s - loss: 1.349 - acc: 62.500: 100%|██████████| 3600/3600 [00:15<00:00, 237.22it/s]\n",
      "  0%|          | 0/3600 [00:00<?, ?it/s]"
     ]
    },
    {
     "name": "stdout",
     "output_type": "stream",
     "text": [
      "train loss: 1.328 - train acc: 48.389 - val loss: 1.397 - val acc: 42.500 - val err: 57.500\n",
      "\n",
      "Epoch: 305/500 - LR: 0.000000\n"
     ]
    },
    {
     "name": "stderr",
     "output_type": "stream",
     "text": [
      "15.2s - loss: 1.286 - acc: 68.750: 100%|██████████| 3600/3600 [00:15<00:00, 236.50it/s]\n",
      "  0%|          | 0/3600 [00:00<?, ?it/s]"
     ]
    },
    {
     "name": "stdout",
     "output_type": "stream",
     "text": [
      "train loss: 1.343 - train acc: 48.028 - val loss: 1.369 - val acc: 45.500 - val err: 54.500\n",
      "\n",
      "Epoch: 306/500 - LR: 0.000000\n"
     ]
    },
    {
     "name": "stderr",
     "output_type": "stream",
     "text": [
      "15.1s - loss: 1.260 - acc: 43.750: 100%|██████████| 3600/3600 [00:15<00:00, 238.91it/s]\n",
      "  0%|          | 0/3600 [00:00<?, ?it/s]"
     ]
    },
    {
     "name": "stdout",
     "output_type": "stream",
     "text": [
      "train loss: 1.327 - train acc: 47.583 - val loss: 1.370 - val acc: 46.500 - val err: 53.500\n",
      "\n",
      "Epoch: 307/500 - LR: 0.000000\n"
     ]
    },
    {
     "name": "stderr",
     "output_type": "stream",
     "text": [
      "15.5s - loss: 1.676 - acc: 37.500: 100%|██████████| 3600/3600 [00:15<00:00, 232.81it/s]\n",
      "  0%|          | 0/3600 [00:00<?, ?it/s]"
     ]
    },
    {
     "name": "stdout",
     "output_type": "stream",
     "text": [
      "train loss: 1.329 - train acc: 49.000 - val loss: 1.393 - val acc: 44.500 - val err: 55.500\n",
      "\n",
      "Epoch: 308/500 - LR: 0.000000\n"
     ]
    },
    {
     "name": "stderr",
     "output_type": "stream",
     "text": [
      "15.4s - loss: 1.664 - acc: 37.500: 100%|██████████| 3600/3600 [00:15<00:00, 233.47it/s]\n",
      "  0%|          | 0/3600 [00:00<?, ?it/s]"
     ]
    },
    {
     "name": "stdout",
     "output_type": "stream",
     "text": [
      "train loss: 1.311 - train acc: 48.778 - val loss: 1.436 - val acc: 43.000 - val err: 57.000\n",
      "\n",
      "Epoch: 309/500 - LR: 0.000000\n"
     ]
    },
    {
     "name": "stderr",
     "output_type": "stream",
     "text": [
      "15.4s - loss: 1.187 - acc: 62.500: 100%|██████████| 3600/3600 [00:15<00:00, 234.47it/s]\n",
      "  0%|          | 0/3600 [00:00<?, ?it/s]"
     ]
    },
    {
     "name": "stdout",
     "output_type": "stream",
     "text": [
      "train loss: 1.321 - train acc: 49.833 - val loss: 1.338 - val acc: 49.000 - val err: 51.000\n",
      "\n",
      "Epoch: 310/500 - LR: 0.000000\n"
     ]
    },
    {
     "name": "stderr",
     "output_type": "stream",
     "text": [
      "15.3s - loss: 1.392 - acc: 37.500: 100%|██████████| 3600/3600 [00:15<00:00, 235.60it/s]\n",
      "  0%|          | 0/3600 [00:00<?, ?it/s]"
     ]
    },
    {
     "name": "stdout",
     "output_type": "stream",
     "text": [
      "train loss: 1.332 - train acc: 48.722 - val loss: 1.415 - val acc: 46.750 - val err: 53.250\n",
      "\n",
      "Epoch: 311/500 - LR: 0.000000\n"
     ]
    },
    {
     "name": "stderr",
     "output_type": "stream",
     "text": [
      "15.9s - loss: 1.207 - acc: 50.000: 100%|██████████| 3600/3600 [00:15<00:00, 226.13it/s]\n",
      "  0%|          | 0/3600 [00:00<?, ?it/s]"
     ]
    },
    {
     "name": "stdout",
     "output_type": "stream",
     "text": [
      "train loss: 1.322 - train acc: 49.417 - val loss: 1.367 - val acc: 47.750 - val err: 52.250\n",
      "\n",
      "Epoch: 312/500 - LR: 0.000000\n"
     ]
    },
    {
     "name": "stderr",
     "output_type": "stream",
     "text": [
      "15.1s - loss: 1.235 - acc: 50.000: 100%|██████████| 3600/3600 [00:15<00:00, 238.78it/s]\n",
      "  0%|          | 0/3600 [00:00<?, ?it/s]"
     ]
    },
    {
     "name": "stdout",
     "output_type": "stream",
     "text": [
      "train loss: 1.325 - train acc: 48.389 - val loss: 1.359 - val acc: 44.750 - val err: 55.250\n",
      "\n",
      "Epoch: 313/500 - LR: 0.000000\n"
     ]
    },
    {
     "name": "stderr",
     "output_type": "stream",
     "text": [
      "15.3s - loss: 1.012 - acc: 62.500: 100%|██████████| 3600/3600 [00:15<00:00, 235.85it/s]\n",
      "  0%|          | 0/3600 [00:00<?, ?it/s]"
     ]
    },
    {
     "name": "stdout",
     "output_type": "stream",
     "text": [
      "train loss: 1.320 - train acc: 48.056 - val loss: 1.384 - val acc: 44.750 - val err: 55.250\n",
      "\n",
      "Epoch: 314/500 - LR: 0.000000\n"
     ]
    },
    {
     "name": "stderr",
     "output_type": "stream",
     "text": [
      "15.0s - loss: 1.199 - acc: 62.500: 100%|██████████| 3600/3600 [00:14<00:00, 240.51it/s]\n",
      "  0%|          | 0/3600 [00:00<?, ?it/s]"
     ]
    },
    {
     "name": "stdout",
     "output_type": "stream",
     "text": [
      "train loss: 1.325 - train acc: 49.194 - val loss: 1.384 - val acc: 42.750 - val err: 57.250\n",
      "\n",
      "Epoch: 315/500 - LR: 0.000000\n"
     ]
    },
    {
     "name": "stderr",
     "output_type": "stream",
     "text": [
      "15.1s - loss: 1.019 - acc: 68.750: 100%|██████████| 3600/3600 [00:15<00:00, 238.17it/s]\n",
      "  0%|          | 0/3600 [00:00<?, ?it/s]"
     ]
    },
    {
     "name": "stdout",
     "output_type": "stream",
     "text": [
      "train loss: 1.317 - train acc: 48.444 - val loss: 1.388 - val acc: 46.750 - val err: 53.250\n",
      "\n",
      "Epoch: 316/500 - LR: 0.000000\n"
     ]
    },
    {
     "name": "stderr",
     "output_type": "stream",
     "text": [
      "15.1s - loss: 1.873 - acc: 18.750: 100%|██████████| 3600/3600 [00:15<00:00, 237.76it/s]\n",
      "  0%|          | 0/3600 [00:00<?, ?it/s]"
     ]
    },
    {
     "name": "stdout",
     "output_type": "stream",
     "text": [
      "train loss: 1.327 - train acc: 47.556 - val loss: 1.373 - val acc: 44.750 - val err: 55.250\n",
      "\n",
      "Epoch: 317/500 - LR: 0.000000\n"
     ]
    },
    {
     "name": "stderr",
     "output_type": "stream",
     "text": [
      "15.2s - loss: 1.225 - acc: 56.250: 100%|██████████| 3600/3600 [00:15<00:00, 236.94it/s]\n",
      "  0%|          | 0/3600 [00:00<?, ?it/s]"
     ]
    },
    {
     "name": "stdout",
     "output_type": "stream",
     "text": [
      "train loss: 1.321 - train acc: 49.139 - val loss: 1.440 - val acc: 41.750 - val err: 58.250\n",
      "\n",
      "Epoch: 318/500 - LR: 0.000000\n"
     ]
    },
    {
     "name": "stderr",
     "output_type": "stream",
     "text": [
      "15.2s - loss: 1.271 - acc: 56.250: 100%|██████████| 3600/3600 [00:15<00:00, 236.82it/s]\n",
      "  0%|          | 0/3600 [00:00<?, ?it/s]"
     ]
    },
    {
     "name": "stdout",
     "output_type": "stream",
     "text": [
      "train loss: 1.317 - train acc: 49.944 - val loss: 1.437 - val acc: 40.500 - val err: 59.500\n",
      "\n",
      "Epoch: 319/500 - LR: 0.000000\n"
     ]
    },
    {
     "name": "stderr",
     "output_type": "stream",
     "text": [
      "15.3s - loss: 1.379 - acc: 50.000: 100%|██████████| 3600/3600 [00:15<00:00, 234.80it/s]\n",
      "  0%|          | 0/3600 [00:00<?, ?it/s]"
     ]
    },
    {
     "name": "stdout",
     "output_type": "stream",
     "text": [
      "train loss: 1.320 - train acc: 47.667 - val loss: 1.385 - val acc: 45.500 - val err: 54.500\n",
      "\n",
      "Epoch: 320/500 - LR: 0.000000\n"
     ]
    },
    {
     "name": "stderr",
     "output_type": "stream",
     "text": [
      "15.1s - loss: 1.418 - acc: 50.000: 100%|██████████| 3600/3600 [00:15<00:00, 239.06it/s]\n",
      "  0%|          | 0/3600 [00:00<?, ?it/s]"
     ]
    },
    {
     "name": "stdout",
     "output_type": "stream",
     "text": [
      "train loss: 1.314 - train acc: 49.028 - val loss: 1.395 - val acc: 48.500 - val err: 51.500\n",
      "\n",
      "Epoch: 321/500 - LR: 0.000000\n"
     ]
    },
    {
     "name": "stderr",
     "output_type": "stream",
     "text": [
      "14.6s - loss: 1.343 - acc: 43.750: 100%|██████████| 3600/3600 [00:14<00:00, 246.34it/s]\n",
      "  0%|          | 0/3600 [00:00<?, ?it/s]"
     ]
    },
    {
     "name": "stdout",
     "output_type": "stream",
     "text": [
      "train loss: 1.312 - train acc: 49.611 - val loss: 1.336 - val acc: 48.750 - val err: 51.250\n",
      "\n",
      "Epoch: 322/500 - LR: 0.000000\n"
     ]
    },
    {
     "name": "stderr",
     "output_type": "stream",
     "text": [
      "15.3s - loss: 1.271 - acc: 50.000: 100%|██████████| 3600/3600 [00:15<00:00, 235.90it/s]\n",
      "  0%|          | 0/3600 [00:00<?, ?it/s]"
     ]
    },
    {
     "name": "stdout",
     "output_type": "stream",
     "text": [
      "train loss: 1.331 - train acc: 47.667 - val loss: 1.419 - val acc: 42.750 - val err: 57.250\n",
      "\n",
      "Epoch: 323/500 - LR: 0.000000\n"
     ]
    },
    {
     "name": "stderr",
     "output_type": "stream",
     "text": [
      "15.5s - loss: 1.423 - acc: 50.000: 100%|██████████| 3600/3600 [00:15<00:00, 231.83it/s]\n",
      "  0%|          | 0/3600 [00:00<?, ?it/s]"
     ]
    },
    {
     "name": "stdout",
     "output_type": "stream",
     "text": [
      "train loss: 1.326 - train acc: 48.722 - val loss: 1.377 - val acc: 43.500 - val err: 56.500\n",
      "\n",
      "Epoch: 324/500 - LR: 0.000000\n"
     ]
    },
    {
     "name": "stderr",
     "output_type": "stream",
     "text": [
      "15.4s - loss: 1.320 - acc: 43.750: 100%|██████████| 3600/3600 [00:15<00:00, 233.09it/s]\n",
      "  0%|          | 0/3600 [00:00<?, ?it/s]"
     ]
    },
    {
     "name": "stdout",
     "output_type": "stream",
     "text": [
      "train loss: 1.318 - train acc: 49.306 - val loss: 1.428 - val acc: 43.500 - val err: 56.500\n",
      "\n",
      "Epoch: 325/500 - LR: 0.000000\n"
     ]
    },
    {
     "name": "stderr",
     "output_type": "stream",
     "text": [
      "15.2s - loss: 1.495 - acc: 37.500: 100%|██████████| 3600/3600 [00:15<00:00, 237.61it/s]\n",
      "  0%|          | 0/3600 [00:00<?, ?it/s]"
     ]
    },
    {
     "name": "stdout",
     "output_type": "stream",
     "text": [
      "train loss: 1.321 - train acc: 49.528 - val loss: 1.348 - val acc: 45.750 - val err: 54.250\n",
      "\n",
      "Epoch: 326/500 - LR: 0.000000\n"
     ]
    },
    {
     "name": "stderr",
     "output_type": "stream",
     "text": [
      "15.4s - loss: 1.551 - acc: 43.750: 100%|██████████| 3600/3600 [00:15<00:00, 233.68it/s]\n",
      "  0%|          | 0/3600 [00:00<?, ?it/s]"
     ]
    },
    {
     "name": "stdout",
     "output_type": "stream",
     "text": [
      "train loss: 1.312 - train acc: 49.778 - val loss: 1.362 - val acc: 47.250 - val err: 52.750\n",
      "\n",
      "Epoch: 327/500 - LR: 0.000000\n"
     ]
    },
    {
     "name": "stderr",
     "output_type": "stream",
     "text": [
      "15.4s - loss: 1.433 - acc: 37.500: 100%|██████████| 3600/3600 [00:15<00:00, 233.46it/s]\n",
      "  0%|          | 0/3600 [00:00<?, ?it/s]"
     ]
    },
    {
     "name": "stdout",
     "output_type": "stream",
     "text": [
      "train loss: 1.329 - train acc: 48.500 - val loss: 1.395 - val acc: 46.750 - val err: 53.250\n",
      "\n",
      "Epoch: 328/500 - LR: 0.000000\n"
     ]
    },
    {
     "name": "stderr",
     "output_type": "stream",
     "text": [
      "14.9s - loss: 1.477 - acc: 37.500: 100%|██████████| 3600/3600 [00:14<00:00, 242.15it/s]\n",
      "  0%|          | 0/3600 [00:00<?, ?it/s]"
     ]
    },
    {
     "name": "stdout",
     "output_type": "stream",
     "text": [
      "train loss: 1.327 - train acc: 48.750 - val loss: 1.377 - val acc: 47.500 - val err: 52.500\n",
      "\n",
      "Epoch: 329/500 - LR: 0.000000\n"
     ]
    },
    {
     "name": "stderr",
     "output_type": "stream",
     "text": [
      "15.2s - loss: 1.454 - acc: 25.000: 100%|██████████| 3600/3600 [00:15<00:00, 237.23it/s]\n",
      "  0%|          | 0/3600 [00:00<?, ?it/s]"
     ]
    },
    {
     "name": "stdout",
     "output_type": "stream",
     "text": [
      "train loss: 1.336 - train acc: 48.444 - val loss: 1.347 - val acc: 46.000 - val err: 54.000\n",
      "\n",
      "Epoch: 330/500 - LR: 0.000000\n"
     ]
    },
    {
     "name": "stderr",
     "output_type": "stream",
     "text": [
      "15.2s - loss: 1.309 - acc: 62.500: 100%|██████████| 3600/3600 [00:15<00:00, 237.54it/s]\n",
      "  0%|          | 0/3600 [00:00<?, ?it/s]"
     ]
    },
    {
     "name": "stdout",
     "output_type": "stream",
     "text": [
      "train loss: 1.323 - train acc: 48.833 - val loss: 1.347 - val acc: 45.000 - val err: 55.000\n",
      "\n",
      "Epoch: 331/500 - LR: 0.000000\n"
     ]
    },
    {
     "name": "stderr",
     "output_type": "stream",
     "text": [
      "15.0s - loss: 1.463 - acc: 50.000: 100%|██████████| 3600/3600 [00:15<00:00, 239.39it/s]\n",
      "  0%|          | 0/3600 [00:00<?, ?it/s]"
     ]
    },
    {
     "name": "stdout",
     "output_type": "stream",
     "text": [
      "train loss: 1.329 - train acc: 48.000 - val loss: 1.373 - val acc: 48.000 - val err: 52.000\n",
      "\n",
      "Epoch: 332/500 - LR: 0.000000\n"
     ]
    },
    {
     "name": "stderr",
     "output_type": "stream",
     "text": [
      "15.1s - loss: 1.585 - acc: 37.500: 100%|██████████| 3600/3600 [00:15<00:00, 238.44it/s]\n",
      "  0%|          | 0/3600 [00:00<?, ?it/s]"
     ]
    },
    {
     "name": "stdout",
     "output_type": "stream",
     "text": [
      "train loss: 1.339 - train acc: 48.861 - val loss: 1.400 - val acc: 44.250 - val err: 55.750\n",
      "\n",
      "Epoch: 333/500 - LR: 0.000000\n"
     ]
    },
    {
     "name": "stderr",
     "output_type": "stream",
     "text": [
      "15.1s - loss: 1.670 - acc: 37.500: 100%|██████████| 3600/3600 [00:15<00:00, 237.71it/s]\n",
      "  0%|          | 0/3600 [00:00<?, ?it/s]"
     ]
    },
    {
     "name": "stdout",
     "output_type": "stream",
     "text": [
      "train loss: 1.326 - train acc: 48.222 - val loss: 1.365 - val acc: 46.500 - val err: 53.500\n",
      "\n",
      "Epoch: 334/500 - LR: 0.000000\n"
     ]
    },
    {
     "name": "stderr",
     "output_type": "stream",
     "text": [
      "15.5s - loss: 1.165 - acc: 68.750: 100%|██████████| 3600/3600 [00:15<00:00, 232.46it/s]\n",
      "  0%|          | 0/3600 [00:00<?, ?it/s]"
     ]
    },
    {
     "name": "stdout",
     "output_type": "stream",
     "text": [
      "train loss: 1.317 - train acc: 48.944 - val loss: 1.401 - val acc: 47.250 - val err: 52.750\n",
      "\n",
      "Epoch: 335/500 - LR: 0.000000\n"
     ]
    },
    {
     "name": "stderr",
     "output_type": "stream",
     "text": [
      "15.2s - loss: 1.550 - acc: 50.000: 100%|██████████| 3600/3600 [00:15<00:00, 237.21it/s]\n",
      "  0%|          | 0/3600 [00:00<?, ?it/s]"
     ]
    },
    {
     "name": "stdout",
     "output_type": "stream",
     "text": [
      "train loss: 1.316 - train acc: 50.000 - val loss: 1.420 - val acc: 43.000 - val err: 57.000\n",
      "\n",
      "Epoch: 336/500 - LR: 0.000000\n"
     ]
    },
    {
     "name": "stderr",
     "output_type": "stream",
     "text": [
      "15.0s - loss: 1.313 - acc: 56.250: 100%|██████████| 3600/3600 [00:15<00:00, 239.26it/s]\n",
      "  0%|          | 0/3600 [00:00<?, ?it/s]"
     ]
    },
    {
     "name": "stdout",
     "output_type": "stream",
     "text": [
      "train loss: 1.331 - train acc: 47.694 - val loss: 1.351 - val acc: 46.000 - val err: 54.000\n",
      "\n",
      "Epoch: 337/500 - LR: 0.000000\n"
     ]
    },
    {
     "name": "stderr",
     "output_type": "stream",
     "text": [
      "15.0s - loss: 1.320 - acc: 37.500: 100%|██████████| 3600/3600 [00:15<00:00, 239.51it/s]\n",
      "  0%|          | 0/3600 [00:00<?, ?it/s]"
     ]
    },
    {
     "name": "stdout",
     "output_type": "stream",
     "text": [
      "train loss: 1.327 - train acc: 48.917 - val loss: 1.363 - val acc: 45.750 - val err: 54.250\n",
      "\n",
      "Epoch: 338/500 - LR: 0.000000\n"
     ]
    },
    {
     "name": "stderr",
     "output_type": "stream",
     "text": [
      "15.0s - loss: 1.176 - acc: 50.000: 100%|██████████| 3600/3600 [00:15<00:00, 239.51it/s]\n"
     ]
    },
    {
     "name": "stdout",
     "output_type": "stream",
     "text": [
      "train loss: 1.329 - train acc: 48.611 - val loss: 1.376 - val acc: 42.500 - val err: 57.500\n",
      "[!] No improvement in a while, stopping training.\n"
     ]
    }
   ],
   "source": [
    "main(global_config)"
   ]
  },
  {
   "cell_type": "raw",
   "metadata": {},
   "source": [
    "import pickle\n",
    "import argparse\n",
    "import numpy as np\n",
    "import matplotlib.pyplot as plt\n",
    "import matplotlib.animation as animation\n",
    "\n",
    "plot_dir = \"./plots/\" + global_config.model_name + \"/\"\n",
    "epoch = 1\n",
    "\n",
    "\n",
    "# read in pickle files\n",
    "glimpses = pickle.load(open(plot_dir + \"g_{}.p\".format(epoch), \"rb\"))\n",
    "locations = pickle.load(open(plot_dir + \"l_{}.p\".format(epoch), \"rb\"))\n",
    "\n",
    "glimpses = np.concatenate(glimpses)\n",
    "\n",
    "# grab useful params\n",
    "size = int(plot_dir.split(\"_\")[2].split(\"x\")[0])\n",
    "num_anims = len(locations)\n",
    "num_cols = glimpses.shape[0]\n",
    "img_shape = glimpses.shape[1]\n",
    "\n",
    "# denormalize coordinates\n",
    "coords = [denormalize(img_shape, l) for l in locations]\n",
    "\n",
    "fig, axs = plt.subplots(nrows=1, ncols=num_cols)\n",
    "\n",
    "\n",
    "fig.set_dpi(100)\n",
    "\n",
    "# plot base image\n",
    "for j, ax in enumerate(axs.flat):\n",
    "    ax.imshow(glimpses[j], cmap=\"Greys_r\")\n",
    "    ax.get_xaxis().set_visible(False)\n",
    "    ax.get_yaxis().set_visible(False)\n",
    "    \n",
    "    \n",
    "def updateData(i):\n",
    "    color = \"r\"\n",
    "    co = coords[i]\n",
    "    for j, ax in enumerate(axs.flat):\n",
    "        for p in ax.patches:\n",
    "            p.remove()\n",
    "        c = co[j]\n",
    "        rect = bounding_box(c[0], c[1], size, color)\n",
    "        ax.add_patch(rect)\n",
    "\n",
    "# animate\n",
    "anim = animation.FuncAnimation(\n",
    "    fig, updateData, frames=num_anims, interval=500, repeat=True\n",
    ")"
   ]
  },
  {
   "cell_type": "raw",
   "metadata": {},
   "source": [
    "from IPython.display import HTML\n",
    "HTML(anim.to_html5_video()) "
   ]
  },
  {
   "cell_type": "code",
   "execution_count": 23,
   "metadata": {},
   "outputs": [],
   "source": [
    "#\n",
    "#inp = torch.arange(60*60*5.0).reshape(5,1,60,60)\n",
    "#locs = torch.zeros((5,2))\n",
    "#inp = torch.ones((5,1,60,60))\n",
    "#locs = torch.zeros((5,2))\n",
    "#GlimpseNetwork(100,50,12,2,4,1).forward(inp, locs)"
   ]
  },
  {
   "cell_type": "code",
   "execution_count": 24,
   "metadata": {},
   "outputs": [
    {
     "data": {
      "text/plain": [
       "400"
      ]
     },
     "execution_count": 24,
     "metadata": {},
     "output_type": "execute_result"
    }
   ],
   "source": [
    "len(locator.dataset_dict[DatasetType.TEST].data)"
   ]
  },
  {
   "cell_type": "code",
   "execution_count": 25,
   "metadata": {},
   "outputs": [],
   "source": [
    "train_loader = locator.data_loader(DatasetType.TRAIN)"
   ]
  },
  {
   "cell_type": "code",
   "execution_count": 26,
   "metadata": {},
   "outputs": [
    {
     "data": {
      "text/plain": [
       "3600"
      ]
     },
     "execution_count": 26,
     "metadata": {},
     "output_type": "execute_result"
    }
   ],
   "source": [
    "len(train_loader.dataset)"
   ]
  },
  {
   "cell_type": "code",
   "execution_count": 27,
   "metadata": {},
   "outputs": [
    {
     "name": "stdout",
     "output_type": "stream",
     "text": [
      "[*] Loading model from ./ckpt\n",
      "[*] Loaded ram_10_8x8_8_model_best.pth.tar checkpoint @ epoch 187 with best valid acc of 51.250\n"
     ]
    },
    {
     "ename": "AttributeError",
     "evalue": "'Trainer' object has no attribute 'test_loader'",
     "output_type": "error",
     "traceback": [
      "\u001b[0;31m---------------------------------------------------------------------------\u001b[0m",
      "\u001b[0;31mAttributeError\u001b[0m                            Traceback (most recent call last)",
      "\u001b[0;32m<ipython-input-27-189d49efe13a>\u001b[0m in \u001b[0;36m<module>\u001b[0;34m\u001b[0m\n\u001b[1;32m     10\u001b[0m \u001b[0;34m\u001b[0m\u001b[0m\n\u001b[1;32m     11\u001b[0m \u001b[0mtrainer\u001b[0m \u001b[0;34m=\u001b[0m \u001b[0mTrainer\u001b[0m\u001b[0;34m(\u001b[0m\u001b[0mglobal_config\u001b[0m\u001b[0;34m,\u001b[0m \u001b[0mdloader\u001b[0m\u001b[0;34m)\u001b[0m\u001b[0;34m\u001b[0m\u001b[0;34m\u001b[0m\u001b[0m\n\u001b[0;32m---> 12\u001b[0;31m \u001b[0mpredictions\u001b[0m \u001b[0;34m=\u001b[0m \u001b[0mtrainer\u001b[0m\u001b[0;34m.\u001b[0m\u001b[0mtest\u001b[0m\u001b[0;34m(\u001b[0m\u001b[0;34m)\u001b[0m\u001b[0;34m\u001b[0m\u001b[0;34m\u001b[0m\u001b[0m\n\u001b[0m\u001b[1;32m     13\u001b[0m \u001b[0mpredictions\u001b[0m \u001b[0;34m=\u001b[0m \u001b[0mnp\u001b[0m\u001b[0;34m.\u001b[0m\u001b[0mvstack\u001b[0m\u001b[0;34m(\u001b[0m\u001b[0;34m[\u001b[0m\u001b[0mp\u001b[0m\u001b[0;34m.\u001b[0m\u001b[0mnumpy\u001b[0m\u001b[0;34m(\u001b[0m\u001b[0;34m)\u001b[0m \u001b[0;32mfor\u001b[0m \u001b[0mp\u001b[0m \u001b[0;32min\u001b[0m \u001b[0mpredictions\u001b[0m\u001b[0;34m]\u001b[0m\u001b[0;34m)\u001b[0m\u001b[0;34m.\u001b[0m\u001b[0mflatten\u001b[0m\u001b[0;34m(\u001b[0m\u001b[0;34m)\u001b[0m\u001b[0;34m\u001b[0m\u001b[0;34m\u001b[0m\u001b[0m\n\u001b[1;32m     14\u001b[0m \u001b[0;31m#c = np.sum(locator.dataset_dict[DatasetType.TEST].labels == predictions)/2000 should be same as acc\u001b[0m\u001b[0;34m\u001b[0m\u001b[0;34m\u001b[0m\u001b[0;34m\u001b[0m\u001b[0m\n",
      "\u001b[0;32m/usr/local/anaconda3/envs/dv3c/lib/python3.8/site-packages/torch/autograd/grad_mode.py\u001b[0m in \u001b[0;36mdecorate_context\u001b[0;34m(*args, **kwargs)\u001b[0m\n\u001b[1;32m     13\u001b[0m         \u001b[0;32mdef\u001b[0m \u001b[0mdecorate_context\u001b[0m\u001b[0;34m(\u001b[0m\u001b[0;34m*\u001b[0m\u001b[0margs\u001b[0m\u001b[0;34m,\u001b[0m \u001b[0;34m**\u001b[0m\u001b[0mkwargs\u001b[0m\u001b[0;34m)\u001b[0m\u001b[0;34m:\u001b[0m\u001b[0;34m\u001b[0m\u001b[0;34m\u001b[0m\u001b[0m\n\u001b[1;32m     14\u001b[0m             \u001b[0;32mwith\u001b[0m \u001b[0mself\u001b[0m\u001b[0;34m:\u001b[0m\u001b[0;34m\u001b[0m\u001b[0;34m\u001b[0m\u001b[0m\n\u001b[0;32m---> 15\u001b[0;31m                 \u001b[0;32mreturn\u001b[0m \u001b[0mfunc\u001b[0m\u001b[0;34m(\u001b[0m\u001b[0;34m*\u001b[0m\u001b[0margs\u001b[0m\u001b[0;34m,\u001b[0m \u001b[0;34m**\u001b[0m\u001b[0mkwargs\u001b[0m\u001b[0;34m)\u001b[0m\u001b[0;34m\u001b[0m\u001b[0;34m\u001b[0m\u001b[0m\n\u001b[0m\u001b[1;32m     16\u001b[0m         \u001b[0;32mreturn\u001b[0m \u001b[0mdecorate_context\u001b[0m\u001b[0;34m\u001b[0m\u001b[0;34m\u001b[0m\u001b[0m\n\u001b[1;32m     17\u001b[0m \u001b[0;34m\u001b[0m\u001b[0m\n",
      "\u001b[0;32m<ipython-input-20-1def1a6e451d>\u001b[0m in \u001b[0;36mtest\u001b[0;34m(self)\u001b[0m\n\u001b[1;32m    391\u001b[0m         \u001b[0mself\u001b[0m\u001b[0;34m.\u001b[0m\u001b[0mload_checkpoint\u001b[0m\u001b[0;34m(\u001b[0m\u001b[0mbest\u001b[0m\u001b[0;34m=\u001b[0m\u001b[0mself\u001b[0m\u001b[0;34m.\u001b[0m\u001b[0mbest\u001b[0m\u001b[0;34m)\u001b[0m\u001b[0;34m\u001b[0m\u001b[0;34m\u001b[0m\u001b[0m\n\u001b[1;32m    392\u001b[0m \u001b[0;34m\u001b[0m\u001b[0m\n\u001b[0;32m--> 393\u001b[0;31m         \u001b[0;32mfor\u001b[0m \u001b[0mi\u001b[0m\u001b[0;34m,\u001b[0m \u001b[0;34m(\u001b[0m\u001b[0mx\u001b[0m\u001b[0;34m,\u001b[0m \u001b[0my\u001b[0m\u001b[0;34m)\u001b[0m \u001b[0;32min\u001b[0m \u001b[0menumerate\u001b[0m\u001b[0;34m(\u001b[0m\u001b[0mself\u001b[0m\u001b[0;34m.\u001b[0m\u001b[0mtest_loader\u001b[0m\u001b[0;34m)\u001b[0m\u001b[0;34m:\u001b[0m\u001b[0;34m\u001b[0m\u001b[0;34m\u001b[0m\u001b[0m\n\u001b[0m\u001b[1;32m    394\u001b[0m             \u001b[0mx\u001b[0m\u001b[0;34m,\u001b[0m \u001b[0my\u001b[0m \u001b[0;34m=\u001b[0m \u001b[0mx\u001b[0m\u001b[0;34m.\u001b[0m\u001b[0mto\u001b[0m\u001b[0;34m(\u001b[0m\u001b[0mself\u001b[0m\u001b[0;34m.\u001b[0m\u001b[0mdevice\u001b[0m\u001b[0;34m)\u001b[0m\u001b[0;34m,\u001b[0m \u001b[0my\u001b[0m\u001b[0;34m.\u001b[0m\u001b[0mto\u001b[0m\u001b[0;34m(\u001b[0m\u001b[0mself\u001b[0m\u001b[0;34m.\u001b[0m\u001b[0mdevice\u001b[0m\u001b[0;34m)\u001b[0m\u001b[0;34m\u001b[0m\u001b[0;34m\u001b[0m\u001b[0m\n\u001b[1;32m    395\u001b[0m \u001b[0;34m\u001b[0m\u001b[0m\n",
      "\u001b[0;31mAttributeError\u001b[0m: 'Trainer' object has no attribute 'test_loader'"
     ]
    }
   ],
   "source": [
    "\n",
    "prepare_dirs(global_config)\n",
    "\n",
    "# instantiate data loaders\n",
    "if global_config.is_train:\n",
    "    train_loader = locator.data_loader(DatasetType.TRAIN)\n",
    "    valid_loader = locator.data_loader(DatasetType.VALID)\n",
    "    dloader = (train_loader,valid_loader)\n",
    "else:\n",
    "    dloader = locator.data_loader(DatasetType.TEST)\n",
    "\n",
    "trainer = Trainer(global_config, dloader)\n",
    "predictions = trainer.test()\n",
    "predictions = np.vstack([p.numpy() for p in predictions]).flatten()\n",
    "#c = np.sum(locator.dataset_dict[DatasetType.TEST].labels == predictions)/2000 should be same as acc"
   ]
  },
  {
   "cell_type": "markdown",
   "metadata": {},
   "source": [
    "data = locator.dataset_dict[DatasetType.TEST].data\n",
    "labels = locator.dataset_dict[DatasetType.TEST].labels\n",
    "source_images = locator.dataset_dict[DatasetType.TEST].source_images\n",
    "correct = labels == predictions\n",
    "correct_counts = np.bincount(labels[correct])\n",
    "\n",
    "wrong = labels != predictions\n",
    "wrong_counts = np.bincount(labels[wrong])"
   ]
  },
  {
   "cell_type": "markdown",
   "metadata": {},
   "source": [
    "class_labels = ['0', '1', '2', '3+']\n",
    "width = 0.35\n",
    "fig, ax = plt.subplots()\n",
    "\n",
    "ax.bar(class_labels, correct_counts, width, label='Correct',color =\"b\")\n",
    "ax.bar(class_labels, wrong_counts, width, bottom=correct_counts,\n",
    "       label='Wrong', color=\"r\")\n",
    "\n",
    "ax.set_ylabel('N')\n",
    "ax.set_title('Predictions per number of cells (classes)')\n",
    "ax.legend()\n",
    "\n",
    "plt.show()"
   ]
  },
  {
   "cell_type": "markdown",
   "metadata": {},
   "source": [
    "def show_big(i):\n",
    "    fig, axes = plt.subplots(1,1,figsize=(25,25) )\n",
    "    axes.imshow(data[i][0], cmap=plt.cm.gray)\n",
    "    axes.set_title(labels[i])\n",
    "    \n",
    "def show_one(i):\n",
    "    sis = source_images[i]\n",
    "    n_sis = sis.shape[0]\n",
    "    if(n_sis == 0):        \n",
    "        plt.imshow(data[i][0], cmap=plt.cm.gray)\n",
    "        plt.title(labels[i])\n",
    "    else:\n",
    "        fig, axes = plt.subplots(1,n_sis+1,figsize=(25,25) )\n",
    "        axes[0].imshow(data[i][0], cmap=plt.cm.gray)\n",
    "        axes[0].set_title(labels[i])\n",
    "        for i, si in enumerate(sis):\n",
    "            axes[i+1].imshow(si[0], cmap=plt.cm.gray)\n",
    "    plt.show()"
   ]
  },
  {
   "cell_type": "markdown",
   "metadata": {},
   "source": [
    "show_big(997)\n",
    "show_one(997)"
   ]
  }
 ],
 "metadata": {
  "kernelspec": {
   "display_name": "Python 3",
   "language": "python",
   "name": "python3"
  },
  "language_info": {
   "codemirror_mode": {
    "name": "ipython",
    "version": 3
   },
   "file_extension": ".py",
   "mimetype": "text/x-python",
   "name": "python",
   "nbconvert_exporter": "python",
   "pygments_lexer": "ipython3",
   "version": "3.8.2"
  }
 },
 "nbformat": 4,
 "nbformat_minor": 4
}
